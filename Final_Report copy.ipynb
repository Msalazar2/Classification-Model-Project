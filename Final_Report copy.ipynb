{
 "cells": [
  {
   "cell_type": "markdown",
   "id": "703fa4a9",
   "metadata": {},
   "source": [
    "## Customer churn at Telco"
   ]
  },
  {
   "cell_type": "markdown",
   "id": "bc82d138",
   "metadata": {},
   "source": [
    "## Goal:\n",
    "* Discover features driving customer churn.\n",
    "* Build a classification model with those features to predict churn using new data."
   ]
  },
  {
   "cell_type": "markdown",
   "id": "b85e6aae",
   "metadata": {},
   "source": [
    "## Imports"
   ]
  },
  {
   "cell_type": "code",
   "execution_count": 1,
   "id": "9ec97e68",
   "metadata": {},
   "outputs": [],
   "source": [
    "#Import libraries, built modules and functions.\n",
    "\n",
    "import pandas as pd\n",
    "import seaborn as sns\n",
    "import matplotlib.pyplot as plt\n",
    "import preprocess as p\n",
    "import explore as e\n",
    "import modeling as m\n",
    "\n",
    "from sklearn.neighbors import KNeighborsClassifier\n",
    "from sklearn.tree import DecisionTreeClassifier, plot_tree\n",
    "from sklearn.ensemble import RandomForestClassifier\n",
    "from sklearn.metrics import classification_report\n",
    "from sklearn.metrics import confusion_matrix\n",
    "from scipy import stats\n",
    "from sklearn.model_selection import train_test_split\n",
    "from acquire import get_telco_data\n",
    "from env import get_connection\n",
    "from prep import telco_pipeline\n"
   ]
  },
  {
   "cell_type": "markdown",
   "id": "66101e8d",
   "metadata": {},
   "source": [
    "## Acquire"
   ]
  },
  {
   "cell_type": "markdown",
   "id": "dfa7e27d",
   "metadata": {},
   "source": [
    "* Data acquired from Codeup's MySQL server\n",
    "* Initial shape was (7043, 26)\n",
    "* Each row represents customer information\n",
    "* Each column represents a feature of the customers."
   ]
  },
  {
   "cell_type": "markdown",
   "id": "cb2c61ee",
   "metadata": {},
   "source": [
    "---"
   ]
  },
  {
   "cell_type": "markdown",
   "id": "8a13d26a",
   "metadata": {},
   "source": [
    "## 2. Prepare"
   ]
  },
  {
   "cell_type": "markdown",
   "id": "564d37fa",
   "metadata": {},
   "source": [
    "* Checked for null values & found 5,174 in churn_month\n",
    "* Dropped purposeless columns \n",
    "* Removed white space and added a 0 to total_charges column\n",
    "* Casted total_charges column data type to float\n",
    "* Split data (70%, 15%, 15%)"
   ]
  },
  {
   "cell_type": "markdown",
   "id": "0071c705",
   "metadata": {},
   "source": [
    "## Data dictionary\n",
    "\n",
    "|Feature|Definition|\n",
    "|:-------|:----------|\n",
    "|gender|customer gender|\n",
    "|contract_type|The type of contract the customer has agreed to|\n",
    "|paperless_billing|Whether the customer utilizes paperless billing or not|\n",
    "|senior_citizen|Whether or not customer is a senior citizen|\n",
    "|partner| Whether or not the customer has a partner|\n",
    "|dependents| Whether or not the customer has dependents|\n",
    "|monthly_charges| How much the customers pays for service monthly|\t\n",
    "|multiple_lines| Whether or not the customer has multiple lines|\t\n",
    "|online_security| Whether or not the customer has online security|\t\n",
    "|online_backup| Whether or not the customer has online backup|\n",
    "|device_protection| Whether or not the customer has device protection|\n",
    "|tech_support| Whether or not the customer has tech support|\t\n",
    "|streaming_tv| Whether or not the customer streams tv|\n",
    "|streaming_movies| Whether or not the customer streams movies or not|\t\n",
    "|internet_service_type| Type of internet service the customer has|\n",
    "|payment_type| Type of payment the customer uses|"
   ]
  },
  {
   "cell_type": "code",
   "execution_count": 2,
   "id": "d6af0c3e",
   "metadata": {},
   "outputs": [
    {
     "name": "stdout",
     "output_type": "stream",
     "text": [
      "found data\n"
     ]
    },
    {
     "data": {
      "text/html": [
       "<div>\n",
       "<style scoped>\n",
       "    .dataframe tbody tr th:only-of-type {\n",
       "        vertical-align: middle;\n",
       "    }\n",
       "\n",
       "    .dataframe tbody tr th {\n",
       "        vertical-align: top;\n",
       "    }\n",
       "\n",
       "    .dataframe thead th {\n",
       "        text-align: right;\n",
       "    }\n",
       "</style>\n",
       "<table border=\"1\" class=\"dataframe\">\n",
       "  <thead>\n",
       "    <tr style=\"text-align: right;\">\n",
       "      <th></th>\n",
       "      <th>gender</th>\n",
       "      <th>senior_citizen</th>\n",
       "      <th>partner</th>\n",
       "      <th>dependents</th>\n",
       "      <th>tenure</th>\n",
       "      <th>phone_service</th>\n",
       "      <th>multiple_lines</th>\n",
       "      <th>online_security</th>\n",
       "      <th>online_backup</th>\n",
       "      <th>device_protection</th>\n",
       "      <th>tech_support</th>\n",
       "      <th>streaming_tv</th>\n",
       "      <th>streaming_movies</th>\n",
       "      <th>paperless_billing</th>\n",
       "      <th>monthly_charges</th>\n",
       "      <th>total_charges</th>\n",
       "      <th>churn</th>\n",
       "      <th>payment_type</th>\n",
       "      <th>contract_type</th>\n",
       "      <th>internet_service_type</th>\n",
       "    </tr>\n",
       "  </thead>\n",
       "  <tbody>\n",
       "    <tr>\n",
       "      <th>5609</th>\n",
       "      <td>Male</td>\n",
       "      <td>0</td>\n",
       "      <td>No</td>\n",
       "      <td>No</td>\n",
       "      <td>14</td>\n",
       "      <td>Yes</td>\n",
       "      <td>No</td>\n",
       "      <td>No</td>\n",
       "      <td>No</td>\n",
       "      <td>Yes</td>\n",
       "      <td>No</td>\n",
       "      <td>No</td>\n",
       "      <td>No</td>\n",
       "      <td>No</td>\n",
       "      <td>76.45</td>\n",
       "      <td>1117.55</td>\n",
       "      <td>No</td>\n",
       "      <td>Electronic check</td>\n",
       "      <td>Month-to-month</td>\n",
       "      <td>Fiber optic</td>\n",
       "    </tr>\n",
       "    <tr>\n",
       "      <th>2209</th>\n",
       "      <td>Male</td>\n",
       "      <td>0</td>\n",
       "      <td>No</td>\n",
       "      <td>No</td>\n",
       "      <td>5</td>\n",
       "      <td>Yes</td>\n",
       "      <td>No</td>\n",
       "      <td>No</td>\n",
       "      <td>No</td>\n",
       "      <td>Yes</td>\n",
       "      <td>No</td>\n",
       "      <td>Yes</td>\n",
       "      <td>Yes</td>\n",
       "      <td>Yes</td>\n",
       "      <td>70.00</td>\n",
       "      <td>347.40</td>\n",
       "      <td>Yes</td>\n",
       "      <td>Mailed check</td>\n",
       "      <td>One year</td>\n",
       "      <td>DSL</td>\n",
       "    </tr>\n",
       "    <tr>\n",
       "      <th>6919</th>\n",
       "      <td>Male</td>\n",
       "      <td>0</td>\n",
       "      <td>Yes</td>\n",
       "      <td>No</td>\n",
       "      <td>35</td>\n",
       "      <td>Yes</td>\n",
       "      <td>Yes</td>\n",
       "      <td>No</td>\n",
       "      <td>No</td>\n",
       "      <td>No</td>\n",
       "      <td>No</td>\n",
       "      <td>No</td>\n",
       "      <td>No</td>\n",
       "      <td>Yes</td>\n",
       "      <td>75.20</td>\n",
       "      <td>2576.20</td>\n",
       "      <td>Yes</td>\n",
       "      <td>Electronic check</td>\n",
       "      <td>Month-to-month</td>\n",
       "      <td>Fiber optic</td>\n",
       "    </tr>\n",
       "    <tr>\n",
       "      <th>2284</th>\n",
       "      <td>Male</td>\n",
       "      <td>0</td>\n",
       "      <td>Yes</td>\n",
       "      <td>No</td>\n",
       "      <td>58</td>\n",
       "      <td>Yes</td>\n",
       "      <td>Yes</td>\n",
       "      <td>Yes</td>\n",
       "      <td>Yes</td>\n",
       "      <td>Yes</td>\n",
       "      <td>No</td>\n",
       "      <td>Yes</td>\n",
       "      <td>Yes</td>\n",
       "      <td>Yes</td>\n",
       "      <td>86.10</td>\n",
       "      <td>4890.50</td>\n",
       "      <td>No</td>\n",
       "      <td>Electronic check</td>\n",
       "      <td>Two year</td>\n",
       "      <td>DSL</td>\n",
       "    </tr>\n",
       "    <tr>\n",
       "      <th>845</th>\n",
       "      <td>Female</td>\n",
       "      <td>0</td>\n",
       "      <td>No</td>\n",
       "      <td>No</td>\n",
       "      <td>2</td>\n",
       "      <td>Yes</td>\n",
       "      <td>No</td>\n",
       "      <td>No</td>\n",
       "      <td>Yes</td>\n",
       "      <td>No</td>\n",
       "      <td>No</td>\n",
       "      <td>No</td>\n",
       "      <td>No</td>\n",
       "      <td>Yes</td>\n",
       "      <td>49.60</td>\n",
       "      <td>114.70</td>\n",
       "      <td>Yes</td>\n",
       "      <td>Mailed check</td>\n",
       "      <td>Month-to-month</td>\n",
       "      <td>DSL</td>\n",
       "    </tr>\n",
       "  </tbody>\n",
       "</table>\n",
       "</div>"
      ],
      "text/plain": [
       "      gender  senior_citizen partner dependents  tenure phone_service  \\\n",
       "5609    Male               0      No         No      14           Yes   \n",
       "2209    Male               0      No         No       5           Yes   \n",
       "6919    Male               0     Yes         No      35           Yes   \n",
       "2284    Male               0     Yes         No      58           Yes   \n",
       "845   Female               0      No         No       2           Yes   \n",
       "\n",
       "     multiple_lines online_security online_backup device_protection  \\\n",
       "5609             No              No            No               Yes   \n",
       "2209             No              No            No               Yes   \n",
       "6919            Yes              No            No                No   \n",
       "2284            Yes             Yes           Yes               Yes   \n",
       "845              No              No           Yes                No   \n",
       "\n",
       "     tech_support streaming_tv streaming_movies paperless_billing  \\\n",
       "5609           No           No               No                No   \n",
       "2209           No          Yes              Yes               Yes   \n",
       "6919           No           No               No               Yes   \n",
       "2284           No          Yes              Yes               Yes   \n",
       "845            No           No               No               Yes   \n",
       "\n",
       "      monthly_charges  total_charges churn      payment_type   contract_type  \\\n",
       "5609            76.45        1117.55    No  Electronic check  Month-to-month   \n",
       "2209            70.00         347.40   Yes      Mailed check        One year   \n",
       "6919            75.20        2576.20   Yes  Electronic check  Month-to-month   \n",
       "2284            86.10        4890.50    No  Electronic check        Two year   \n",
       "845             49.60         114.70   Yes      Mailed check  Month-to-month   \n",
       "\n",
       "     internet_service_type  \n",
       "5609           Fiber optic  \n",
       "2209                   DSL  \n",
       "6919           Fiber optic  \n",
       "2284                   DSL  \n",
       "845                    DSL  "
      ]
     },
     "execution_count": 2,
     "metadata": {},
     "output_type": "execute_result"
    }
   ],
   "source": [
    "#look at our data\n",
    "train, val, test = telco_pipeline()\n",
    "train.head()"
   ]
  },
  {
   "cell_type": "code",
   "execution_count": 3,
   "id": "476bcee6",
   "metadata": {},
   "outputs": [
    {
     "data": {
      "text/plain": [
       "((4930, 20), (1056, 20), (1057, 20))"
      ]
     },
     "execution_count": 3,
     "metadata": {},
     "output_type": "execute_result"
    }
   ],
   "source": [
    "#verify all columns match.\n",
    "train.shape, val.shape, test.shape"
   ]
  },
  {
   "cell_type": "markdown",
   "id": "e9f33e6b",
   "metadata": {},
   "source": [
    "---"
   ]
  },
  {
   "cell_type": "markdown",
   "id": "d9e43129",
   "metadata": {},
   "source": [
    "## 3. Exploration"
   ]
  },
  {
   "cell_type": "markdown",
   "id": "86f8856e",
   "metadata": {},
   "source": [
    "## Does one gender churn more than the other?\n",
    "* Ho: There is no association between \"churn\" and \"gender\" feature\n",
    "* Ha: There is an association between \"churn\" and \"gender\" feature\n"
   ]
  },
  {
   "cell_type": "code",
   "execution_count": 4,
   "id": "417911ea",
   "metadata": {},
   "outputs": [
    {
     "data": {
      "image/png": "[encoded data removed]",
      "text/plain": [
       "<Figure size 640x480 with 1 Axes>"
      ]
     },
     "metadata": {},
     "output_type": "display_data"
    },
    {
     "name": "stdout",
     "output_type": "stream",
     "text": [
      "Chi-Square Statistic: 1.425229713773847\n",
      "P-value: 0.2325445321392852\n",
      "Degrees of Freedom: 1\n",
      "Expected Frequencies:\n",
      " [[1775.00040568 1846.99959432]\n",
      " [ 640.99959432  667.00040568]]\n",
      "\n",
      "Conclusion: There is no significant association between the variables. we fail to reject the null hypothesis\n",
      "None\n"
     ]
    }
   ],
   "source": [
    "#use count plot and print chi-square test\n",
    "e.countplt(train, 'churn', 'gender')\n",
    "print(e.chi(train, 'churn', 'gender'))"
   ]
  },
  {
   "cell_type": "markdown",
   "id": "b287bb81",
   "metadata": {},
   "source": [
    "---"
   ]
  },
  {
   "cell_type": "markdown",
   "id": "dc08615e",
   "metadata": {},
   "source": [
    "## Does having phone service or not drive churn?\n",
    "* Ho: There is no association between \"churn\" and \"phone_service\" feature\n",
    "* Ha: There is an association between \"churn\" and \"phone_service\" feature"
   ]
  },
  {
   "cell_type": "code",
   "execution_count": 5,
   "id": "1169c86a",
   "metadata": {
    "scrolled": false
   },
   "outputs": [
    {
     "data": {
      "image/png": "[encoded data removed]",
      "text/plain": [
       "<Figure size 640x480 with 1 Axes>"
      ]
     },
     "metadata": {},
     "output_type": "display_data"
    },
    {
     "name": "stdout",
     "output_type": "stream",
     "text": [
      "Chi-Square Statistic: 0.16104933590843382\n",
      "P-value: 0.6881922507463794\n",
      "Degrees of Freedom: 1\n",
      "Expected Frequencies:\n",
      " [[ 326.93509128 3295.06490872]\n",
      " [ 118.06490872 1189.93509128]]\n",
      "\n",
      "Conclusion: There is no significant association between the variables. we fail to reject the null hypothesis\n",
      "None\n"
     ]
    }
   ],
   "source": [
    "e.countplt(train, 'churn', 'phone_service')\n",
    "print(e.chi(train, 'churn', 'phone_service'))"
   ]
  },
  {
   "cell_type": "markdown",
   "id": "6c12b533",
   "metadata": {},
   "source": [
    "---"
   ]
  },
  {
   "cell_type": "markdown",
   "id": "179d8b5d",
   "metadata": {},
   "source": [
    "## Does the amount of lines drive churn?\n",
    "* Ho: There is no association between \"churn\" and \"multiple_lines\" feature\n",
    "* Ha: There is an association between \"churn\" and \"multiple_lines\" feature"
   ]
  },
  {
   "cell_type": "code",
   "execution_count": 6,
   "id": "8d5a7bf9",
   "metadata": {
    "scrolled": false
   },
   "outputs": [
    {
     "data": {
      "image/png": "[encoded data removed]",
      "text/plain": [
       "<Figure size 640x480 with 1 Axes>"
      ]
     },
     "metadata": {},
     "output_type": "display_data"
    },
    {
     "name": "stdout",
     "output_type": "stream",
     "text": [
      "Chi-Square Statistic: 5.564920974218287\n",
      "P-value: 0.06188605006622484\n",
      "Degrees of Freedom: 2\n",
      "Expected Frequencies:\n",
      " [[1761.04137931  326.93509128 1534.02352941]\n",
      " [ 635.95862069  118.06490872  553.97647059]]\n",
      "\n",
      "Conclusion: There is no significant association between the variables. we fail to reject the null hypothesis\n",
      "None\n"
     ]
    }
   ],
   "source": [
    "e.countplt(train, 'churn', 'multiple_lines')\n",
    "print(e.chi(train, 'churn', 'multiple_lines'))"
   ]
  },
  {
   "cell_type": "markdown",
   "id": "f4945c39",
   "metadata": {},
   "source": [
    "---"
   ]
  },
  {
   "cell_type": "markdown",
   "id": "e85900df",
   "metadata": {},
   "source": [
    "## What type of contracts drive churn?"
   ]
  },
  {
   "cell_type": "markdown",
   "id": "c5f53042",
   "metadata": {},
   "source": [
    "* Ho: There is no association between \"churn\" and \"contract_type\" feature\n",
    "* Ha: There is an association between \"churn\" and \"contract_type\" feature"
   ]
  },
  {
   "cell_type": "code",
   "execution_count": 87,
   "id": "dad85e2f",
   "metadata": {
    "scrolled": false
   },
   "outputs": [
    {
     "data": {
      "text/plain": [
       "Text(0.5, 1.1, 'Total Customers for each Contract Type')"
      ]
     },
     "execution_count": 87,
     "metadata": {},
     "output_type": "execute_result"
    },
    {
     "data": {
      "image/png": "[encoded data removed]",
      "text/plain": [
       "<Figure size 640x480 with 1 Axes>"
      ]
     },
     "metadata": {},
     "output_type": "display_data"
    }
   ],
   "source": [
    "custom_colors = [\"lightgrey\", \"lightseagreen\"]  # Replace with your desired colors\n",
    "\n",
    "\n",
    "ax = sns.countplot(data = train, x = 'contract_type', hue = 'churn', palette = custom_colors)\n",
    "\n",
    "ax = plt.gca()  # Get the current Axes object\n",
    "\n",
    "for p in ax.patches:\n",
    "    value = int(p.get_height())  # Get the height (value) of each bar\n",
    "    if value != 0:  # Exclude zero values\n",
    "        label = f\"{value:,}\"  # Format value with commas\n",
    "        if value == 1162:  # Customize the label for the highest value\n",
    "            ax.text(p.get_x() + p.get_width() / 2, p.get_height(), label, ha=\"center\", va=\"bottom\", fontweight=\"bold\")\n",
    "        else:\n",
    "            ax.text(p.get_x() + p.get_width() / 2, p.get_height(), label, ha=\"center\", va=\"bottom\")\n",
    "\n",
    "\n",
    "\n",
    "new_labels = [\"Monthly\", \"One Year\", \"Two Years\"]  # Replace with your desired labels\n",
    "plt.xticks(range(len(new_labels)), new_labels)  # Assign new labels to x-axis ticks\n",
    "plt.xlabel(\"\")  # Set custom x-axis label\n",
    "plt.ylabel('Count')\n",
    "# Remove borders\n",
    "sns.despine(ax=ax, left=True, bottom=True)\n",
    "\n",
    "# Remove y-axis\n",
    "ax.yaxis.set_visible(False)\n",
    "# Edit the legend\n",
    "\n",
    "ax.legend(title=\"Churn\",loc=\"upper right\")\n",
    "\n",
    "plt.title(\"Total Customers for each Contract Type\", y= 1.10)  # Set the title\n"
   ]
  },
  {
   "cell_type": "markdown",
   "id": "8ab50f7c",
   "metadata": {},
   "source": [
    "## Do customers churn because of high monthly charges?\n",
    "* Ho: The mean monthly charges of customers churn is not significantly higher than the population monthly charge average\n",
    "* Ha: The mean monthly charges of customers churn is significantly higher than the population monthly charge average"
   ]
  },
  {
   "cell_type": "code",
   "execution_count": 86,
   "id": "e69d8f33",
   "metadata": {},
   "outputs": [
    {
     "data": {
      "text/plain": [
       "Text(0.5, 1.1, ' Average Monthly Charges ')"
      ]
     },
     "execution_count": 86,
     "metadata": {},
     "output_type": "execute_result"
    },
    {
     "data": {
      "image/png": "[encoded data removed]",
      "text/plain": [
       "<Figure size 500x500 with 1 Axes>"
      ]
     },
     "metadata": {},
     "output_type": "display_data"
    }
   ],
   "source": [
    "custom_colors = [\"lightgrey\", \"lightseagreen\"]  # Replace with your desired colors\n",
    "\n",
    "#catplot categorical to numerical\n",
    "ax = sns.catplot(data= train, x= 'churn', y= 'monthly_charges', kind = 'bar', palette = custom_colors, errwidth= 0)\n",
    "\n",
    "ax = plt.gca()  # Get the current Axes object\n",
    "\n",
    "for p in ax.patches:\n",
    "    value = int(p.get_height())  # Get the height (value) of each bar\n",
    "    if value != 0:  # Exclude zero values\n",
    "        label = f\"${value:,}\"  # Format value with commas\n",
    "        if value == 74:  # Customize the label for the highest value\n",
    "            ax.text(p.get_x() + p.get_width() / 2, p.get_height(), label, ha=\"center\", va=\"bottom\", fontweight=\"bold\")\n",
    "        else:\n",
    "            ax.text(p.get_x() + p.get_width() / 2, p.get_height(), label, ha=\"center\", va=\"bottom\")\n",
    "\n",
    "\n",
    "plt.xlabel(\"Churn\")  # Set custom x-axis label\n",
    "plt.ylabel('Monthly Charges')\n",
    "\n",
    "# Remove y-axis\n",
    "ax.yaxis.set_visible(False)\n",
    "\n",
    "\n",
    "# Edit the legend\n",
    "sns.despine(left=True, bottom=True)  # Remove left and bottom spines and ticks\n",
    "\n",
    "plt.title(''' Average Monthly Charges ''', y= 1.10)  # Set the title\n"
   ]
  },
  {
   "cell_type": "code",
   "execution_count": null,
   "id": "7a24e470",
   "metadata": {},
   "outputs": [],
   "source": [
    "#one sample two tailed t-test\n",
    "sample = train[train.churn == 'Yes'].monthly_charges\n",
    "overall_mean = (train.monthly_charges).mean()\n",
    "\n",
    "e.one_samp_t(sample, overall_mean)"
   ]
  },
  {
   "cell_type": "code",
   "execution_count": 85,
   "id": "8b543c56",
   "metadata": {},
   "outputs": [
    {
     "data": {
      "image/png": "[encoded data removed]",
      "text/plain": [
       "<Figure size 640x480 with 1 Axes>"
      ]
     },
     "metadata": {},
     "output_type": "display_data"
    }
   ],
   "source": [
    "import numpy as np\n",
    "\n",
    "# Data\n",
    "bar_labels = ['Monthly', 'Yearly']\n",
    "bar_values_group1 = [77, 121]\n",
    "bar_values_group2 = [58, 14]\n",
    "\n",
    "bar_width = 0.35  # Width of each bar\n",
    "\n",
    "# Create the figure and axes\n",
    "fig, ax = plt.subplots()\n",
    "\n",
    "# Create grouped bar charts\n",
    "bars_group1 = np.arange(len(bar_labels))\n",
    "bars_group2 = [x + bar_width for x in bars_group1]\n",
    "\n",
    "custom_colors = [\"lightgreen\", \"red\"]  # Replace with your desired colors\n",
    "\n",
    "ax.bar(bars_group1, bar_values_group1, width=bar_width, label='No', color= 'lightgrey')\n",
    "ax.bar(bars_group2, bar_values_group2, width=bar_width, label='Yes', color= 'lightseagreen')\n",
    "\n",
    "# Adding values on top of the bars\n",
    "for bars, values in [(bars_group1, bar_values_group1), (bars_group2, bar_values_group2)]:\n",
    "    for i, v in enumerate(values):\n",
    "        ax.text(bars[i], v + 2, str(v), ha='center', va='bottom', fontweight='bold')\n",
    "\n",
    "ax.set_xlabel('')\n",
    "ax.set_ylabel('Values')\n",
    "ax.set_title('Converting 5% Monthly Customers to Yearly', y= 1.10)\n",
    "ax.set_xticks(bars_group1 + bar_width / 2)\n",
    "ax.set_xticklabels(bar_labels)\n",
    "ax.legend(title= 'Churn')\n",
    "\n",
    "# Remove y-axis\n",
    "ax.yaxis.set_visible(False)\n",
    "\n",
    "sns.despine(ax=ax, left=True, bottom=True)\n",
    "\n",
    "plt.show()\n"
   ]
  },
  {
   "cell_type": "markdown",
   "id": "3a249d9d",
   "metadata": {},
   "source": [
    "The mean monthly charges of customers churn is significantly higher than the population monthly charge average"
   ]
  },
  {
   "cell_type": "markdown",
   "id": "4b48f41c",
   "metadata": {},
   "source": [
    "## Exploration Summary"
   ]
  },
  {
   "cell_type": "markdown",
   "id": "d5a3ba46",
   "metadata": {},
   "source": [
    "* 'gender' has no significant association. I will not move on with this feature\n",
    "* 'phone_service' has no significant association. I will not move on with this feature\n",
    "* 'multiple_lines' has no significant association. I will not move on with this feature"
   ]
  },
  {
   "cell_type": "markdown",
   "id": "b65a6072",
   "metadata": {},
   "source": [
    "* Majority of customers or on month to month contracts\n",
    "* Monthly charges drive customer churn. The mean monthly charges for customers that churn is significantly higher than the monthly charge average for the population. I will move on with this feature"
   ]
  },
  {
   "cell_type": "markdown",
   "id": "aecf0fbe",
   "metadata": {},
   "source": [
    "---"
   ]
  },
  {
   "cell_type": "markdown",
   "id": "bc24557c",
   "metadata": {},
   "source": [
    "## Modeling"
   ]
  },
  {
   "cell_type": "markdown",
   "id": "12bca2ed",
   "metadata": {},
   "source": [
    "* Evaluation metric is accuracy\n",
    "* Baseline = 74%"
   ]
  },
  {
   "cell_type": "code",
   "execution_count": null,
   "id": "916c7d5f",
   "metadata": {},
   "outputs": [],
   "source": [
    "#X,y split train, val and test and get dummies\n",
    "X_train, y_train = p.xy_split(train)\n",
    "X_val, y_val = p.xy_split(val)\n",
    "X_test, y_test = p.xy_split(test)\n",
    "    \n",
    "X_train = p.dummies(X_train)\n",
    "X_val = p.dummies(X_val)\n",
    "X_test = p.dummies(X_test)"
   ]
  },
  {
   "cell_type": "markdown",
   "id": "eb99ca52",
   "metadata": {},
   "source": [
    "## Random Forest"
   ]
  },
  {
   "cell_type": "code",
   "execution_count": null,
   "id": "48b37daf",
   "metadata": {},
   "outputs": [],
   "source": [
    "#create a random forest model\n",
    "m.r_forest(X_train, y_train, X_val, y_val)"
   ]
  },
  {
   "cell_type": "markdown",
   "id": "257f10f5",
   "metadata": {},
   "source": [
    "## Decision Tree"
   ]
  },
  {
   "cell_type": "code",
   "execution_count": null,
   "id": "09e42f01",
   "metadata": {
    "scrolled": true
   },
   "outputs": [],
   "source": [
    "#create decision tree model\n",
    "m.d_tree(X_train, y_train, X_val, y_val)"
   ]
  },
  {
   "cell_type": "markdown",
   "id": "0d6741af",
   "metadata": {},
   "source": [
    "## KNN"
   ]
  },
  {
   "cell_type": "code",
   "execution_count": null,
   "id": "a5ce4446",
   "metadata": {
    "scrolled": false
   },
   "outputs": [],
   "source": [
    "#create knn model\n",
    "m.knn_m(X_train, y_train, X_val, y_val)"
   ]
  },
  {
   "cell_type": "markdown",
   "id": "1e525126",
   "metadata": {},
   "source": [
    "## Comparing Models"
   ]
  },
  {
   "cell_type": "markdown",
   "id": "abb5ab85",
   "metadata": {},
   "source": [
    "* All model outperform the baseline of 74%\n",
    "* KNN has highest accuracy score on train data but least on val data.\n",
    "* Random forest and decision tree perform just about the same on train data \n",
    "* I choose decision tree since it out performs all model on val data"
   ]
  },
  {
   "cell_type": "markdown",
   "id": "e1225aa9",
   "metadata": {},
   "source": [
    "## Decision Tree Test"
   ]
  },
  {
   "cell_type": "code",
   "execution_count": null,
   "id": "8e29e223",
   "metadata": {},
   "outputs": [],
   "source": [
    "#run test on decision tree model\n",
    "m.d_tree_test(X_train, y_train, X_test, y_test)"
   ]
  },
  {
   "cell_type": "markdown",
   "id": "d37e849c",
   "metadata": {},
   "source": [
    "## Modeling Summary"
   ]
  },
  {
   "cell_type": "markdown",
   "id": "893c6790",
   "metadata": {},
   "source": [
    "* All performed above the baseline on train data but decision tree had the highest score on val data"
   ]
  },
  {
   "cell_type": "markdown",
   "id": "60827d9f",
   "metadata": {},
   "source": [
    "## Conclusions"
   ]
  },
  {
   "cell_type": "markdown",
   "id": "dec21066",
   "metadata": {},
   "source": [
    "Exploration\n",
    "* gender, phone service, multiple lines were found as isignificant features\n",
    "* month to month contract with high charges drive customer churn"
   ]
  },
  {
   "cell_type": "markdown",
   "id": "0e73429c",
   "metadata": {},
   "source": [
    "Modeling\n",
    "* The decision tree model performed above the baseline on train, val, and test data"
   ]
  },
  {
   "cell_type": "markdown",
   "id": "639cb899",
   "metadata": {},
   "source": [
    "## Recommendations\n",
    "* To retain more customers telco needs to sign more yearly contracts or reduce monthly charges"
   ]
  },
  {
   "cell_type": "markdown",
   "id": "f45b755b",
   "metadata": {},
   "source": [
    "## Next Steps\n",
    "* Investigate feature importance and minimize dimension by dropping features\n",
    "* Investigate if there are features I can combine"
   ]
  },
  {
   "cell_type": "code",
   "execution_count": null,
   "id": "e5bbdd77",
   "metadata": {},
   "outputs": [],
   "source": []
  }
 ],
 "metadata": {
  "kernelspec": {
   "display_name": "Python 3 (ipykernel)",
   "language": "python",
   "name": "python3"
  },
  "language_info": {
   "codemirror_mode": {
    "name": "ipython",
    "version": 3
   },
   "file_extension": ".py",
   "mimetype": "text/x-python",
   "name": "python",
   "nbconvert_exporter": "python",
   "pygments_lexer": "ipython3",
   "version": "3.11.3"
  }
 },
 "nbformat": 4,
 "nbformat_minor": 5
}
