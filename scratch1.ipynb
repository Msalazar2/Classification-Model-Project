{
 "cells": [
  {
   "cell_type": "code",
   "execution_count": 1,
   "id": "9ec97e68",
   "metadata": {},
   "outputs": [],
   "source": [
    "import pandas as pd\n",
    "import numpy as np\n",
    "import os\n",
    "import seaborn as sns\n",
    "import matplotlib.pyplot as plt\n",
    "import prep\n",
    "import preprocess\n",
    "from sklearn.ensemble import RandomForestClassifier\n",
    "from sklearn.metrics import classification_report\n",
    "from sklearn.metrics import confusion_matrix\n",
    "from scipy import stats\n",
    "from datetime import datetime\n",
    "from env import get_connection\n",
    "from sklearn.model_selection import train_test_split\n",
    "from acquire import get_telco_data"
   ]
  },
  {
   "cell_type": "markdown",
   "id": "66101e8d",
   "metadata": {},
   "source": [
    "## Acquire"
   ]
  },
  {
   "cell_type": "code",
   "execution_count": 2,
   "id": "4c88fe27",
   "metadata": {},
   "outputs": [
    {
     "name": "stdout",
     "output_type": "stream",
     "text": [
      "found data\n"
     ]
    },
    {
     "data": {
      "text/html": [
       "<div>\n",
       "<style scoped>\n",
       "    .dataframe tbody tr th:only-of-type {\n",
       "        vertical-align: middle;\n",
       "    }\n",
       "\n",
       "    .dataframe tbody tr th {\n",
       "        vertical-align: top;\n",
       "    }\n",
       "\n",
       "    .dataframe thead th {\n",
       "        text-align: right;\n",
       "    }\n",
       "</style>\n",
       "<table border=\"1\" class=\"dataframe\">\n",
       "  <thead>\n",
       "    <tr style=\"text-align: right;\">\n",
       "      <th></th>\n",
       "      <th>customer_id</th>\n",
       "      <th>gender</th>\n",
       "      <th>senior_citizen</th>\n",
       "      <th>partner</th>\n",
       "      <th>dependents</th>\n",
       "      <th>tenure</th>\n",
       "      <th>phone_service</th>\n",
       "      <th>multiple_lines</th>\n",
       "      <th>internet_service_type_id</th>\n",
       "      <th>online_security</th>\n",
       "      <th>...</th>\n",
       "      <th>paperless_billing</th>\n",
       "      <th>payment_type_id</th>\n",
       "      <th>monthly_charges</th>\n",
       "      <th>total_charges</th>\n",
       "      <th>churn</th>\n",
       "      <th>signup_date</th>\n",
       "      <th>churn_month</th>\n",
       "      <th>payment_type</th>\n",
       "      <th>contract_type</th>\n",
       "      <th>internet_service_type</th>\n",
       "    </tr>\n",
       "  </thead>\n",
       "  <tbody>\n",
       "    <tr>\n",
       "      <th>0</th>\n",
       "      <td>0002-ORFBO</td>\n",
       "      <td>Female</td>\n",
       "      <td>0</td>\n",
       "      <td>Yes</td>\n",
       "      <td>Yes</td>\n",
       "      <td>9</td>\n",
       "      <td>Yes</td>\n",
       "      <td>No</td>\n",
       "      <td>1</td>\n",
       "      <td>No</td>\n",
       "      <td>...</td>\n",
       "      <td>Yes</td>\n",
       "      <td>2</td>\n",
       "      <td>65.6</td>\n",
       "      <td>593.3</td>\n",
       "      <td>No</td>\n",
       "      <td>2021-04-21 18:07:34</td>\n",
       "      <td>NaN</td>\n",
       "      <td>Mailed check</td>\n",
       "      <td>One year</td>\n",
       "      <td>DSL</td>\n",
       "    </tr>\n",
       "    <tr>\n",
       "      <th>1</th>\n",
       "      <td>0003-MKNFE</td>\n",
       "      <td>Male</td>\n",
       "      <td>0</td>\n",
       "      <td>No</td>\n",
       "      <td>No</td>\n",
       "      <td>9</td>\n",
       "      <td>Yes</td>\n",
       "      <td>Yes</td>\n",
       "      <td>1</td>\n",
       "      <td>No</td>\n",
       "      <td>...</td>\n",
       "      <td>No</td>\n",
       "      <td>2</td>\n",
       "      <td>59.9</td>\n",
       "      <td>542.4</td>\n",
       "      <td>No</td>\n",
       "      <td>2021-04-21 18:07:34</td>\n",
       "      <td>NaN</td>\n",
       "      <td>Mailed check</td>\n",
       "      <td>Month-to-month</td>\n",
       "      <td>DSL</td>\n",
       "    </tr>\n",
       "    <tr>\n",
       "      <th>2</th>\n",
       "      <td>0004-TLHLJ</td>\n",
       "      <td>Male</td>\n",
       "      <td>0</td>\n",
       "      <td>No</td>\n",
       "      <td>No</td>\n",
       "      <td>4</td>\n",
       "      <td>Yes</td>\n",
       "      <td>No</td>\n",
       "      <td>2</td>\n",
       "      <td>No</td>\n",
       "      <td>...</td>\n",
       "      <td>Yes</td>\n",
       "      <td>1</td>\n",
       "      <td>73.9</td>\n",
       "      <td>280.85</td>\n",
       "      <td>Yes</td>\n",
       "      <td>2021-09-21 18:07:34</td>\n",
       "      <td>2022-01-31</td>\n",
       "      <td>Electronic check</td>\n",
       "      <td>Month-to-month</td>\n",
       "      <td>Fiber optic</td>\n",
       "    </tr>\n",
       "    <tr>\n",
       "      <th>3</th>\n",
       "      <td>0011-IGKFF</td>\n",
       "      <td>Male</td>\n",
       "      <td>1</td>\n",
       "      <td>Yes</td>\n",
       "      <td>No</td>\n",
       "      <td>13</td>\n",
       "      <td>Yes</td>\n",
       "      <td>No</td>\n",
       "      <td>2</td>\n",
       "      <td>No</td>\n",
       "      <td>...</td>\n",
       "      <td>Yes</td>\n",
       "      <td>1</td>\n",
       "      <td>98.0</td>\n",
       "      <td>1237.85</td>\n",
       "      <td>Yes</td>\n",
       "      <td>2020-12-21 18:07:34</td>\n",
       "      <td>2022-01-31</td>\n",
       "      <td>Electronic check</td>\n",
       "      <td>Month-to-month</td>\n",
       "      <td>Fiber optic</td>\n",
       "    </tr>\n",
       "    <tr>\n",
       "      <th>4</th>\n",
       "      <td>0013-EXCHZ</td>\n",
       "      <td>Female</td>\n",
       "      <td>1</td>\n",
       "      <td>Yes</td>\n",
       "      <td>No</td>\n",
       "      <td>3</td>\n",
       "      <td>Yes</td>\n",
       "      <td>No</td>\n",
       "      <td>2</td>\n",
       "      <td>No</td>\n",
       "      <td>...</td>\n",
       "      <td>Yes</td>\n",
       "      <td>2</td>\n",
       "      <td>83.9</td>\n",
       "      <td>267.4</td>\n",
       "      <td>Yes</td>\n",
       "      <td>2021-10-21 18:07:34</td>\n",
       "      <td>2022-01-31</td>\n",
       "      <td>Mailed check</td>\n",
       "      <td>Month-to-month</td>\n",
       "      <td>Fiber optic</td>\n",
       "    </tr>\n",
       "  </tbody>\n",
       "</table>\n",
       "<p>5 rows × 26 columns</p>\n",
       "</div>"
      ],
      "text/plain": [
       "  customer_id  gender  senior_citizen partner dependents  tenure  \\\n",
       "0  0002-ORFBO  Female               0     Yes        Yes       9   \n",
       "1  0003-MKNFE    Male               0      No         No       9   \n",
       "2  0004-TLHLJ    Male               0      No         No       4   \n",
       "3  0011-IGKFF    Male               1     Yes         No      13   \n",
       "4  0013-EXCHZ  Female               1     Yes         No       3   \n",
       "\n",
       "  phone_service multiple_lines  internet_service_type_id online_security  ...  \\\n",
       "0           Yes             No                         1              No  ...   \n",
       "1           Yes            Yes                         1              No  ...   \n",
       "2           Yes             No                         2              No  ...   \n",
       "3           Yes             No                         2              No  ...   \n",
       "4           Yes             No                         2              No  ...   \n",
       "\n",
       "  paperless_billing payment_type_id monthly_charges total_charges churn  \\\n",
       "0               Yes               2            65.6         593.3    No   \n",
       "1                No               2            59.9         542.4    No   \n",
       "2               Yes               1            73.9        280.85   Yes   \n",
       "3               Yes               1            98.0       1237.85   Yes   \n",
       "4               Yes               2            83.9         267.4   Yes   \n",
       "\n",
       "           signup_date churn_month      payment_type   contract_type  \\\n",
       "0  2021-04-21 18:07:34         NaN      Mailed check        One year   \n",
       "1  2021-04-21 18:07:34         NaN      Mailed check  Month-to-month   \n",
       "2  2021-09-21 18:07:34  2022-01-31  Electronic check  Month-to-month   \n",
       "3  2020-12-21 18:07:34  2022-01-31  Electronic check  Month-to-month   \n",
       "4  2021-10-21 18:07:34  2022-01-31      Mailed check  Month-to-month   \n",
       "\n",
       "  internet_service_type  \n",
       "0                   DSL  \n",
       "1                   DSL  \n",
       "2           Fiber optic  \n",
       "3           Fiber optic  \n",
       "4           Fiber optic  \n",
       "\n",
       "[5 rows x 26 columns]"
      ]
     },
     "execution_count": 2,
     "metadata": {},
     "output_type": "execute_result"
    }
   ],
   "source": [
    "df = get_telco_data()\n",
    "\n",
    "df.head()"
   ]
  },
  {
   "cell_type": "code",
   "execution_count": 3,
   "id": "b05d4949",
   "metadata": {},
   "outputs": [
    {
     "data": {
      "text/plain": [
       "(7043, 26)"
      ]
     },
     "execution_count": 3,
     "metadata": {},
     "output_type": "execute_result"
    }
   ],
   "source": [
    "df.shape"
   ]
  },
  {
   "cell_type": "markdown",
   "id": "8a13d26a",
   "metadata": {},
   "source": [
    "## Prep"
   ]
  },
  {
   "cell_type": "code",
   "execution_count": 4,
   "id": "aa4d8f27",
   "metadata": {
    "scrolled": true
   },
   "outputs": [
    {
     "name": "stdout",
     "output_type": "stream",
     "text": [
      "<class 'pandas.core.frame.DataFrame'>\n",
      "RangeIndex: 7043 entries, 0 to 7042\n",
      "Data columns (total 26 columns):\n",
      " #   Column                    Non-Null Count  Dtype  \n",
      "---  ------                    --------------  -----  \n",
      " 0   customer_id               7043 non-null   object \n",
      " 1   gender                    7043 non-null   object \n",
      " 2   senior_citizen            7043 non-null   int64  \n",
      " 3   partner                   7043 non-null   object \n",
      " 4   dependents                7043 non-null   object \n",
      " 5   tenure                    7043 non-null   int64  \n",
      " 6   phone_service             7043 non-null   object \n",
      " 7   multiple_lines            7043 non-null   object \n",
      " 8   internet_service_type_id  7043 non-null   int64  \n",
      " 9   online_security           7043 non-null   object \n",
      " 10  online_backup             7043 non-null   object \n",
      " 11  device_protection         7043 non-null   object \n",
      " 12  tech_support              7043 non-null   object \n",
      " 13  streaming_tv              7043 non-null   object \n",
      " 14  streaming_movies          7043 non-null   object \n",
      " 15  contract_type_id          7043 non-null   int64  \n",
      " 16  paperless_billing         7043 non-null   object \n",
      " 17  payment_type_id           7043 non-null   int64  \n",
      " 18  monthly_charges           7043 non-null   float64\n",
      " 19  total_charges             7043 non-null   object \n",
      " 20  churn                     7043 non-null   object \n",
      " 21  signup_date               7043 non-null   object \n",
      " 22  churn_month               1869 non-null   object \n",
      " 23  payment_type              7043 non-null   object \n",
      " 24  contract_type             7043 non-null   object \n",
      " 25  internet_service_type     7043 non-null   object \n",
      "dtypes: float64(1), int64(5), object(20)\n",
      "memory usage: 1.4+ MB\n"
     ]
    }
   ],
   "source": [
    "df.info()"
   ]
  },
  {
   "cell_type": "code",
   "execution_count": 5,
   "id": "1069f7fc",
   "metadata": {},
   "outputs": [
    {
     "data": {
      "text/plain": [
       "No     5174\n",
       "Yes    1869\n",
       "Name: churn, dtype: int64"
      ]
     },
     "execution_count": 5,
     "metadata": {},
     "output_type": "execute_result"
    }
   ],
   "source": [
    "df.churn.value_counts()"
   ]
  },
  {
   "cell_type": "code",
   "execution_count": 6,
   "id": "f103b1bf",
   "metadata": {},
   "outputs": [
    {
     "data": {
      "text/plain": [
       "churn_month    5174\n",
       "dtype: int64"
      ]
     },
     "execution_count": 6,
     "metadata": {},
     "output_type": "execute_result"
    }
   ],
   "source": [
    "# Find columns with missing values and the total of missing values.\n",
    "\n",
    "missing = df.isnull().sum()\n",
    "missing[missing > 0]\n"
   ]
  },
  {
   "cell_type": "code",
   "execution_count": 7,
   "id": "11861f89",
   "metadata": {},
   "outputs": [
    {
     "data": {
      "text/plain": [
       "customer_id                    0\n",
       "gender                         0\n",
       "senior_citizen                 0\n",
       "partner                        0\n",
       "dependents                     0\n",
       "tenure                         0\n",
       "phone_service                  0\n",
       "multiple_lines                 0\n",
       "internet_service_type_id       0\n",
       "online_security                0\n",
       "online_backup                  0\n",
       "device_protection              0\n",
       "tech_support                   0\n",
       "streaming_tv                   0\n",
       "streaming_movies               0\n",
       "contract_type_id               0\n",
       "paperless_billing              0\n",
       "payment_type_id                0\n",
       "monthly_charges                0\n",
       "total_charges                  0\n",
       "churn                          0\n",
       "signup_date                    0\n",
       "churn_month                 5174\n",
       "payment_type                   0\n",
       "contract_type                  0\n",
       "internet_service_type          0\n",
       "dtype: int64"
      ]
     },
     "execution_count": 7,
     "metadata": {},
     "output_type": "execute_result"
    }
   ],
   "source": [
    "# Validate that missing values \n",
    "\n",
    "df.isna().sum()\n"
   ]
  },
  {
   "cell_type": "code",
   "execution_count": 8,
   "id": "bd134e2e",
   "metadata": {
    "scrolled": false
   },
   "outputs": [
    {
     "data": {
      "text/html": [
       "<div>\n",
       "<style scoped>\n",
       "    .dataframe tbody tr th:only-of-type {\n",
       "        vertical-align: middle;\n",
       "    }\n",
       "\n",
       "    .dataframe tbody tr th {\n",
       "        vertical-align: top;\n",
       "    }\n",
       "\n",
       "    .dataframe thead th {\n",
       "        text-align: right;\n",
       "    }\n",
       "</style>\n",
       "<table border=\"1\" class=\"dataframe\">\n",
       "  <thead>\n",
       "    <tr style=\"text-align: right;\">\n",
       "      <th></th>\n",
       "      <th>gender</th>\n",
       "      <th>senior_citizen</th>\n",
       "      <th>partner</th>\n",
       "      <th>dependents</th>\n",
       "      <th>tenure</th>\n",
       "      <th>phone_service</th>\n",
       "      <th>multiple_lines</th>\n",
       "      <th>online_security</th>\n",
       "      <th>online_backup</th>\n",
       "      <th>device_protection</th>\n",
       "      <th>tech_support</th>\n",
       "      <th>streaming_tv</th>\n",
       "      <th>streaming_movies</th>\n",
       "      <th>paperless_billing</th>\n",
       "      <th>monthly_charges</th>\n",
       "      <th>total_charges</th>\n",
       "      <th>churn</th>\n",
       "      <th>payment_type</th>\n",
       "      <th>contract_type</th>\n",
       "      <th>internet_service_type</th>\n",
       "    </tr>\n",
       "  </thead>\n",
       "  <tbody>\n",
       "    <tr>\n",
       "      <th>0</th>\n",
       "      <td>Female</td>\n",
       "      <td>0</td>\n",
       "      <td>Yes</td>\n",
       "      <td>Yes</td>\n",
       "      <td>9</td>\n",
       "      <td>Yes</td>\n",
       "      <td>No</td>\n",
       "      <td>No</td>\n",
       "      <td>Yes</td>\n",
       "      <td>No</td>\n",
       "      <td>Yes</td>\n",
       "      <td>Yes</td>\n",
       "      <td>No</td>\n",
       "      <td>Yes</td>\n",
       "      <td>65.6</td>\n",
       "      <td>593.3</td>\n",
       "      <td>No</td>\n",
       "      <td>Mailed check</td>\n",
       "      <td>One year</td>\n",
       "      <td>DSL</td>\n",
       "    </tr>\n",
       "    <tr>\n",
       "      <th>1</th>\n",
       "      <td>Male</td>\n",
       "      <td>0</td>\n",
       "      <td>No</td>\n",
       "      <td>No</td>\n",
       "      <td>9</td>\n",
       "      <td>Yes</td>\n",
       "      <td>Yes</td>\n",
       "      <td>No</td>\n",
       "      <td>No</td>\n",
       "      <td>No</td>\n",
       "      <td>No</td>\n",
       "      <td>No</td>\n",
       "      <td>Yes</td>\n",
       "      <td>No</td>\n",
       "      <td>59.9</td>\n",
       "      <td>542.4</td>\n",
       "      <td>No</td>\n",
       "      <td>Mailed check</td>\n",
       "      <td>Month-to-month</td>\n",
       "      <td>DSL</td>\n",
       "    </tr>\n",
       "    <tr>\n",
       "      <th>2</th>\n",
       "      <td>Male</td>\n",
       "      <td>0</td>\n",
       "      <td>No</td>\n",
       "      <td>No</td>\n",
       "      <td>4</td>\n",
       "      <td>Yes</td>\n",
       "      <td>No</td>\n",
       "      <td>No</td>\n",
       "      <td>No</td>\n",
       "      <td>Yes</td>\n",
       "      <td>No</td>\n",
       "      <td>No</td>\n",
       "      <td>No</td>\n",
       "      <td>Yes</td>\n",
       "      <td>73.9</td>\n",
       "      <td>280.85</td>\n",
       "      <td>Yes</td>\n",
       "      <td>Electronic check</td>\n",
       "      <td>Month-to-month</td>\n",
       "      <td>Fiber optic</td>\n",
       "    </tr>\n",
       "    <tr>\n",
       "      <th>3</th>\n",
       "      <td>Male</td>\n",
       "      <td>1</td>\n",
       "      <td>Yes</td>\n",
       "      <td>No</td>\n",
       "      <td>13</td>\n",
       "      <td>Yes</td>\n",
       "      <td>No</td>\n",
       "      <td>No</td>\n",
       "      <td>Yes</td>\n",
       "      <td>Yes</td>\n",
       "      <td>No</td>\n",
       "      <td>Yes</td>\n",
       "      <td>Yes</td>\n",
       "      <td>Yes</td>\n",
       "      <td>98.0</td>\n",
       "      <td>1237.85</td>\n",
       "      <td>Yes</td>\n",
       "      <td>Electronic check</td>\n",
       "      <td>Month-to-month</td>\n",
       "      <td>Fiber optic</td>\n",
       "    </tr>\n",
       "    <tr>\n",
       "      <th>4</th>\n",
       "      <td>Female</td>\n",
       "      <td>1</td>\n",
       "      <td>Yes</td>\n",
       "      <td>No</td>\n",
       "      <td>3</td>\n",
       "      <td>Yes</td>\n",
       "      <td>No</td>\n",
       "      <td>No</td>\n",
       "      <td>No</td>\n",
       "      <td>No</td>\n",
       "      <td>Yes</td>\n",
       "      <td>Yes</td>\n",
       "      <td>No</td>\n",
       "      <td>Yes</td>\n",
       "      <td>83.9</td>\n",
       "      <td>267.4</td>\n",
       "      <td>Yes</td>\n",
       "      <td>Mailed check</td>\n",
       "      <td>Month-to-month</td>\n",
       "      <td>Fiber optic</td>\n",
       "    </tr>\n",
       "  </tbody>\n",
       "</table>\n",
       "</div>"
      ],
      "text/plain": [
       "   gender  senior_citizen partner dependents  tenure phone_service  \\\n",
       "0  Female               0     Yes        Yes       9           Yes   \n",
       "1    Male               0      No         No       9           Yes   \n",
       "2    Male               0      No         No       4           Yes   \n",
       "3    Male               1     Yes         No      13           Yes   \n",
       "4  Female               1     Yes         No       3           Yes   \n",
       "\n",
       "  multiple_lines online_security online_backup device_protection tech_support  \\\n",
       "0             No              No           Yes                No          Yes   \n",
       "1            Yes              No            No                No           No   \n",
       "2             No              No            No               Yes           No   \n",
       "3             No              No           Yes               Yes           No   \n",
       "4             No              No            No                No          Yes   \n",
       "\n",
       "  streaming_tv streaming_movies paperless_billing  monthly_charges  \\\n",
       "0          Yes               No               Yes             65.6   \n",
       "1           No              Yes                No             59.9   \n",
       "2           No               No               Yes             73.9   \n",
       "3          Yes              Yes               Yes             98.0   \n",
       "4          Yes               No               Yes             83.9   \n",
       "\n",
       "  total_charges churn      payment_type   contract_type internet_service_type  \n",
       "0         593.3    No      Mailed check        One year                   DSL  \n",
       "1         542.4    No      Mailed check  Month-to-month                   DSL  \n",
       "2        280.85   Yes  Electronic check  Month-to-month           Fiber optic  \n",
       "3       1237.85   Yes  Electronic check  Month-to-month           Fiber optic  \n",
       "4         267.4   Yes      Mailed check  Month-to-month           Fiber optic  "
      ]
     },
     "execution_count": 8,
     "metadata": {},
     "output_type": "execute_result"
    }
   ],
   "source": [
    "df = prep.drop_cols(df)\n",
    "df.head()"
   ]
  },
  {
   "cell_type": "code",
   "execution_count": 9,
   "id": "18051821",
   "metadata": {},
   "outputs": [
    {
     "data": {
      "text/html": [
       "<div>\n",
       "<style scoped>\n",
       "    .dataframe tbody tr th:only-of-type {\n",
       "        vertical-align: middle;\n",
       "    }\n",
       "\n",
       "    .dataframe tbody tr th {\n",
       "        vertical-align: top;\n",
       "    }\n",
       "\n",
       "    .dataframe thead th {\n",
       "        text-align: right;\n",
       "    }\n",
       "</style>\n",
       "<table border=\"1\" class=\"dataframe\">\n",
       "  <thead>\n",
       "    <tr style=\"text-align: right;\">\n",
       "      <th></th>\n",
       "      <th>gender</th>\n",
       "      <th>senior_citizen</th>\n",
       "      <th>partner</th>\n",
       "      <th>dependents</th>\n",
       "      <th>tenure</th>\n",
       "      <th>phone_service</th>\n",
       "      <th>multiple_lines</th>\n",
       "      <th>online_security</th>\n",
       "      <th>online_backup</th>\n",
       "      <th>device_protection</th>\n",
       "      <th>tech_support</th>\n",
       "      <th>streaming_tv</th>\n",
       "      <th>streaming_movies</th>\n",
       "      <th>paperless_billing</th>\n",
       "      <th>monthly_charges</th>\n",
       "      <th>total_charges</th>\n",
       "      <th>churn</th>\n",
       "      <th>payment_type</th>\n",
       "      <th>contract_type</th>\n",
       "      <th>internet_service_type</th>\n",
       "    </tr>\n",
       "  </thead>\n",
       "  <tbody>\n",
       "    <tr>\n",
       "      <th>0</th>\n",
       "      <td>Female</td>\n",
       "      <td>0</td>\n",
       "      <td>Yes</td>\n",
       "      <td>Yes</td>\n",
       "      <td>9</td>\n",
       "      <td>Yes</td>\n",
       "      <td>No</td>\n",
       "      <td>No</td>\n",
       "      <td>Yes</td>\n",
       "      <td>No</td>\n",
       "      <td>Yes</td>\n",
       "      <td>Yes</td>\n",
       "      <td>No</td>\n",
       "      <td>Yes</td>\n",
       "      <td>65.60</td>\n",
       "      <td>593.30</td>\n",
       "      <td>No</td>\n",
       "      <td>Mailed check</td>\n",
       "      <td>One year</td>\n",
       "      <td>DSL</td>\n",
       "    </tr>\n",
       "    <tr>\n",
       "      <th>1</th>\n",
       "      <td>Male</td>\n",
       "      <td>0</td>\n",
       "      <td>No</td>\n",
       "      <td>No</td>\n",
       "      <td>9</td>\n",
       "      <td>Yes</td>\n",
       "      <td>Yes</td>\n",
       "      <td>No</td>\n",
       "      <td>No</td>\n",
       "      <td>No</td>\n",
       "      <td>No</td>\n",
       "      <td>No</td>\n",
       "      <td>Yes</td>\n",
       "      <td>No</td>\n",
       "      <td>59.90</td>\n",
       "      <td>542.40</td>\n",
       "      <td>No</td>\n",
       "      <td>Mailed check</td>\n",
       "      <td>Month-to-month</td>\n",
       "      <td>DSL</td>\n",
       "    </tr>\n",
       "    <tr>\n",
       "      <th>2</th>\n",
       "      <td>Male</td>\n",
       "      <td>0</td>\n",
       "      <td>No</td>\n",
       "      <td>No</td>\n",
       "      <td>4</td>\n",
       "      <td>Yes</td>\n",
       "      <td>No</td>\n",
       "      <td>No</td>\n",
       "      <td>No</td>\n",
       "      <td>Yes</td>\n",
       "      <td>No</td>\n",
       "      <td>No</td>\n",
       "      <td>No</td>\n",
       "      <td>Yes</td>\n",
       "      <td>73.90</td>\n",
       "      <td>280.85</td>\n",
       "      <td>Yes</td>\n",
       "      <td>Electronic check</td>\n",
       "      <td>Month-to-month</td>\n",
       "      <td>Fiber optic</td>\n",
       "    </tr>\n",
       "    <tr>\n",
       "      <th>3</th>\n",
       "      <td>Male</td>\n",
       "      <td>1</td>\n",
       "      <td>Yes</td>\n",
       "      <td>No</td>\n",
       "      <td>13</td>\n",
       "      <td>Yes</td>\n",
       "      <td>No</td>\n",
       "      <td>No</td>\n",
       "      <td>Yes</td>\n",
       "      <td>Yes</td>\n",
       "      <td>No</td>\n",
       "      <td>Yes</td>\n",
       "      <td>Yes</td>\n",
       "      <td>Yes</td>\n",
       "      <td>98.00</td>\n",
       "      <td>1237.85</td>\n",
       "      <td>Yes</td>\n",
       "      <td>Electronic check</td>\n",
       "      <td>Month-to-month</td>\n",
       "      <td>Fiber optic</td>\n",
       "    </tr>\n",
       "    <tr>\n",
       "      <th>4</th>\n",
       "      <td>Female</td>\n",
       "      <td>1</td>\n",
       "      <td>Yes</td>\n",
       "      <td>No</td>\n",
       "      <td>3</td>\n",
       "      <td>Yes</td>\n",
       "      <td>No</td>\n",
       "      <td>No</td>\n",
       "      <td>No</td>\n",
       "      <td>No</td>\n",
       "      <td>Yes</td>\n",
       "      <td>Yes</td>\n",
       "      <td>No</td>\n",
       "      <td>Yes</td>\n",
       "      <td>83.90</td>\n",
       "      <td>267.40</td>\n",
       "      <td>Yes</td>\n",
       "      <td>Mailed check</td>\n",
       "      <td>Month-to-month</td>\n",
       "      <td>Fiber optic</td>\n",
       "    </tr>\n",
       "    <tr>\n",
       "      <th>...</th>\n",
       "      <td>...</td>\n",
       "      <td>...</td>\n",
       "      <td>...</td>\n",
       "      <td>...</td>\n",
       "      <td>...</td>\n",
       "      <td>...</td>\n",
       "      <td>...</td>\n",
       "      <td>...</td>\n",
       "      <td>...</td>\n",
       "      <td>...</td>\n",
       "      <td>...</td>\n",
       "      <td>...</td>\n",
       "      <td>...</td>\n",
       "      <td>...</td>\n",
       "      <td>...</td>\n",
       "      <td>...</td>\n",
       "      <td>...</td>\n",
       "      <td>...</td>\n",
       "      <td>...</td>\n",
       "      <td>...</td>\n",
       "    </tr>\n",
       "    <tr>\n",
       "      <th>7038</th>\n",
       "      <td>Female</td>\n",
       "      <td>0</td>\n",
       "      <td>No</td>\n",
       "      <td>No</td>\n",
       "      <td>13</td>\n",
       "      <td>Yes</td>\n",
       "      <td>No</td>\n",
       "      <td>Yes</td>\n",
       "      <td>No</td>\n",
       "      <td>No</td>\n",
       "      <td>Yes</td>\n",
       "      <td>No</td>\n",
       "      <td>No</td>\n",
       "      <td>No</td>\n",
       "      <td>55.15</td>\n",
       "      <td>742.90</td>\n",
       "      <td>No</td>\n",
       "      <td>Mailed check</td>\n",
       "      <td>One year</td>\n",
       "      <td>DSL</td>\n",
       "    </tr>\n",
       "    <tr>\n",
       "      <th>7039</th>\n",
       "      <td>Male</td>\n",
       "      <td>0</td>\n",
       "      <td>Yes</td>\n",
       "      <td>No</td>\n",
       "      <td>22</td>\n",
       "      <td>Yes</td>\n",
       "      <td>Yes</td>\n",
       "      <td>No</td>\n",
       "      <td>No</td>\n",
       "      <td>No</td>\n",
       "      <td>No</td>\n",
       "      <td>No</td>\n",
       "      <td>Yes</td>\n",
       "      <td>Yes</td>\n",
       "      <td>85.10</td>\n",
       "      <td>1873.70</td>\n",
       "      <td>Yes</td>\n",
       "      <td>Electronic check</td>\n",
       "      <td>Month-to-month</td>\n",
       "      <td>Fiber optic</td>\n",
       "    </tr>\n",
       "    <tr>\n",
       "      <th>7040</th>\n",
       "      <td>Male</td>\n",
       "      <td>0</td>\n",
       "      <td>No</td>\n",
       "      <td>No</td>\n",
       "      <td>2</td>\n",
       "      <td>Yes</td>\n",
       "      <td>No</td>\n",
       "      <td>No</td>\n",
       "      <td>Yes</td>\n",
       "      <td>No</td>\n",
       "      <td>No</td>\n",
       "      <td>No</td>\n",
       "      <td>No</td>\n",
       "      <td>Yes</td>\n",
       "      <td>50.30</td>\n",
       "      <td>92.75</td>\n",
       "      <td>No</td>\n",
       "      <td>Mailed check</td>\n",
       "      <td>Month-to-month</td>\n",
       "      <td>DSL</td>\n",
       "    </tr>\n",
       "    <tr>\n",
       "      <th>7041</th>\n",
       "      <td>Male</td>\n",
       "      <td>0</td>\n",
       "      <td>Yes</td>\n",
       "      <td>Yes</td>\n",
       "      <td>67</td>\n",
       "      <td>Yes</td>\n",
       "      <td>No</td>\n",
       "      <td>Yes</td>\n",
       "      <td>No</td>\n",
       "      <td>Yes</td>\n",
       "      <td>Yes</td>\n",
       "      <td>No</td>\n",
       "      <td>Yes</td>\n",
       "      <td>No</td>\n",
       "      <td>67.85</td>\n",
       "      <td>4627.65</td>\n",
       "      <td>No</td>\n",
       "      <td>Mailed check</td>\n",
       "      <td>Two year</td>\n",
       "      <td>DSL</td>\n",
       "    </tr>\n",
       "    <tr>\n",
       "      <th>7042</th>\n",
       "      <td>Male</td>\n",
       "      <td>0</td>\n",
       "      <td>Yes</td>\n",
       "      <td>Yes</td>\n",
       "      <td>63</td>\n",
       "      <td>No</td>\n",
       "      <td>No phone service</td>\n",
       "      <td>Yes</td>\n",
       "      <td>Yes</td>\n",
       "      <td>Yes</td>\n",
       "      <td>No</td>\n",
       "      <td>Yes</td>\n",
       "      <td>Yes</td>\n",
       "      <td>No</td>\n",
       "      <td>59.00</td>\n",
       "      <td>3707.60</td>\n",
       "      <td>No</td>\n",
       "      <td>Electronic check</td>\n",
       "      <td>Two year</td>\n",
       "      <td>DSL</td>\n",
       "    </tr>\n",
       "  </tbody>\n",
       "</table>\n",
       "<p>7043 rows × 20 columns</p>\n",
       "</div>"
      ],
      "text/plain": [
       "      gender  senior_citizen partner dependents  tenure phone_service  \\\n",
       "0     Female               0     Yes        Yes       9           Yes   \n",
       "1       Male               0      No         No       9           Yes   \n",
       "2       Male               0      No         No       4           Yes   \n",
       "3       Male               1     Yes         No      13           Yes   \n",
       "4     Female               1     Yes         No       3           Yes   \n",
       "...      ...             ...     ...        ...     ...           ...   \n",
       "7038  Female               0      No         No      13           Yes   \n",
       "7039    Male               0     Yes         No      22           Yes   \n",
       "7040    Male               0      No         No       2           Yes   \n",
       "7041    Male               0     Yes        Yes      67           Yes   \n",
       "7042    Male               0     Yes        Yes      63            No   \n",
       "\n",
       "        multiple_lines online_security online_backup device_protection  \\\n",
       "0                   No              No           Yes                No   \n",
       "1                  Yes              No            No                No   \n",
       "2                   No              No            No               Yes   \n",
       "3                   No              No           Yes               Yes   \n",
       "4                   No              No            No                No   \n",
       "...                ...             ...           ...               ...   \n",
       "7038                No             Yes            No                No   \n",
       "7039               Yes              No            No                No   \n",
       "7040                No              No           Yes                No   \n",
       "7041                No             Yes            No               Yes   \n",
       "7042  No phone service             Yes           Yes               Yes   \n",
       "\n",
       "     tech_support streaming_tv streaming_movies paperless_billing  \\\n",
       "0             Yes          Yes               No               Yes   \n",
       "1              No           No              Yes                No   \n",
       "2              No           No               No               Yes   \n",
       "3              No          Yes              Yes               Yes   \n",
       "4             Yes          Yes               No               Yes   \n",
       "...           ...          ...              ...               ...   \n",
       "7038          Yes           No               No                No   \n",
       "7039           No           No              Yes               Yes   \n",
       "7040           No           No               No               Yes   \n",
       "7041          Yes           No              Yes                No   \n",
       "7042           No          Yes              Yes                No   \n",
       "\n",
       "      monthly_charges  total_charges churn      payment_type   contract_type  \\\n",
       "0               65.60         593.30    No      Mailed check        One year   \n",
       "1               59.90         542.40    No      Mailed check  Month-to-month   \n",
       "2               73.90         280.85   Yes  Electronic check  Month-to-month   \n",
       "3               98.00        1237.85   Yes  Electronic check  Month-to-month   \n",
       "4               83.90         267.40   Yes      Mailed check  Month-to-month   \n",
       "...               ...            ...   ...               ...             ...   \n",
       "7038            55.15         742.90    No      Mailed check        One year   \n",
       "7039            85.10        1873.70   Yes  Electronic check  Month-to-month   \n",
       "7040            50.30          92.75    No      Mailed check  Month-to-month   \n",
       "7041            67.85        4627.65    No      Mailed check        Two year   \n",
       "7042            59.00        3707.60    No  Electronic check        Two year   \n",
       "\n",
       "     internet_service_type  \n",
       "0                      DSL  \n",
       "1                      DSL  \n",
       "2              Fiber optic  \n",
       "3              Fiber optic  \n",
       "4              Fiber optic  \n",
       "...                    ...  \n",
       "7038                   DSL  \n",
       "7039           Fiber optic  \n",
       "7040                   DSL  \n",
       "7041                   DSL  \n",
       "7042                   DSL  \n",
       "\n",
       "[7043 rows x 20 columns]"
      ]
     },
     "execution_count": 9,
     "metadata": {},
     "output_type": "execute_result"
    }
   ],
   "source": [
    "prep.change_dtype(df)"
   ]
  },
  {
   "cell_type": "code",
   "execution_count": 10,
   "id": "9ceafdb4",
   "metadata": {},
   "outputs": [],
   "source": [
    "df.total_charges = df.total_charges.replace(' ', 0)"
   ]
  },
  {
   "cell_type": "code",
   "execution_count": 11,
   "id": "7b2f36c6",
   "metadata": {
    "scrolled": true
   },
   "outputs": [
    {
     "data": {
      "text/plain": [
       "0     593.30\n",
       "1     542.40\n",
       "2     280.85\n",
       "3    1237.85\n",
       "4     267.40\n",
       "Name: total_charges, dtype: float64"
      ]
     },
     "execution_count": 11,
     "metadata": {},
     "output_type": "execute_result"
    }
   ],
   "source": [
    "df.total_charges = df.total_charges.astype(float)\n",
    "df.total_charges.head()"
   ]
  },
  {
   "cell_type": "code",
   "execution_count": 12,
   "id": "f754cbd6",
   "metadata": {
    "scrolled": false
   },
   "outputs": [
    {
     "name": "stdout",
     "output_type": "stream",
     "text": [
      "<class 'pandas.core.frame.DataFrame'>\n",
      "RangeIndex: 7043 entries, 0 to 7042\n",
      "Data columns (total 20 columns):\n",
      " #   Column                 Non-Null Count  Dtype  \n",
      "---  ------                 --------------  -----  \n",
      " 0   gender                 7043 non-null   object \n",
      " 1   senior_citizen         7043 non-null   int64  \n",
      " 2   partner                7043 non-null   object \n",
      " 3   dependents             7043 non-null   object \n",
      " 4   tenure                 7043 non-null   int64  \n",
      " 5   phone_service          7043 non-null   object \n",
      " 6   multiple_lines         7043 non-null   object \n",
      " 7   online_security        7043 non-null   object \n",
      " 8   online_backup          7043 non-null   object \n",
      " 9   device_protection      7043 non-null   object \n",
      " 10  tech_support           7043 non-null   object \n",
      " 11  streaming_tv           7043 non-null   object \n",
      " 12  streaming_movies       7043 non-null   object \n",
      " 13  paperless_billing      7043 non-null   object \n",
      " 14  monthly_charges        7043 non-null   float64\n",
      " 15  total_charges          7043 non-null   float64\n",
      " 16  churn                  7043 non-null   object \n",
      " 17  payment_type           7043 non-null   object \n",
      " 18  contract_type          7043 non-null   object \n",
      " 19  internet_service_type  7043 non-null   object \n",
      "dtypes: float64(2), int64(2), object(16)\n",
      "memory usage: 1.1+ MB\n"
     ]
    }
   ],
   "source": [
    "df.info()"
   ]
  },
  {
   "cell_type": "code",
   "execution_count": 13,
   "id": "8c8fce62",
   "metadata": {},
   "outputs": [],
   "source": [
    "df['churn'] = df['churn'].map({'Yes': 1, 'No': 0})"
   ]
  },
  {
   "cell_type": "code",
   "execution_count": 14,
   "id": "85205bbd",
   "metadata": {
    "scrolled": true
   },
   "outputs": [
    {
     "ename": "AttributeError",
     "evalue": "'DataFrame' object has no attribute 'signup_date'",
     "output_type": "error",
     "traceback": [
      "\u001b[0;31m---------------------------------------------------------------------------\u001b[0m",
      "\u001b[0;31mAttributeError\u001b[0m                            Traceback (most recent call last)",
      "Cell \u001b[0;32mIn[14], line 1\u001b[0m\n\u001b[0;32m----> 1\u001b[0m df\u001b[38;5;241m.\u001b[39msignup_date \u001b[38;5;241m=\u001b[39m (pd\u001b[38;5;241m.\u001b[39mto_datetime(df\u001b[38;5;241m.\u001b[39msignup_date))\u001b[38;5;241m.\u001b[39mdt\u001b[38;5;241m.\u001b[39mdate\n",
      "File \u001b[0;32m/usr/local/anaconda3/lib/python3.11/site-packages/pandas/core/generic.py:5902\u001b[0m, in \u001b[0;36mNDFrame.__getattr__\u001b[0;34m(self, name)\u001b[0m\n\u001b[1;32m   5895\u001b[0m \u001b[38;5;28;01mif\u001b[39;00m (\n\u001b[1;32m   5896\u001b[0m     name \u001b[38;5;129;01mnot\u001b[39;00m \u001b[38;5;129;01min\u001b[39;00m \u001b[38;5;28mself\u001b[39m\u001b[38;5;241m.\u001b[39m_internal_names_set\n\u001b[1;32m   5897\u001b[0m     \u001b[38;5;129;01mand\u001b[39;00m name \u001b[38;5;129;01mnot\u001b[39;00m \u001b[38;5;129;01min\u001b[39;00m \u001b[38;5;28mself\u001b[39m\u001b[38;5;241m.\u001b[39m_metadata\n\u001b[1;32m   5898\u001b[0m     \u001b[38;5;129;01mand\u001b[39;00m name \u001b[38;5;129;01mnot\u001b[39;00m \u001b[38;5;129;01min\u001b[39;00m \u001b[38;5;28mself\u001b[39m\u001b[38;5;241m.\u001b[39m_accessors\n\u001b[1;32m   5899\u001b[0m     \u001b[38;5;129;01mand\u001b[39;00m \u001b[38;5;28mself\u001b[39m\u001b[38;5;241m.\u001b[39m_info_axis\u001b[38;5;241m.\u001b[39m_can_hold_identifiers_and_holds_name(name)\n\u001b[1;32m   5900\u001b[0m ):\n\u001b[1;32m   5901\u001b[0m     \u001b[38;5;28;01mreturn\u001b[39;00m \u001b[38;5;28mself\u001b[39m[name]\n\u001b[0;32m-> 5902\u001b[0m \u001b[38;5;28;01mreturn\u001b[39;00m \u001b[38;5;28mobject\u001b[39m\u001b[38;5;241m.\u001b[39m\u001b[38;5;21m__getattribute__\u001b[39m(\u001b[38;5;28mself\u001b[39m, name)\n",
      "\u001b[0;31mAttributeError\u001b[0m: 'DataFrame' object has no attribute 'signup_date'"
     ]
    }
   ],
   "source": [
    "df.signup_date = (pd.to_datetime(df.signup_date)).dt.date"
   ]
  },
  {
   "cell_type": "code",
   "execution_count": null,
   "id": "3f4f68bf",
   "metadata": {},
   "outputs": [],
   "source": [
    "df.signup_date"
   ]
  },
  {
   "cell_type": "markdown",
   "id": "a7139d1e",
   "metadata": {},
   "source": [
    "# Split train, val, test"
   ]
  },
  {
   "cell_type": "code",
   "execution_count": 15,
   "id": "538dc092",
   "metadata": {
    "scrolled": false
   },
   "outputs": [],
   "source": [
    "train, val, test = prep.train_val_test(df, 'churn')\n"
   ]
  },
  {
   "cell_type": "code",
   "execution_count": 16,
   "id": "21574c2a",
   "metadata": {},
   "outputs": [
    {
     "data": {
      "text/plain": [
       "0    3622\n",
       "1    1308\n",
       "Name: churn, dtype: int64"
      ]
     },
     "execution_count": 16,
     "metadata": {},
     "output_type": "execute_result"
    }
   ],
   "source": [
    "train.churn.value_counts()"
   ]
  },
  {
   "cell_type": "code",
   "execution_count": 17,
   "id": "476bcee6",
   "metadata": {},
   "outputs": [
    {
     "data": {
      "text/plain": [
       "((4930, 20), (1056, 20), (1057, 20))"
      ]
     },
     "execution_count": 17,
     "metadata": {},
     "output_type": "execute_result"
    }
   ],
   "source": [
    "train.shape, val.shape, test.shape"
   ]
  },
  {
   "cell_type": "markdown",
   "id": "d9e43129",
   "metadata": {},
   "source": [
    "## Exploration"
   ]
  },
  {
   "cell_type": "code",
   "execution_count": null,
   "id": "8dd1b372",
   "metadata": {},
   "outputs": [],
   "source": [
    "sns.pairplot(df, corner=True)\n",
    "plt.suptitle(\"sns.pairplot visualizes continuous variable relationships\")\n",
    "plt.show()\n"
   ]
  },
  {
   "cell_type": "markdown",
   "id": "4a19cc3f",
   "metadata": {},
   "source": [
    "## Correlation"
   ]
  },
  {
   "cell_type": "code",
   "execution_count": null,
   "id": "92185060",
   "metadata": {},
   "outputs": [],
   "source": [
    "x = train.total_charges\n",
    "y = train.tenure"
   ]
  },
  {
   "cell_type": "code",
   "execution_count": null,
   "id": "3d8914c4",
   "metadata": {
    "scrolled": true
   },
   "outputs": [],
   "source": [
    "def corr(x, y):\n",
    "\n",
    "    corr, p = stats.pearsonr(x, y)\n",
    "    \n",
    "    return corr, p"
   ]
  },
  {
   "cell_type": "code",
   "execution_count": null,
   "id": "3510f212",
   "metadata": {},
   "outputs": [],
   "source": [
    "x.info(), y.info()"
   ]
  },
  {
   "cell_type": "code",
   "execution_count": null,
   "id": "6b6fee2a",
   "metadata": {},
   "outputs": [],
   "source": [
    "corr(x, y)"
   ]
  },
  {
   "cell_type": "code",
   "execution_count": null,
   "id": "a03677fe",
   "metadata": {},
   "outputs": [],
   "source": [
    "x = train.monthly_charges\n",
    "y = train.tenure\n",
    "corr(x, y)"
   ]
  },
  {
   "cell_type": "markdown",
   "id": "34aeb7ca",
   "metadata": {},
   "source": [
    "## Visualize"
   ]
  },
  {
   "cell_type": "code",
   "execution_count": null,
   "id": "4c32482a",
   "metadata": {},
   "outputs": [],
   "source": [
    "train.info()"
   ]
  },
  {
   "cell_type": "code",
   "execution_count": null,
   "id": "50a9db7e",
   "metadata": {},
   "outputs": [],
   "source": [
    "observed = pd.crosstab(train.churn, train.phone_service)\n",
    "observed\n"
   ]
  },
  {
   "cell_type": "code",
   "execution_count": null,
   "id": "9e641298",
   "metadata": {
    "scrolled": true
   },
   "outputs": [],
   "source": [
    "sns.catplot(data=train, x=\"churn\", y=\"tenure\", kind = 'bar')"
   ]
  },
  {
   "cell_type": "code",
   "execution_count": null,
   "id": "c313bd9a",
   "metadata": {},
   "outputs": [],
   "source": [
    "train.churn.value_counts()"
   ]
  },
  {
   "cell_type": "code",
   "execution_count": null,
   "id": "eeb352bc",
   "metadata": {
    "scrolled": true
   },
   "outputs": [],
   "source": [
    "sns.countplot(data= train, x=\"gender\", hue=\"churn\")"
   ]
  },
  {
   "cell_type": "code",
   "execution_count": null,
   "id": "49325883",
   "metadata": {},
   "outputs": [],
   "source": [
    "train.info()"
   ]
  },
  {
   "cell_type": "code",
   "execution_count": null,
   "id": "f66979e4",
   "metadata": {
    "scrolled": false
   },
   "outputs": [],
   "source": [
    "train[:]"
   ]
  },
  {
   "cell_type": "code",
   "execution_count": null,
   "id": "7fb92e4d",
   "metadata": {},
   "outputs": [],
   "source": [
    "#can I create a functiom the calls all my columns and applies it to a countplot\n",
    "\n",
    "def c_plot(df, target):\n",
    "    \n",
    "    df = df[:]\n",
    "    \n",
    "    for col in df:\n",
    "    \n",
    "        return sns.countplot(data= df, x= col , hue= target)"
   ]
  },
  {
   "cell_type": "code",
   "execution_count": null,
   "id": "1cdaa9ca",
   "metadata": {
    "scrolled": true
   },
   "outputs": [],
   "source": [
    "c_plot(train, 'churn' )"
   ]
  },
  {
   "cell_type": "code",
   "execution_count": null,
   "id": "5daff80c",
   "metadata": {},
   "outputs": [],
   "source": [
    "cross_tab = pd.crosstab(train['churn'], train['gender'])\n",
    "\n",
    "chi2_stat, p_val, dof, expected = stats.chi2_contingency(cross_tab)\n",
    "\n",
    "print(\"Chi-Square Statistic:\", chi2_stat)\n",
    "print(\"P-value:\", p_val)\n",
    "print(\"Degrees of Freedom:\", dof)\n",
    "print(\"Expected Frequencies:\\n\", expected)\n",
    "\n",
    "if p_val < 0.05:\n",
    "    print(\"There is a significant association between the variables.\")\n",
    "else:\n",
    "    print(\"There is no significant association between the variables.\")\n"
   ]
  },
  {
   "cell_type": "code",
   "execution_count": null,
   "id": "3456e909",
   "metadata": {},
   "outputs": [],
   "source": [
    "train = train.drop(columns = 'gender')"
   ]
  },
  {
   "cell_type": "code",
   "execution_count": null,
   "id": "b76fa4e6",
   "metadata": {},
   "outputs": [],
   "source": [
    "val = val.drop(columns = 'gender')\n",
    "test = test.drop(columns = 'gender')"
   ]
  },
  {
   "cell_type": "code",
   "execution_count": null,
   "id": "6ca084d5",
   "metadata": {
    "scrolled": true
   },
   "outputs": [],
   "source": [
    "cross_tab = pd.crosstab(train['churn'], train['dependents'])\n",
    "\n",
    "chi2_stat, p_val, dof, expected = stats.chi2_contingency(cross_tab)\n",
    "\n",
    "print(\"Chi-Square Statistic:\", chi2_stat)\n",
    "print(\"P-value:\", p_val)\n",
    "print(\"Degrees of Freedom:\", dof)\n",
    "print(\"Expected Frequencies:\\n\", expected)\n",
    "\n",
    "if p_val < 0.05:\n",
    "    print(\"There is a significant association between the variables.\")\n",
    "else:\n",
    "    print(\"There is no significant association between the variables.\")\n"
   ]
  },
  {
   "cell_type": "code",
   "execution_count": null,
   "id": "23bc6d69",
   "metadata": {},
   "outputs": [],
   "source": [
    "sns.countplot(data= train, x=\"dependents\", hue=\"churn\")"
   ]
  },
  {
   "cell_type": "code",
   "execution_count": null,
   "id": "b40c9097",
   "metadata": {
    "scrolled": true
   },
   "outputs": [],
   "source": [
    "cross_tab = pd.crosstab(train['churn'], train['senior_citizen'])\n",
    "\n",
    "chi2_stat, p_val, dof, expected = stats.chi2_contingency(cross_tab)\n",
    "\n",
    "print(\"Chi-Square Statistic:\", chi2_stat)\n",
    "print(\"P-value:\", p_val)\n",
    "print(\"Degrees of Freedom:\", dof)\n",
    "print(\"Expected Frequencies:\\n\", expected)\n",
    "\n",
    "if p_val < 0.05:\n",
    "    print(\"There is a significant association between the variables.\")\n",
    "else:\n",
    "    print(\"There is no significant association between the variables.\")\n"
   ]
  },
  {
   "cell_type": "code",
   "execution_count": null,
   "id": "3a36896d",
   "metadata": {
    "scrolled": true
   },
   "outputs": [],
   "source": [
    "sns.countplot(data= train, x=\"senior_citizen\", hue=\"churn\")"
   ]
  },
  {
   "cell_type": "code",
   "execution_count": null,
   "id": "0df76ed6",
   "metadata": {},
   "outputs": [],
   "source": [
    "train.streaming_movies.value_counts()"
   ]
  },
  {
   "cell_type": "code",
   "execution_count": null,
   "id": "100c3721",
   "metadata": {},
   "outputs": [],
   "source": [
    "s = train[train.streaming_movies != 'No internet service']\n"
   ]
  },
  {
   "cell_type": "code",
   "execution_count": null,
   "id": "115226dd",
   "metadata": {},
   "outputs": [],
   "source": [
    "cross_tab = pd.crosstab(train['churn'], train['payment_type'])\n",
    "\n",
    "chi2_stat, p_val, dof, expected = stats.chi2_contingency(cross_tab)\n",
    "\n",
    "print(\"Chi-Square Statistic:\", chi2_stat)\n",
    "print(\"P-value:\", p_val)\n",
    "print(\"Degrees of Freedom:\", dof)\n",
    "print(\"Expected Frequencies:\\n\", expected)\n",
    "\n",
    "if p_val < 0.05:\n",
    "    print(\"There is a significant association between the variables.\")\n",
    "else:\n",
    "    print(\"There is no significant association between the variables.\")\n"
   ]
  },
  {
   "cell_type": "code",
   "execution_count": null,
   "id": "fb759277",
   "metadata": {},
   "outputs": [],
   "source": [
    "sns.countplot(data= train, x=\"payment_type\", hue=\"churn\")"
   ]
  },
  {
   "cell_type": "code",
   "execution_count": null,
   "id": "328ba4c4",
   "metadata": {
    "scrolled": true
   },
   "outputs": [],
   "source": [
    "cross_tab = pd.crosstab(train['churn'], train['phone_service'])\n",
    "\n",
    "chi2_stat, p_val, dof, expected = stats.chi2_contingency(cross_tab)\n",
    "\n",
    "print(\"Chi-Square Statistic:\", chi2_stat)\n",
    "print(\"P-value:\", p_val)\n",
    "print(\"Degrees of Freedom:\", dof)\n",
    "print(\"Expected Frequencies:\\n\", expected)\n",
    "\n",
    "if p_val < 0.05:\n",
    "    print(\"There is a significant association between the variables.\")\n",
    "else:\n",
    "    print(\"There is no significant association between the variables.\")\n"
   ]
  },
  {
   "cell_type": "code",
   "execution_count": null,
   "id": "1169c86a",
   "metadata": {
    "scrolled": true
   },
   "outputs": [],
   "source": [
    "sns.countplot(data= train, x=\"phone_service\", hue=\"churn\")"
   ]
  },
  {
   "cell_type": "code",
   "execution_count": null,
   "id": "de85f232",
   "metadata": {},
   "outputs": [],
   "source": [
    "cross_tab = pd.crosstab(train['churn'], train['partner'])\n",
    "\n",
    "chi2_stat, p_val, dof, expected = stats.chi2_contingency(cross_tab)\n",
    "\n",
    "print(\"Chi-Square Statistic:\", chi2_stat)\n",
    "print(\"P-value:\", p_val)\n",
    "print(\"Degrees of Freedom:\", dof)\n",
    "print(\"Expected Frequencies:\\n\", expected)\n",
    "\n",
    "if p_val < 0.05:\n",
    "    print(\"There is a significant association between the variables.\")\n",
    "else:\n",
    "    print(\"There is no significant association between the variables.\")\n"
   ]
  },
  {
   "cell_type": "code",
   "execution_count": null,
   "id": "b31ddd7d",
   "metadata": {
    "scrolled": true
   },
   "outputs": [],
   "source": [
    "sns.countplot(data= train, x=\"partner\", hue=\"churn\")"
   ]
  },
  {
   "cell_type": "code",
   "execution_count": null,
   "id": "e9ef36b7",
   "metadata": {},
   "outputs": [],
   "source": [
    "cross_tab = pd.crosstab(train['churn'], train['tech_support'])\n",
    "\n",
    "chi2_stat, p_val, dof, expected = stats.chi2_contingency(cross_tab)\n",
    "\n",
    "print(\"Chi-Square Statistic:\", chi2_stat)\n",
    "print(\"P-value:\", p_val)\n",
    "print(\"Degrees of Freedom:\", dof)\n",
    "print(\"Expected Frequencies:\\n\", expected)\n",
    "\n",
    "if p_val < 0.05:\n",
    "    print(\"There is a significant association between the variables.\")\n",
    "else:\n",
    "    print(\"There is no significant association between the variables.\")\n"
   ]
  },
  {
   "cell_type": "code",
   "execution_count": null,
   "id": "6c65f756",
   "metadata": {
    "scrolled": true
   },
   "outputs": [],
   "source": [
    "sns.countplot(data= train, x=\"tech_support\", hue=\"churn\")"
   ]
  },
  {
   "cell_type": "code",
   "execution_count": null,
   "id": "0470e934",
   "metadata": {},
   "outputs": [],
   "source": [
    "cross_tab = pd.crosstab(train['churn'], train['internet_service_type'])\n",
    "\n",
    "chi2_stat, p_val, dof, expected = stats.chi2_contingency(cross_tab)\n",
    "\n",
    "print(\"Chi-Square Statistic:\", chi2_stat)\n",
    "print(\"P-value:\", p_val)\n",
    "print(\"Degrees of Freedom:\", dof)\n",
    "print(\"Expected Frequencies:\\n\", expected)\n",
    "\n",
    "if p_val < 0.05:\n",
    "    print(\"There is a significant association between the variables.\")\n",
    "else:\n",
    "    print(\"There is no significant association between the variables.\")\n"
   ]
  },
  {
   "cell_type": "code",
   "execution_count": null,
   "id": "5c2cb531",
   "metadata": {},
   "outputs": [],
   "source": [
    "sns.countplot(data= train, x=\"internet_service_type\", hue=\"churn\")"
   ]
  },
  {
   "cell_type": "code",
   "execution_count": null,
   "id": "90751dac",
   "metadata": {},
   "outputs": [],
   "source": [
    "cross_tab = pd.crosstab(train['churn'], train['streaming_tv'])\n",
    "\n",
    "chi2_stat, p_val, dof, expected = stats.chi2_contingency(cross_tab)\n",
    "\n",
    "print(\"Chi-Square Statistic:\", chi2_stat)\n",
    "print(\"P-value:\", p_val)\n",
    "print(\"Degrees of Freedom:\", dof)\n",
    "print(\"Expected Frequencies:\\n\", expected)\n",
    "\n",
    "if p_val < 0.05:\n",
    "    print(\"There is a significant association between the variables.\")\n",
    "else:\n",
    "    print(\"There is no significant association between the variables.\")\n"
   ]
  },
  {
   "cell_type": "code",
   "execution_count": null,
   "id": "0170f4d4",
   "metadata": {
    "scrolled": true
   },
   "outputs": [],
   "source": [
    "sns.countplot(data= train, x=\"streaming_tv\", hue=\"churn\")"
   ]
  },
  {
   "cell_type": "code",
   "execution_count": null,
   "id": "d90e7147",
   "metadata": {},
   "outputs": [],
   "source": [
    "cross_tab = pd.crosstab(train['churn'], train['multiple_lines'])\n",
    "\n",
    "chi2_stat, p_val, dof, expected = stats.chi2_contingency(cross_tab)\n",
    "\n",
    "print(\"Chi-Square Statistic:\", chi2_stat)\n",
    "print(\"P-value:\", p_val)\n",
    "print(\"Degrees of Freedom:\", dof)\n",
    "print(\"Expected Frequencies:\\n\", expected)\n",
    "\n",
    "if p_val < 0.05:\n",
    "    print(\"There is a significant association between the variables.\")\n",
    "else:\n",
    "    print(\"There is no significant association between the variables.\")\n"
   ]
  },
  {
   "cell_type": "code",
   "execution_count": null,
   "id": "8d5a7bf9",
   "metadata": {
    "scrolled": true
   },
   "outputs": [],
   "source": [
    "sns.countplot(data= train, x=\"multiple_lines\", hue=\"churn\")"
   ]
  },
  {
   "cell_type": "code",
   "execution_count": null,
   "id": "72214afb",
   "metadata": {},
   "outputs": [],
   "source": [
    "cross_tab = pd.crosstab(train['churn'], train['contract_type'])\n",
    "\n",
    "chi2_stat, p_val, dof, expected = stats.chi2_contingency(cross_tab)\n",
    "\n",
    "print(\"Chi-Square Statistic:\", chi2_stat)\n",
    "print(\"P-value:\", p_val)\n",
    "print(\"Degrees of Freedom:\", dof)\n",
    "print(\"Expected Frequencies:\\n\", expected)\n",
    "\n",
    "if p_val < 0.05:\n",
    "    print(\"There is a significant association between the variables.\")\n",
    "else:\n",
    "    print(\"There is no significant association between the variables.\")\n"
   ]
  },
  {
   "cell_type": "code",
   "execution_count": null,
   "id": "330cd57a",
   "metadata": {},
   "outputs": [],
   "source": [
    "sns.countplot(data= train, x=\"contract_type\", hue=\"churn\")"
   ]
  },
  {
   "cell_type": "code",
   "execution_count": null,
   "id": "6485482c",
   "metadata": {},
   "outputs": [],
   "source": [
    "cross_tab = pd.crosstab(train['churn'], train['contract_type'])\n",
    "\n",
    "chi2_stat, p_val, dof, expected = stats.chi2_contingency(cross_tab)\n",
    "\n",
    "print(\"Chi-Square Statistic:\", chi2_stat)\n",
    "print(\"P-value:\", p_val)\n",
    "print(\"Degrees of Freedom:\", dof)\n",
    "print(\"Expected Frequencies:\\n\", expected)\n",
    "\n",
    "if p_val < 0.05:\n",
    "    print(\"There is a significant association between the variables.\")\n",
    "else:\n",
    "    print(\"There is no significant association between the variables.\")\n"
   ]
  },
  {
   "cell_type": "code",
   "execution_count": null,
   "id": "74fb5a13",
   "metadata": {},
   "outputs": [],
   "source": [
    "g = sns.catplot(\n",
    "    data= train,\n",
    "    x=\"tenure\", y=\"churn\", row=\"dependents\",\n",
    "    kind=\"box\", orient=\"h\",\n",
    "    sharex=False, margin_titles=True,\n",
    "    height=1.5, aspect=4,\n",
    ")\n",
    "g.set(xlabel=\"tenure\", ylabel=\"churn\")\n",
    "g.set_titles(row_template=\"{row_name} dependents\")\n",
    "for ax in g.axes.flat:\n",
    "    ax.xaxis.set_major_formatter('{x:.0f} mo')"
   ]
  },
  {
   "cell_type": "markdown",
   "id": "2359789b",
   "metadata": {},
   "source": [
    "## trying to build a function"
   ]
  },
  {
   "cell_type": "code",
   "execution_count": null,
   "id": "6ab97ecd",
   "metadata": {},
   "outputs": [],
   "source": [
    "# an array of all observed values of the subgroup\n",
    "def ones_onet(df, col, order_by):\n",
    "    \n",
    "    sample = df[col == 'Yes'].order_by\n",
    "\n",
    "# the population mean\n",
    "    overall_mean = order_by.mean()\n",
    "\n",
    "    t, p = stats.ttest_1samp(sample, overall_mean)\n",
    "\n",
    "    print(t, p/2)"
   ]
  },
  {
   "cell_type": "code",
   "execution_count": null,
   "id": "5b01c220",
   "metadata": {},
   "outputs": [],
   "source": [
    "col = train.churn\n",
    "order_by = monthly_charges\n",
    "ones_onet(train, col, order_by)"
   ]
  },
  {
   "cell_type": "markdown",
   "id": "9d79f5a4",
   "metadata": {},
   "source": [
    "## one sample, one tailed, ttest (significantly higher)"
   ]
  },
  {
   "cell_type": "code",
   "execution_count": null,
   "id": "231b6bfa",
   "metadata": {},
   "outputs": [],
   "source": [
    "train['DateCategory'] = train['signup_date'].dt.day"
   ]
  },
  {
   "cell_type": "code",
   "execution_count": null,
   "id": "7e61cbbf",
   "metadata": {},
   "outputs": [],
   "source": [
    "a = .05\n",
    "\n",
    "churn_sample = train[train.churn == 'Yes'].signup_date\n",
    "\n",
    "overall_mean = train.signup_date.mean()\n",
    "\n",
    "t, p = stats.ttest_1samp(churn_sample, overall_mean)\n",
    "\n",
    "print(t, p/2)\n",
    "\n",
    "a =.05\n",
    "\n",
    "if p/2 > a:\n",
    "    print(\"We fail to reject the null hypothesis.\")\n",
    "\n",
    "elif t < 0:\n",
    "    print(\"We fail to reject null hypothesis.\")\n",
    "\n",
    "else:\n",
    "    print(\"We reject the null hypothesis.\")\n"
   ]
  },
  {
   "cell_type": "code",
   "execution_count": null,
   "id": "ec6eb601",
   "metadata": {},
   "outputs": [],
   "source": [
    "sns.catplot(data=train, x=\"churn\", y=\"signup_date\", kind = 'bar')"
   ]
  },
  {
   "cell_type": "code",
   "execution_count": null,
   "id": "8f8babd9",
   "metadata": {},
   "outputs": [],
   "source": [
    "a = .05\n",
    "\n",
    "churn_sample = train[train.churn == 'Yes'].monthly_charges\n",
    "\n",
    "overall_mean = train.monthly_charges.mean()\n",
    "\n",
    "t, p = stats.ttest_1samp(churn_sample, overall_mean)\n",
    "\n",
    "print(t, p/2)\n",
    "\n",
    "a =.05\n",
    "\n",
    "if p/2 > a:\n",
    "    print(\"We fail to reject the null hypothesis.\")\n",
    "\n",
    "elif t < 0:\n",
    "    print(\"We fail to reject null hypothesis.\")\n",
    "\n",
    "else:\n",
    "    print(\"We reject the null hypothesis.\")\n"
   ]
  },
  {
   "cell_type": "markdown",
   "id": "ba8df721",
   "metadata": {},
   "source": [
    "# one sample, 2 tailed ttest (significantly diff)"
   ]
  },
  {
   "cell_type": "code",
   "execution_count": null,
   "id": "03168025",
   "metadata": {},
   "outputs": [],
   "source": [
    "churn_sample = train[train.churn == 'Yes'].monthly_charges\n",
    "\n",
    "overall_mean = train.monthly_charges.mean()\n",
    "\n",
    "t, p = stats.ttest_1samp(churn_sample, overall_mean)\n",
    "\n",
    "print(t, p)\n",
    "\n",
    "a = .05\n",
    "\n",
    "if p < a:\n",
    "    \n",
    "    print(f'the result is significant we reject the null hypothesis with a p_value of {round(p, 2)}.')\n",
    "    \n",
    "else:\n",
    "        \n",
    "    print(f'we fail to reject the null hypothesis with a p_value of {round(p, 2)}.')\n",
    "\n"
   ]
  },
  {
   "cell_type": "markdown",
   "id": "6a1748c9",
   "metadata": {},
   "source": [
    "## 2 sample, 1 tailed ttest (significantly higher)"
   ]
  },
  {
   "cell_type": "code",
   "execution_count": null,
   "id": "1f6a4ed2",
   "metadata": {},
   "outputs": [],
   "source": [
    "churn_sample = train[train.churn == 'Yes'].monthly_charges\n",
    "no_churn_sample = train[train.churn == 'No'].monthly_charges\n",
    "\n",
    "print(churn_sample.var())\n",
    "print(no_churn_sample.var())"
   ]
  },
  {
   "cell_type": "code",
   "execution_count": null,
   "id": "dc3c153d",
   "metadata": {},
   "outputs": [],
   "source": [
    "t, p = stats.ttest_ind(churn_sample, no_churn_sample, equal_var=False)\n",
    "print('t =',t)\n",
    "print('p =',p)\n",
    "\n",
    "a = .05\n",
    "\n",
    "print(\"is p/2 < alpha? \", p / 2 < alpha)\n",
    "print(\"is t > 0? \", t > 0)\n",
    "\n",
    "if p / 2 > a:\n",
    "    print(\"We fail to reject the null hypothesis\")\n",
    "elif t < 0:\n",
    "    print(\"We fail to reject the null hypothesis\")\n",
    "else:\n",
    "    print(\"We reject the null hypothesis\")\n"
   ]
  },
  {
   "cell_type": "markdown",
   "id": "31310708",
   "metadata": {},
   "source": [
    "## 2 sample, 2 tailed ttest (significantly diff)"
   ]
  },
  {
   "cell_type": "code",
   "execution_count": null,
   "id": "03e8ea1d",
   "metadata": {},
   "outputs": [],
   "source": [
    "t, p = stats.ttest_ind(churn_sample, no_churn_sample, equal_var=False)\n",
    "print('t =',t)\n",
    "print('p =',p)\n",
    "\n",
    "a = .05\n",
    "\n",
    "if p < a:\n",
    "    \n",
    "    print(f'the result is significant we reject the null hypothesis with a p_value of {round(p, 2)}.')\n",
    "    \n",
    "else:\n",
    "        \n",
    "    print(f'we fail to reject the null hypothesis with a p_value of {round(p, 2)}.')\n"
   ]
  },
  {
   "cell_type": "code",
   "execution_count": null,
   "id": "3b900b63",
   "metadata": {},
   "outputs": [],
   "source": []
  },
  {
   "cell_type": "code",
   "execution_count": null,
   "id": "ddf9d711",
   "metadata": {},
   "outputs": [],
   "source": [
    "churn_sample = train[df.churn == 'Yes'].monthly_charges\n",
    "no_churn_sample = train[df.churn == 'No'].monthly_charges\n",
    "\n",
    "print(churn_sample.var())\n",
    "print(no_churn_sample.var())"
   ]
  },
  {
   "cell_type": "code",
   "execution_count": null,
   "id": "3e081664",
   "metadata": {},
   "outputs": [],
   "source": [
    "train.isna().sum()"
   ]
  },
  {
   "cell_type": "code",
   "execution_count": null,
   "id": "1b3723af",
   "metadata": {},
   "outputs": [],
   "source": [
    "val.isna().sum()"
   ]
  },
  {
   "cell_type": "code",
   "execution_count": null,
   "id": "e04b0503",
   "metadata": {
    "scrolled": true
   },
   "outputs": [],
   "source": [
    "test.isna().sum()"
   ]
  },
  {
   "cell_type": "code",
   "execution_count": null,
   "id": "43cc3d95",
   "metadata": {
    "scrolled": true
   },
   "outputs": [],
   "source": [
    "train.info()"
   ]
  },
  {
   "cell_type": "code",
   "execution_count": 18,
   "id": "2676f919",
   "metadata": {},
   "outputs": [],
   "source": [
    "train = preprocess.drop_insign(train)\n",
    "val = preprocess.drop_insign(val)"
   ]
  },
  {
   "cell_type": "markdown",
   "id": "bc24557c",
   "metadata": {},
   "source": [
    "## Modeling"
   ]
  },
  {
   "cell_type": "code",
   "execution_count": 19,
   "id": "efcb0531",
   "metadata": {
    "scrolled": true
   },
   "outputs": [
    {
     "data": {
      "text/html": [
       "<div>\n",
       "<style scoped>\n",
       "    .dataframe tbody tr th:only-of-type {\n",
       "        vertical-align: middle;\n",
       "    }\n",
       "\n",
       "    .dataframe tbody tr th {\n",
       "        vertical-align: top;\n",
       "    }\n",
       "\n",
       "    .dataframe thead th {\n",
       "        text-align: right;\n",
       "    }\n",
       "</style>\n",
       "<table border=\"1\" class=\"dataframe\">\n",
       "  <thead>\n",
       "    <tr style=\"text-align: right;\">\n",
       "      <th></th>\n",
       "      <th>senior_citizen</th>\n",
       "      <th>tenure</th>\n",
       "      <th>monthly_charges</th>\n",
       "      <th>total_charges</th>\n",
       "      <th>partner_No</th>\n",
       "      <th>partner_Yes</th>\n",
       "      <th>dependents_No</th>\n",
       "      <th>dependents_Yes</th>\n",
       "      <th>online_security_No</th>\n",
       "      <th>online_security_Yes</th>\n",
       "      <th>...</th>\n",
       "      <th>payment_type_Bank transfer (automatic)</th>\n",
       "      <th>payment_type_Credit card (automatic)</th>\n",
       "      <th>payment_type_Electronic check</th>\n",
       "      <th>payment_type_Mailed check</th>\n",
       "      <th>contract_type_Month-to-month</th>\n",
       "      <th>contract_type_One year</th>\n",
       "      <th>contract_type_Two year</th>\n",
       "      <th>internet_service_type_DSL</th>\n",
       "      <th>internet_service_type_Fiber optic</th>\n",
       "      <th>internet_service_type_None</th>\n",
       "    </tr>\n",
       "  </thead>\n",
       "  <tbody>\n",
       "    <tr>\n",
       "      <th>5609</th>\n",
       "      <td>0</td>\n",
       "      <td>14</td>\n",
       "      <td>76.45</td>\n",
       "      <td>1117.55</td>\n",
       "      <td>1</td>\n",
       "      <td>0</td>\n",
       "      <td>1</td>\n",
       "      <td>0</td>\n",
       "      <td>1</td>\n",
       "      <td>0</td>\n",
       "      <td>...</td>\n",
       "      <td>0</td>\n",
       "      <td>0</td>\n",
       "      <td>1</td>\n",
       "      <td>0</td>\n",
       "      <td>1</td>\n",
       "      <td>0</td>\n",
       "      <td>0</td>\n",
       "      <td>0</td>\n",
       "      <td>1</td>\n",
       "      <td>0</td>\n",
       "    </tr>\n",
       "    <tr>\n",
       "      <th>2209</th>\n",
       "      <td>0</td>\n",
       "      <td>5</td>\n",
       "      <td>70.00</td>\n",
       "      <td>347.40</td>\n",
       "      <td>1</td>\n",
       "      <td>0</td>\n",
       "      <td>1</td>\n",
       "      <td>0</td>\n",
       "      <td>1</td>\n",
       "      <td>0</td>\n",
       "      <td>...</td>\n",
       "      <td>0</td>\n",
       "      <td>0</td>\n",
       "      <td>0</td>\n",
       "      <td>1</td>\n",
       "      <td>0</td>\n",
       "      <td>1</td>\n",
       "      <td>0</td>\n",
       "      <td>1</td>\n",
       "      <td>0</td>\n",
       "      <td>0</td>\n",
       "    </tr>\n",
       "    <tr>\n",
       "      <th>6919</th>\n",
       "      <td>0</td>\n",
       "      <td>35</td>\n",
       "      <td>75.20</td>\n",
       "      <td>2576.20</td>\n",
       "      <td>0</td>\n",
       "      <td>1</td>\n",
       "      <td>1</td>\n",
       "      <td>0</td>\n",
       "      <td>1</td>\n",
       "      <td>0</td>\n",
       "      <td>...</td>\n",
       "      <td>0</td>\n",
       "      <td>0</td>\n",
       "      <td>1</td>\n",
       "      <td>0</td>\n",
       "      <td>1</td>\n",
       "      <td>0</td>\n",
       "      <td>0</td>\n",
       "      <td>0</td>\n",
       "      <td>1</td>\n",
       "      <td>0</td>\n",
       "    </tr>\n",
       "    <tr>\n",
       "      <th>2284</th>\n",
       "      <td>0</td>\n",
       "      <td>58</td>\n",
       "      <td>86.10</td>\n",
       "      <td>4890.50</td>\n",
       "      <td>0</td>\n",
       "      <td>1</td>\n",
       "      <td>1</td>\n",
       "      <td>0</td>\n",
       "      <td>0</td>\n",
       "      <td>1</td>\n",
       "      <td>...</td>\n",
       "      <td>0</td>\n",
       "      <td>0</td>\n",
       "      <td>1</td>\n",
       "      <td>0</td>\n",
       "      <td>0</td>\n",
       "      <td>0</td>\n",
       "      <td>1</td>\n",
       "      <td>1</td>\n",
       "      <td>0</td>\n",
       "      <td>0</td>\n",
       "    </tr>\n",
       "    <tr>\n",
       "      <th>845</th>\n",
       "      <td>0</td>\n",
       "      <td>2</td>\n",
       "      <td>49.60</td>\n",
       "      <td>114.70</td>\n",
       "      <td>1</td>\n",
       "      <td>0</td>\n",
       "      <td>1</td>\n",
       "      <td>0</td>\n",
       "      <td>1</td>\n",
       "      <td>0</td>\n",
       "      <td>...</td>\n",
       "      <td>0</td>\n",
       "      <td>0</td>\n",
       "      <td>0</td>\n",
       "      <td>1</td>\n",
       "      <td>1</td>\n",
       "      <td>0</td>\n",
       "      <td>0</td>\n",
       "      <td>1</td>\n",
       "      <td>0</td>\n",
       "      <td>0</td>\n",
       "    </tr>\n",
       "  </tbody>\n",
       "</table>\n",
       "<p>5 rows × 32 columns</p>\n",
       "</div>"
      ],
      "text/plain": [
       "      senior_citizen  tenure  monthly_charges  total_charges  partner_No  \\\n",
       "5609               0      14            76.45        1117.55           1   \n",
       "2209               0       5            70.00         347.40           1   \n",
       "6919               0      35            75.20        2576.20           0   \n",
       "2284               0      58            86.10        4890.50           0   \n",
       "845                0       2            49.60         114.70           1   \n",
       "\n",
       "      partner_Yes  dependents_No  dependents_Yes  online_security_No  \\\n",
       "5609            0              1               0                   1   \n",
       "2209            0              1               0                   1   \n",
       "6919            1              1               0                   1   \n",
       "2284            1              1               0                   0   \n",
       "845             0              1               0                   1   \n",
       "\n",
       "      online_security_Yes  ...  payment_type_Bank transfer (automatic)  \\\n",
       "5609                    0  ...                                       0   \n",
       "2209                    0  ...                                       0   \n",
       "6919                    0  ...                                       0   \n",
       "2284                    1  ...                                       0   \n",
       "845                     0  ...                                       0   \n",
       "\n",
       "      payment_type_Credit card (automatic)  payment_type_Electronic check  \\\n",
       "5609                                     0                              1   \n",
       "2209                                     0                              0   \n",
       "6919                                     0                              1   \n",
       "2284                                     0                              1   \n",
       "845                                      0                              0   \n",
       "\n",
       "      payment_type_Mailed check  contract_type_Month-to-month  \\\n",
       "5609                          0                             1   \n",
       "2209                          1                             0   \n",
       "6919                          0                             1   \n",
       "2284                          0                             0   \n",
       "845                           1                             1   \n",
       "\n",
       "      contract_type_One year  contract_type_Two year  \\\n",
       "5609                       0                       0   \n",
       "2209                       1                       0   \n",
       "6919                       0                       0   \n",
       "2284                       0                       1   \n",
       "845                        0                       0   \n",
       "\n",
       "      internet_service_type_DSL  internet_service_type_Fiber optic  \\\n",
       "5609                          0                                  1   \n",
       "2209                          1                                  0   \n",
       "6919                          0                                  1   \n",
       "2284                          1                                  0   \n",
       "845                           1                                  0   \n",
       "\n",
       "      internet_service_type_None  \n",
       "5609                           0  \n",
       "2209                           0  \n",
       "6919                           0  \n",
       "2284                           0  \n",
       "845                            0  \n",
       "\n",
       "[5 rows x 32 columns]"
      ]
     },
     "execution_count": 19,
     "metadata": {},
     "output_type": "execute_result"
    }
   ],
   "source": [
    "X_train = train.drop(columns = 'churn')\n",
    "y_train = train.churn\n",
    "\n",
    "X_train = pd.get_dummies(X_train)\n",
    "X_train = X_train.drop(columns = ['online_security_No internet service', 'online_backup_No internet service', 'device_protection_No internet service', 'tech_support_No internet service', 'streaming_tv_No internet service', 'streaming_movies_No internet service'])\n",
    "X_train.head()"
   ]
  },
  {
   "cell_type": "code",
   "execution_count": 20,
   "id": "2b09c77b",
   "metadata": {
    "scrolled": true
   },
   "outputs": [
    {
     "data": {
      "text/html": [
       "<div>\n",
       "<style scoped>\n",
       "    .dataframe tbody tr th:only-of-type {\n",
       "        vertical-align: middle;\n",
       "    }\n",
       "\n",
       "    .dataframe tbody tr th {\n",
       "        vertical-align: top;\n",
       "    }\n",
       "\n",
       "    .dataframe thead th {\n",
       "        text-align: right;\n",
       "    }\n",
       "</style>\n",
       "<table border=\"1\" class=\"dataframe\">\n",
       "  <thead>\n",
       "    <tr style=\"text-align: right;\">\n",
       "      <th></th>\n",
       "      <th>senior_citizen</th>\n",
       "      <th>tenure</th>\n",
       "      <th>monthly_charges</th>\n",
       "      <th>total_charges</th>\n",
       "      <th>partner_No</th>\n",
       "      <th>partner_Yes</th>\n",
       "      <th>dependents_No</th>\n",
       "      <th>dependents_Yes</th>\n",
       "      <th>online_security_No</th>\n",
       "      <th>online_security_Yes</th>\n",
       "      <th>...</th>\n",
       "      <th>payment_type_Bank transfer (automatic)</th>\n",
       "      <th>payment_type_Credit card (automatic)</th>\n",
       "      <th>payment_type_Electronic check</th>\n",
       "      <th>payment_type_Mailed check</th>\n",
       "      <th>contract_type_Month-to-month</th>\n",
       "      <th>contract_type_One year</th>\n",
       "      <th>contract_type_Two year</th>\n",
       "      <th>internet_service_type_DSL</th>\n",
       "      <th>internet_service_type_Fiber optic</th>\n",
       "      <th>internet_service_type_None</th>\n",
       "    </tr>\n",
       "  </thead>\n",
       "  <tbody>\n",
       "    <tr>\n",
       "      <th>6910</th>\n",
       "      <td>0</td>\n",
       "      <td>46</td>\n",
       "      <td>20.20</td>\n",
       "      <td>845.60</td>\n",
       "      <td>0</td>\n",
       "      <td>1</td>\n",
       "      <td>0</td>\n",
       "      <td>1</td>\n",
       "      <td>0</td>\n",
       "      <td>0</td>\n",
       "      <td>...</td>\n",
       "      <td>1</td>\n",
       "      <td>0</td>\n",
       "      <td>0</td>\n",
       "      <td>0</td>\n",
       "      <td>0</td>\n",
       "      <td>1</td>\n",
       "      <td>0</td>\n",
       "      <td>0</td>\n",
       "      <td>0</td>\n",
       "      <td>1</td>\n",
       "    </tr>\n",
       "    <tr>\n",
       "      <th>6044</th>\n",
       "      <td>0</td>\n",
       "      <td>40</td>\n",
       "      <td>106.00</td>\n",
       "      <td>4178.65</td>\n",
       "      <td>0</td>\n",
       "      <td>1</td>\n",
       "      <td>1</td>\n",
       "      <td>0</td>\n",
       "      <td>1</td>\n",
       "      <td>0</td>\n",
       "      <td>...</td>\n",
       "      <td>1</td>\n",
       "      <td>0</td>\n",
       "      <td>0</td>\n",
       "      <td>0</td>\n",
       "      <td>0</td>\n",
       "      <td>1</td>\n",
       "      <td>0</td>\n",
       "      <td>0</td>\n",
       "      <td>1</td>\n",
       "      <td>0</td>\n",
       "    </tr>\n",
       "    <tr>\n",
       "      <th>2153</th>\n",
       "      <td>0</td>\n",
       "      <td>53</td>\n",
       "      <td>25.55</td>\n",
       "      <td>1336.10</td>\n",
       "      <td>0</td>\n",
       "      <td>1</td>\n",
       "      <td>0</td>\n",
       "      <td>1</td>\n",
       "      <td>0</td>\n",
       "      <td>0</td>\n",
       "      <td>...</td>\n",
       "      <td>0</td>\n",
       "      <td>1</td>\n",
       "      <td>0</td>\n",
       "      <td>0</td>\n",
       "      <td>0</td>\n",
       "      <td>0</td>\n",
       "      <td>1</td>\n",
       "      <td>0</td>\n",
       "      <td>0</td>\n",
       "      <td>1</td>\n",
       "    </tr>\n",
       "    <tr>\n",
       "      <th>2089</th>\n",
       "      <td>0</td>\n",
       "      <td>70</td>\n",
       "      <td>40.05</td>\n",
       "      <td>2799.75</td>\n",
       "      <td>1</td>\n",
       "      <td>0</td>\n",
       "      <td>1</td>\n",
       "      <td>0</td>\n",
       "      <td>1</td>\n",
       "      <td>0</td>\n",
       "      <td>...</td>\n",
       "      <td>0</td>\n",
       "      <td>0</td>\n",
       "      <td>0</td>\n",
       "      <td>1</td>\n",
       "      <td>0</td>\n",
       "      <td>0</td>\n",
       "      <td>1</td>\n",
       "      <td>1</td>\n",
       "      <td>0</td>\n",
       "      <td>0</td>\n",
       "    </tr>\n",
       "    <tr>\n",
       "      <th>6393</th>\n",
       "      <td>0</td>\n",
       "      <td>3</td>\n",
       "      <td>96.60</td>\n",
       "      <td>291.90</td>\n",
       "      <td>1</td>\n",
       "      <td>0</td>\n",
       "      <td>1</td>\n",
       "      <td>0</td>\n",
       "      <td>1</td>\n",
       "      <td>0</td>\n",
       "      <td>...</td>\n",
       "      <td>0</td>\n",
       "      <td>0</td>\n",
       "      <td>1</td>\n",
       "      <td>0</td>\n",
       "      <td>1</td>\n",
       "      <td>0</td>\n",
       "      <td>0</td>\n",
       "      <td>0</td>\n",
       "      <td>1</td>\n",
       "      <td>0</td>\n",
       "    </tr>\n",
       "  </tbody>\n",
       "</table>\n",
       "<p>5 rows × 32 columns</p>\n",
       "</div>"
      ],
      "text/plain": [
       "      senior_citizen  tenure  monthly_charges  total_charges  partner_No  \\\n",
       "6910               0      46            20.20         845.60           0   \n",
       "6044               0      40           106.00        4178.65           0   \n",
       "2153               0      53            25.55        1336.10           0   \n",
       "2089               0      70            40.05        2799.75           1   \n",
       "6393               0       3            96.60         291.90           1   \n",
       "\n",
       "      partner_Yes  dependents_No  dependents_Yes  online_security_No  \\\n",
       "6910            1              0               1                   0   \n",
       "6044            1              1               0                   1   \n",
       "2153            1              0               1                   0   \n",
       "2089            0              1               0                   1   \n",
       "6393            0              1               0                   1   \n",
       "\n",
       "      online_security_Yes  ...  payment_type_Bank transfer (automatic)  \\\n",
       "6910                    0  ...                                       1   \n",
       "6044                    0  ...                                       1   \n",
       "2153                    0  ...                                       0   \n",
       "2089                    0  ...                                       0   \n",
       "6393                    0  ...                                       0   \n",
       "\n",
       "      payment_type_Credit card (automatic)  payment_type_Electronic check  \\\n",
       "6910                                     0                              0   \n",
       "6044                                     0                              0   \n",
       "2153                                     1                              0   \n",
       "2089                                     0                              0   \n",
       "6393                                     0                              1   \n",
       "\n",
       "      payment_type_Mailed check  contract_type_Month-to-month  \\\n",
       "6910                          0                             0   \n",
       "6044                          0                             0   \n",
       "2153                          0                             0   \n",
       "2089                          1                             0   \n",
       "6393                          0                             1   \n",
       "\n",
       "      contract_type_One year  contract_type_Two year  \\\n",
       "6910                       1                       0   \n",
       "6044                       1                       0   \n",
       "2153                       0                       1   \n",
       "2089                       0                       1   \n",
       "6393                       0                       0   \n",
       "\n",
       "      internet_service_type_DSL  internet_service_type_Fiber optic  \\\n",
       "6910                          0                                  0   \n",
       "6044                          0                                  1   \n",
       "2153                          0                                  0   \n",
       "2089                          1                                  0   \n",
       "6393                          0                                  1   \n",
       "\n",
       "      internet_service_type_None  \n",
       "6910                           1  \n",
       "6044                           0  \n",
       "2153                           1  \n",
       "2089                           0  \n",
       "6393                           0  \n",
       "\n",
       "[5 rows x 32 columns]"
      ]
     },
     "execution_count": 20,
     "metadata": {},
     "output_type": "execute_result"
    }
   ],
   "source": [
    "X_val = val.drop(columns = 'churn')\n",
    "y_val = val.churn\n",
    "\n",
    "X_val = pd.get_dummies(X_val)\n",
    "X_val = X_val.drop(columns = ['online_security_No internet service', 'online_backup_No internet service', 'device_protection_No internet service', 'tech_support_No internet service', 'streaming_tv_No internet service', 'streaming_movies_No internet service'])\n",
    "X_val.head()"
   ]
  },
  {
   "cell_type": "markdown",
   "id": "cd3a18b4",
   "metadata": {},
   "source": [
    "## Baseline"
   ]
  },
  {
   "cell_type": "code",
   "execution_count": 21,
   "id": "5b9fa67e",
   "metadata": {},
   "outputs": [
    {
     "name": "stdout",
     "output_type": "stream",
     "text": [
      "<class 'pandas.core.series.Series'>\n",
      "Int64Index: 4930 entries, 5609 to 5679\n",
      "Series name: churn\n",
      "Non-Null Count  Dtype\n",
      "--------------  -----\n",
      "4930 non-null   int64\n",
      "dtypes: int64(1)\n",
      "memory usage: 77.0 KB\n"
     ]
    }
   ],
   "source": [
    "y_train.info()"
   ]
  },
  {
   "cell_type": "code",
   "execution_count": 22,
   "id": "05636b86",
   "metadata": {},
   "outputs": [
    {
     "data": {
      "text/plain": [
       "0    0\n",
       "Name: churn, dtype: int64"
      ]
     },
     "execution_count": 22,
     "metadata": {},
     "output_type": "execute_result"
    }
   ],
   "source": [
    "y_train.mode()"
   ]
  },
  {
   "cell_type": "code",
   "execution_count": 23,
   "id": "ca131c05",
   "metadata": {},
   "outputs": [
    {
     "data": {
      "text/plain": [
       "0.734685598377282"
      ]
     },
     "execution_count": 23,
     "metadata": {},
     "output_type": "execute_result"
    }
   ],
   "source": [
    "(y_train == 0).mean()"
   ]
  },
  {
   "cell_type": "code",
   "execution_count": 24,
   "id": "48b37daf",
   "metadata": {},
   "outputs": [
    {
     "data": {
      "text/html": [
       "<style>#sk-container-id-1 {color: black;background-color: white;}#sk-container-id-1 pre{padding: 0;}#sk-container-id-1 div.sk-toggleable {background-color: white;}#sk-container-id-1 label.sk-toggleable__label {cursor: pointer;display: block;width: 100%;margin-bottom: 0;padding: 0.3em;box-sizing: border-box;text-align: center;}#sk-container-id-1 label.sk-toggleable__label-arrow:before {content: \"▸\";float: left;margin-right: 0.25em;color: #696969;}#sk-container-id-1 label.sk-toggleable__label-arrow:hover:before {color: black;}#sk-container-id-1 div.sk-estimator:hover label.sk-toggleable__label-arrow:before {color: black;}#sk-container-id-1 div.sk-toggleable__content {max-height: 0;max-width: 0;overflow: hidden;text-align: left;background-color: #f0f8ff;}#sk-container-id-1 div.sk-toggleable__content pre {margin: 0.2em;color: black;border-radius: 0.25em;background-color: #f0f8ff;}#sk-container-id-1 input.sk-toggleable__control:checked~div.sk-toggleable__content {max-height: 200px;max-width: 100%;overflow: auto;}#sk-container-id-1 input.sk-toggleable__control:checked~label.sk-toggleable__label-arrow:before {content: \"▾\";}#sk-container-id-1 div.sk-estimator input.sk-toggleable__control:checked~label.sk-toggleable__label {background-color: #d4ebff;}#sk-container-id-1 div.sk-label input.sk-toggleable__control:checked~label.sk-toggleable__label {background-color: #d4ebff;}#sk-container-id-1 input.sk-hidden--visually {border: 0;clip: rect(1px 1px 1px 1px);clip: rect(1px, 1px, 1px, 1px);height: 1px;margin: -1px;overflow: hidden;padding: 0;position: absolute;width: 1px;}#sk-container-id-1 div.sk-estimator {font-family: monospace;background-color: #f0f8ff;border: 1px dotted black;border-radius: 0.25em;box-sizing: border-box;margin-bottom: 0.5em;}#sk-container-id-1 div.sk-estimator:hover {background-color: #d4ebff;}#sk-container-id-1 div.sk-parallel-item::after {content: \"\";width: 100%;border-bottom: 1px solid gray;flex-grow: 1;}#sk-container-id-1 div.sk-label:hover label.sk-toggleable__label {background-color: #d4ebff;}#sk-container-id-1 div.sk-serial::before {content: \"\";position: absolute;border-left: 1px solid gray;box-sizing: border-box;top: 0;bottom: 0;left: 50%;z-index: 0;}#sk-container-id-1 div.sk-serial {display: flex;flex-direction: column;align-items: center;background-color: white;padding-right: 0.2em;padding-left: 0.2em;position: relative;}#sk-container-id-1 div.sk-item {position: relative;z-index: 1;}#sk-container-id-1 div.sk-parallel {display: flex;align-items: stretch;justify-content: center;background-color: white;position: relative;}#sk-container-id-1 div.sk-item::before, #sk-container-id-1 div.sk-parallel-item::before {content: \"\";position: absolute;border-left: 1px solid gray;box-sizing: border-box;top: 0;bottom: 0;left: 50%;z-index: -1;}#sk-container-id-1 div.sk-parallel-item {display: flex;flex-direction: column;z-index: 1;position: relative;background-color: white;}#sk-container-id-1 div.sk-parallel-item:first-child::after {align-self: flex-end;width: 50%;}#sk-container-id-1 div.sk-parallel-item:last-child::after {align-self: flex-start;width: 50%;}#sk-container-id-1 div.sk-parallel-item:only-child::after {width: 0;}#sk-container-id-1 div.sk-dashed-wrapped {border: 1px dashed gray;margin: 0 0.4em 0.5em 0.4em;box-sizing: border-box;padding-bottom: 0.4em;background-color: white;}#sk-container-id-1 div.sk-label label {font-family: monospace;font-weight: bold;display: inline-block;line-height: 1.2em;}#sk-container-id-1 div.sk-label-container {text-align: center;}#sk-container-id-1 div.sk-container {/* jupyter's `normalize.less` sets `[hidden] { display: none; }` but bootstrap.min.css set `[hidden] { display: none !important; }` so we also need the `!important` here to be able to override the default hidden behavior on the sphinx rendered scikit-learn.org. See: https://github.com/scikit-learn/scikit-learn/issues/21755 */display: inline-block !important;position: relative;}#sk-container-id-1 div.sk-text-repr-fallback {display: none;}</style><div id=\"sk-container-id-1\" class=\"sk-top-container\"><div class=\"sk-text-repr-fallback\"><pre>RandomForestClassifier(max_depth=5, random_state=42)</pre><b>In a Jupyter environment, please rerun this cell to show the HTML representation or trust the notebook. <br />On GitHub, the HTML representation is unable to render, please try loading this page with nbviewer.org.</b></div><div class=\"sk-container\" hidden><div class=\"sk-item\"><div class=\"sk-estimator sk-toggleable\"><input class=\"sk-toggleable__control sk-hidden--visually\" id=\"sk-estimator-id-1\" type=\"checkbox\" checked><label for=\"sk-estimator-id-1\" class=\"sk-toggleable__label sk-toggleable__label-arrow\">RandomForestClassifier</label><div class=\"sk-toggleable__content\"><pre>RandomForestClassifier(max_depth=5, random_state=42)</pre></div></div></div></div></div>"
      ],
      "text/plain": [
       "RandomForestClassifier(max_depth=5, random_state=42)"
      ]
     },
     "execution_count": 24,
     "metadata": {},
     "output_type": "execute_result"
    }
   ],
   "source": [
    "rf = RandomForestClassifier(\n",
    "                            max_depth=5, \n",
    "                            random_state=42)\n",
    "rf.fit(X_train, y_train)"
   ]
  },
  {
   "cell_type": "code",
   "execution_count": 25,
   "id": "aa958c88",
   "metadata": {
    "scrolled": true
   },
   "outputs": [
    {
     "name": "stdout",
     "output_type": "stream",
     "text": [
      "[0.00471728 0.12678011 0.04339304 0.09027248 0.00505294 0.00345947\n",
      " 0.0012649  0.00210539 0.08264158 0.01529257 0.02280331 0.00399013\n",
      " 0.01820032 0.0023806  0.08750556 0.01598795 0.00381154 0.00507927\n",
      " 0.00233399 0.00269052 0.00916707 0.01155356 0.00266808 0.00282312\n",
      " 0.05433946 0.00284539 0.18447668 0.02237906 0.0627614  0.01721654\n",
      " 0.07889616 0.01111054]\n"
     ]
    }
   ],
   "source": [
    "print(rf.feature_importances_)\n"
   ]
  },
  {
   "cell_type": "code",
   "execution_count": 28,
   "id": "573c43f3",
   "metadata": {},
   "outputs": [
    {
     "data": {
      "text/html": [
       "<div>\n",
       "<style scoped>\n",
       "    .dataframe tbody tr th:only-of-type {\n",
       "        vertical-align: middle;\n",
       "    }\n",
       "\n",
       "    .dataframe tbody tr th {\n",
       "        vertical-align: top;\n",
       "    }\n",
       "\n",
       "    .dataframe thead th {\n",
       "        text-align: right;\n",
       "    }\n",
       "</style>\n",
       "<table border=\"1\" class=\"dataframe\">\n",
       "  <thead>\n",
       "    <tr style=\"text-align: right;\">\n",
       "      <th></th>\n",
       "      <th>feature</th>\n",
       "      <th>importance</th>\n",
       "    </tr>\n",
       "  </thead>\n",
       "  <tbody>\n",
       "    <tr>\n",
       "      <th>26</th>\n",
       "      <td>contract_type_Month-to-month</td>\n",
       "      <td>0.184477</td>\n",
       "    </tr>\n",
       "    <tr>\n",
       "      <th>1</th>\n",
       "      <td>tenure</td>\n",
       "      <td>0.126780</td>\n",
       "    </tr>\n",
       "    <tr>\n",
       "      <th>3</th>\n",
       "      <td>total_charges</td>\n",
       "      <td>0.090272</td>\n",
       "    </tr>\n",
       "    <tr>\n",
       "      <th>14</th>\n",
       "      <td>tech_support_No</td>\n",
       "      <td>0.087506</td>\n",
       "    </tr>\n",
       "    <tr>\n",
       "      <th>8</th>\n",
       "      <td>online_security_No</td>\n",
       "      <td>0.082642</td>\n",
       "    </tr>\n",
       "    <tr>\n",
       "      <th>30</th>\n",
       "      <td>internet_service_type_Fiber optic</td>\n",
       "      <td>0.078896</td>\n",
       "    </tr>\n",
       "    <tr>\n",
       "      <th>28</th>\n",
       "      <td>contract_type_Two year</td>\n",
       "      <td>0.062761</td>\n",
       "    </tr>\n",
       "    <tr>\n",
       "      <th>24</th>\n",
       "      <td>payment_type_Electronic check</td>\n",
       "      <td>0.054339</td>\n",
       "    </tr>\n",
       "    <tr>\n",
       "      <th>2</th>\n",
       "      <td>monthly_charges</td>\n",
       "      <td>0.043393</td>\n",
       "    </tr>\n",
       "    <tr>\n",
       "      <th>10</th>\n",
       "      <td>online_backup_No</td>\n",
       "      <td>0.022803</td>\n",
       "    </tr>\n",
       "    <tr>\n",
       "      <th>27</th>\n",
       "      <td>contract_type_One year</td>\n",
       "      <td>0.022379</td>\n",
       "    </tr>\n",
       "    <tr>\n",
       "      <th>12</th>\n",
       "      <td>device_protection_No</td>\n",
       "      <td>0.018200</td>\n",
       "    </tr>\n",
       "    <tr>\n",
       "      <th>29</th>\n",
       "      <td>internet_service_type_DSL</td>\n",
       "      <td>0.017217</td>\n",
       "    </tr>\n",
       "    <tr>\n",
       "      <th>15</th>\n",
       "      <td>tech_support_Yes</td>\n",
       "      <td>0.015988</td>\n",
       "    </tr>\n",
       "    <tr>\n",
       "      <th>9</th>\n",
       "      <td>online_security_Yes</td>\n",
       "      <td>0.015293</td>\n",
       "    </tr>\n",
       "    <tr>\n",
       "      <th>21</th>\n",
       "      <td>paperless_billing_Yes</td>\n",
       "      <td>0.011554</td>\n",
       "    </tr>\n",
       "    <tr>\n",
       "      <th>31</th>\n",
       "      <td>internet_service_type_None</td>\n",
       "      <td>0.011111</td>\n",
       "    </tr>\n",
       "    <tr>\n",
       "      <th>20</th>\n",
       "      <td>paperless_billing_No</td>\n",
       "      <td>0.009167</td>\n",
       "    </tr>\n",
       "    <tr>\n",
       "      <th>17</th>\n",
       "      <td>streaming_tv_Yes</td>\n",
       "      <td>0.005079</td>\n",
       "    </tr>\n",
       "    <tr>\n",
       "      <th>4</th>\n",
       "      <td>partner_No</td>\n",
       "      <td>0.005053</td>\n",
       "    </tr>\n",
       "    <tr>\n",
       "      <th>0</th>\n",
       "      <td>senior_citizen</td>\n",
       "      <td>0.004717</td>\n",
       "    </tr>\n",
       "    <tr>\n",
       "      <th>11</th>\n",
       "      <td>online_backup_Yes</td>\n",
       "      <td>0.003990</td>\n",
       "    </tr>\n",
       "    <tr>\n",
       "      <th>16</th>\n",
       "      <td>streaming_tv_No</td>\n",
       "      <td>0.003812</td>\n",
       "    </tr>\n",
       "    <tr>\n",
       "      <th>5</th>\n",
       "      <td>partner_Yes</td>\n",
       "      <td>0.003459</td>\n",
       "    </tr>\n",
       "    <tr>\n",
       "      <th>25</th>\n",
       "      <td>payment_type_Mailed check</td>\n",
       "      <td>0.002845</td>\n",
       "    </tr>\n",
       "    <tr>\n",
       "      <th>23</th>\n",
       "      <td>payment_type_Credit card (automatic)</td>\n",
       "      <td>0.002823</td>\n",
       "    </tr>\n",
       "    <tr>\n",
       "      <th>19</th>\n",
       "      <td>streaming_movies_Yes</td>\n",
       "      <td>0.002691</td>\n",
       "    </tr>\n",
       "    <tr>\n",
       "      <th>22</th>\n",
       "      <td>payment_type_Bank transfer (automatic)</td>\n",
       "      <td>0.002668</td>\n",
       "    </tr>\n",
       "    <tr>\n",
       "      <th>13</th>\n",
       "      <td>device_protection_Yes</td>\n",
       "      <td>0.002381</td>\n",
       "    </tr>\n",
       "    <tr>\n",
       "      <th>18</th>\n",
       "      <td>streaming_movies_No</td>\n",
       "      <td>0.002334</td>\n",
       "    </tr>\n",
       "    <tr>\n",
       "      <th>7</th>\n",
       "      <td>dependents_Yes</td>\n",
       "      <td>0.002105</td>\n",
       "    </tr>\n",
       "    <tr>\n",
       "      <th>6</th>\n",
       "      <td>dependents_No</td>\n",
       "      <td>0.001265</td>\n",
       "    </tr>\n",
       "  </tbody>\n",
       "</table>\n",
       "</div>"
      ],
      "text/plain": [
       "                                   feature  importance\n",
       "26            contract_type_Month-to-month    0.184477\n",
       "1                                   tenure    0.126780\n",
       "3                            total_charges    0.090272\n",
       "14                         tech_support_No    0.087506\n",
       "8                       online_security_No    0.082642\n",
       "30       internet_service_type_Fiber optic    0.078896\n",
       "28                  contract_type_Two year    0.062761\n",
       "24           payment_type_Electronic check    0.054339\n",
       "2                          monthly_charges    0.043393\n",
       "10                        online_backup_No    0.022803\n",
       "27                  contract_type_One year    0.022379\n",
       "12                    device_protection_No    0.018200\n",
       "29               internet_service_type_DSL    0.017217\n",
       "15                        tech_support_Yes    0.015988\n",
       "9                      online_security_Yes    0.015293\n",
       "21                   paperless_billing_Yes    0.011554\n",
       "31              internet_service_type_None    0.011111\n",
       "20                    paperless_billing_No    0.009167\n",
       "17                        streaming_tv_Yes    0.005079\n",
       "4                               partner_No    0.005053\n",
       "0                           senior_citizen    0.004717\n",
       "11                       online_backup_Yes    0.003990\n",
       "16                         streaming_tv_No    0.003812\n",
       "5                              partner_Yes    0.003459\n",
       "25               payment_type_Mailed check    0.002845\n",
       "23    payment_type_Credit card (automatic)    0.002823\n",
       "19                    streaming_movies_Yes    0.002691\n",
       "22  payment_type_Bank transfer (automatic)    0.002668\n",
       "13                   device_protection_Yes    0.002381\n",
       "18                     streaming_movies_No    0.002334\n",
       "7                           dependents_Yes    0.002105\n",
       "6                            dependents_No    0.001265"
      ]
     },
     "execution_count": 28,
     "metadata": {},
     "output_type": "execute_result"
    }
   ],
   "source": [
    "fi = pd.DataFrame({'feature': X_train.columns,\n",
    "             'importance': rf.feature_importances_})\n",
    "\n",
    "fi.sort_values(by = 'importance', ascending = False)"
   ]
  },
  {
   "cell_type": "code",
   "execution_count": 29,
   "id": "ad9b1676",
   "metadata": {},
   "outputs": [
    {
     "data": {
      "text/plain": [
       "0.8079107505070994"
      ]
     },
     "execution_count": 29,
     "metadata": {},
     "output_type": "execute_result"
    }
   ],
   "source": [
    "rf.score(X_train, y_train)"
   ]
  },
  {
   "cell_type": "code",
   "execution_count": 30,
   "id": "5c237803",
   "metadata": {},
   "outputs": [
    {
     "data": {
      "text/plain": [
       "0.7916666666666666"
      ]
     },
     "execution_count": 30,
     "metadata": {},
     "output_type": "execute_result"
    }
   ],
   "source": [
    "rf.score(X_val, y_val)"
   ]
  },
  {
   "cell_type": "code",
   "execution_count": null,
   "id": "4691b6cc",
   "metadata": {},
   "outputs": [],
   "source": []
  },
  {
   "cell_type": "code",
   "execution_count": null,
   "id": "9b231496",
   "metadata": {},
   "outputs": [],
   "source": []
  }
 ],
 "metadata": {
  "kernelspec": {
   "display_name": "Python 3 (ipykernel)",
   "language": "python",
   "name": "python3"
  },
  "language_info": {
   "codemirror_mode": {
    "name": "ipython",
    "version": 3
   },
   "file_extension": ".py",
   "mimetype": "text/x-python",
   "name": "python",
   "nbconvert_exporter": "python",
   "pygments_lexer": "ipython3",
   "version": "3.11.3"
  }
 },
 "nbformat": 4,
 "nbformat_minor": 5
}
