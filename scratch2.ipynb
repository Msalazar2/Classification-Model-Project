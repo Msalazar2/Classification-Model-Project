{
 "cells": [
  {
   "cell_type": "code",
   "execution_count": 1,
   "id": "9ec97e68",
   "metadata": {},
   "outputs": [],
   "source": [
    "#Import libraries, modules, functions. Added as I went through the pipline.\n",
    "import seaborn as sns\n",
    "import matplotlib.pyplot as plt\n",
    "import prep\n",
    "import preprocess\n",
    "import pandas as pd\n",
    "\n",
    "from sklearn.ensemble import RandomForestClassifier\n",
    "from sklearn.metrics import classification_report\n",
    "from sklearn.metrics import confusion_matrix\n",
    "from scipy import stats\n",
    "from datetime import datetime\n",
    "from env import get_connection\n",
    "from sklearn.model_selection import train_test_split\n",
    "from acquire import get_telco_data"
   ]
  },
  {
   "cell_type": "markdown",
   "id": "66101e8d",
   "metadata": {},
   "source": [
    "## 1. Acquire"
   ]
  },
  {
   "cell_type": "code",
   "execution_count": 2,
   "id": "4c88fe27",
   "metadata": {},
   "outputs": [
    {
     "name": "stdout",
     "output_type": "stream",
     "text": [
      "found data\n"
     ]
    },
    {
     "data": {
      "text/html": [
       "<div>\n",
       "<style scoped>\n",
       "    .dataframe tbody tr th:only-of-type {\n",
       "        vertical-align: middle;\n",
       "    }\n",
       "\n",
       "    .dataframe tbody tr th {\n",
       "        vertical-align: top;\n",
       "    }\n",
       "\n",
       "    .dataframe thead th {\n",
       "        text-align: right;\n",
       "    }\n",
       "</style>\n",
       "<table border=\"1\" class=\"dataframe\">\n",
       "  <thead>\n",
       "    <tr style=\"text-align: right;\">\n",
       "      <th></th>\n",
       "      <th>customer_id</th>\n",
       "      <th>gender</th>\n",
       "      <th>senior_citizen</th>\n",
       "      <th>partner</th>\n",
       "      <th>dependents</th>\n",
       "      <th>tenure</th>\n",
       "      <th>phone_service</th>\n",
       "      <th>multiple_lines</th>\n",
       "      <th>internet_service_type_id</th>\n",
       "      <th>online_security</th>\n",
       "      <th>...</th>\n",
       "      <th>paperless_billing</th>\n",
       "      <th>payment_type_id</th>\n",
       "      <th>monthly_charges</th>\n",
       "      <th>total_charges</th>\n",
       "      <th>churn</th>\n",
       "      <th>signup_date</th>\n",
       "      <th>churn_month</th>\n",
       "      <th>payment_type</th>\n",
       "      <th>contract_type</th>\n",
       "      <th>internet_service_type</th>\n",
       "    </tr>\n",
       "  </thead>\n",
       "  <tbody>\n",
       "    <tr>\n",
       "      <th>0</th>\n",
       "      <td>0002-ORFBO</td>\n",
       "      <td>Female</td>\n",
       "      <td>0</td>\n",
       "      <td>Yes</td>\n",
       "      <td>Yes</td>\n",
       "      <td>9</td>\n",
       "      <td>Yes</td>\n",
       "      <td>No</td>\n",
       "      <td>1</td>\n",
       "      <td>No</td>\n",
       "      <td>...</td>\n",
       "      <td>Yes</td>\n",
       "      <td>2</td>\n",
       "      <td>65.6</td>\n",
       "      <td>593.3</td>\n",
       "      <td>No</td>\n",
       "      <td>2021-04-21 18:07:34</td>\n",
       "      <td>NaN</td>\n",
       "      <td>Mailed check</td>\n",
       "      <td>One year</td>\n",
       "      <td>DSL</td>\n",
       "    </tr>\n",
       "    <tr>\n",
       "      <th>1</th>\n",
       "      <td>0003-MKNFE</td>\n",
       "      <td>Male</td>\n",
       "      <td>0</td>\n",
       "      <td>No</td>\n",
       "      <td>No</td>\n",
       "      <td>9</td>\n",
       "      <td>Yes</td>\n",
       "      <td>Yes</td>\n",
       "      <td>1</td>\n",
       "      <td>No</td>\n",
       "      <td>...</td>\n",
       "      <td>No</td>\n",
       "      <td>2</td>\n",
       "      <td>59.9</td>\n",
       "      <td>542.4</td>\n",
       "      <td>No</td>\n",
       "      <td>2021-04-21 18:07:34</td>\n",
       "      <td>NaN</td>\n",
       "      <td>Mailed check</td>\n",
       "      <td>Month-to-month</td>\n",
       "      <td>DSL</td>\n",
       "    </tr>\n",
       "    <tr>\n",
       "      <th>2</th>\n",
       "      <td>0004-TLHLJ</td>\n",
       "      <td>Male</td>\n",
       "      <td>0</td>\n",
       "      <td>No</td>\n",
       "      <td>No</td>\n",
       "      <td>4</td>\n",
       "      <td>Yes</td>\n",
       "      <td>No</td>\n",
       "      <td>2</td>\n",
       "      <td>No</td>\n",
       "      <td>...</td>\n",
       "      <td>Yes</td>\n",
       "      <td>1</td>\n",
       "      <td>73.9</td>\n",
       "      <td>280.85</td>\n",
       "      <td>Yes</td>\n",
       "      <td>2021-09-21 18:07:34</td>\n",
       "      <td>2022-01-31</td>\n",
       "      <td>Electronic check</td>\n",
       "      <td>Month-to-month</td>\n",
       "      <td>Fiber optic</td>\n",
       "    </tr>\n",
       "    <tr>\n",
       "      <th>3</th>\n",
       "      <td>0011-IGKFF</td>\n",
       "      <td>Male</td>\n",
       "      <td>1</td>\n",
       "      <td>Yes</td>\n",
       "      <td>No</td>\n",
       "      <td>13</td>\n",
       "      <td>Yes</td>\n",
       "      <td>No</td>\n",
       "      <td>2</td>\n",
       "      <td>No</td>\n",
       "      <td>...</td>\n",
       "      <td>Yes</td>\n",
       "      <td>1</td>\n",
       "      <td>98.0</td>\n",
       "      <td>1237.85</td>\n",
       "      <td>Yes</td>\n",
       "      <td>2020-12-21 18:07:34</td>\n",
       "      <td>2022-01-31</td>\n",
       "      <td>Electronic check</td>\n",
       "      <td>Month-to-month</td>\n",
       "      <td>Fiber optic</td>\n",
       "    </tr>\n",
       "    <tr>\n",
       "      <th>4</th>\n",
       "      <td>0013-EXCHZ</td>\n",
       "      <td>Female</td>\n",
       "      <td>1</td>\n",
       "      <td>Yes</td>\n",
       "      <td>No</td>\n",
       "      <td>3</td>\n",
       "      <td>Yes</td>\n",
       "      <td>No</td>\n",
       "      <td>2</td>\n",
       "      <td>No</td>\n",
       "      <td>...</td>\n",
       "      <td>Yes</td>\n",
       "      <td>2</td>\n",
       "      <td>83.9</td>\n",
       "      <td>267.4</td>\n",
       "      <td>Yes</td>\n",
       "      <td>2021-10-21 18:07:34</td>\n",
       "      <td>2022-01-31</td>\n",
       "      <td>Mailed check</td>\n",
       "      <td>Month-to-month</td>\n",
       "      <td>Fiber optic</td>\n",
       "    </tr>\n",
       "  </tbody>\n",
       "</table>\n",
       "<p>5 rows × 26 columns</p>\n",
       "</div>"
      ],
      "text/plain": [
       "  customer_id  gender  senior_citizen partner dependents  tenure  \\\n",
       "0  0002-ORFBO  Female               0     Yes        Yes       9   \n",
       "1  0003-MKNFE    Male               0      No         No       9   \n",
       "2  0004-TLHLJ    Male               0      No         No       4   \n",
       "3  0011-IGKFF    Male               1     Yes         No      13   \n",
       "4  0013-EXCHZ  Female               1     Yes         No       3   \n",
       "\n",
       "  phone_service multiple_lines  internet_service_type_id online_security  ...  \\\n",
       "0           Yes             No                         1              No  ...   \n",
       "1           Yes            Yes                         1              No  ...   \n",
       "2           Yes             No                         2              No  ...   \n",
       "3           Yes             No                         2              No  ...   \n",
       "4           Yes             No                         2              No  ...   \n",
       "\n",
       "  paperless_billing payment_type_id monthly_charges total_charges churn  \\\n",
       "0               Yes               2            65.6         593.3    No   \n",
       "1                No               2            59.9         542.4    No   \n",
       "2               Yes               1            73.9        280.85   Yes   \n",
       "3               Yes               1            98.0       1237.85   Yes   \n",
       "4               Yes               2            83.9         267.4   Yes   \n",
       "\n",
       "           signup_date churn_month      payment_type   contract_type  \\\n",
       "0  2021-04-21 18:07:34         NaN      Mailed check        One year   \n",
       "1  2021-04-21 18:07:34         NaN      Mailed check  Month-to-month   \n",
       "2  2021-09-21 18:07:34  2022-01-31  Electronic check  Month-to-month   \n",
       "3  2020-12-21 18:07:34  2022-01-31  Electronic check  Month-to-month   \n",
       "4  2021-10-21 18:07:34  2022-01-31      Mailed check  Month-to-month   \n",
       "\n",
       "  internet_service_type  \n",
       "0                   DSL  \n",
       "1                   DSL  \n",
       "2           Fiber optic  \n",
       "3           Fiber optic  \n",
       "4           Fiber optic  \n",
       "\n",
       "[5 rows x 26 columns]"
      ]
     },
     "execution_count": 2,
     "metadata": {},
     "output_type": "execute_result"
    }
   ],
   "source": [
    "#from acquire import get_telco_data() to import telco and assign it to a variable.\n",
    "\n",
    "df = get_telco_data()\n",
    "\n",
    "df.head()"
   ]
  },
  {
   "cell_type": "code",
   "execution_count": 3,
   "id": "b05d4949",
   "metadata": {},
   "outputs": [
    {
     "data": {
      "text/plain": [
       "(7043, 26)"
      ]
     },
     "execution_count": 3,
     "metadata": {},
     "output_type": "execute_result"
    }
   ],
   "source": [
    "#making sure dimensions (rows, columns) are accurate\n",
    "df.shape"
   ]
  },
  {
   "cell_type": "markdown",
   "id": "8a13d26a",
   "metadata": {},
   "source": [
    "## 2. Prep"
   ]
  },
  {
   "cell_type": "code",
   "execution_count": 4,
   "id": "aa4d8f27",
   "metadata": {
    "scrolled": true
   },
   "outputs": [
    {
     "name": "stdout",
     "output_type": "stream",
     "text": [
      "<class 'pandas.core.frame.DataFrame'>\n",
      "RangeIndex: 7043 entries, 0 to 7042\n",
      "Data columns (total 26 columns):\n",
      " #   Column                    Non-Null Count  Dtype  \n",
      "---  ------                    --------------  -----  \n",
      " 0   customer_id               7043 non-null   object \n",
      " 1   gender                    7043 non-null   object \n",
      " 2   senior_citizen            7043 non-null   int64  \n",
      " 3   partner                   7043 non-null   object \n",
      " 4   dependents                7043 non-null   object \n",
      " 5   tenure                    7043 non-null   int64  \n",
      " 6   phone_service             7043 non-null   object \n",
      " 7   multiple_lines            7043 non-null   object \n",
      " 8   internet_service_type_id  7043 non-null   int64  \n",
      " 9   online_security           7043 non-null   object \n",
      " 10  online_backup             7043 non-null   object \n",
      " 11  device_protection         7043 non-null   object \n",
      " 12  tech_support              7043 non-null   object \n",
      " 13  streaming_tv              7043 non-null   object \n",
      " 14  streaming_movies          7043 non-null   object \n",
      " 15  contract_type_id          7043 non-null   int64  \n",
      " 16  paperless_billing         7043 non-null   object \n",
      " 17  payment_type_id           7043 non-null   int64  \n",
      " 18  monthly_charges           7043 non-null   float64\n",
      " 19  total_charges             7043 non-null   object \n",
      " 20  churn                     7043 non-null   object \n",
      " 21  signup_date               7043 non-null   object \n",
      " 22  churn_month               1869 non-null   object \n",
      " 23  payment_type              7043 non-null   object \n",
      " 24  contract_type             7043 non-null   object \n",
      " 25  internet_service_type     7043 non-null   object \n",
      "dtypes: float64(1), int64(5), object(20)\n",
      "memory usage: 1.4+ MB\n"
     ]
    }
   ],
   "source": [
    "#investigating features dtype to see if they make sense\n",
    "df.info()"
   ]
  },
  {
   "cell_type": "code",
   "execution_count": 5,
   "id": "1069f7fc",
   "metadata": {},
   "outputs": [
    {
     "data": {
      "text/plain": [
       "No     5174\n",
       "Yes    1869\n",
       "Name: churn, dtype: int64"
      ]
     },
     "execution_count": 5,
     "metadata": {},
     "output_type": "execute_result"
    }
   ],
   "source": [
    "#checking values for churn column.\n",
    "df.churn.value_counts()\n"
   ]
  },
  {
   "cell_type": "code",
   "execution_count": 6,
   "id": "f103b1bf",
   "metadata": {},
   "outputs": [
    {
     "data": {
      "text/plain": [
       "churn_month    5174\n",
       "dtype: int64"
      ]
     },
     "execution_count": 6,
     "metadata": {},
     "output_type": "execute_result"
    }
   ],
   "source": [
    "#Finding columns with missing values and the total of missing values.\n",
    "\n",
    "missing = df.isnull().sum()\n",
    "missing[missing > 0]\n"
   ]
  },
  {
   "cell_type": "code",
   "execution_count": 7,
   "id": "11861f89",
   "metadata": {
    "scrolled": true
   },
   "outputs": [
    {
     "data": {
      "text/plain": [
       "customer_id                    0\n",
       "gender                         0\n",
       "senior_citizen                 0\n",
       "partner                        0\n",
       "dependents                     0\n",
       "tenure                         0\n",
       "phone_service                  0\n",
       "multiple_lines                 0\n",
       "internet_service_type_id       0\n",
       "online_security                0\n",
       "online_backup                  0\n",
       "device_protection              0\n",
       "tech_support                   0\n",
       "streaming_tv                   0\n",
       "streaming_movies               0\n",
       "contract_type_id               0\n",
       "paperless_billing              0\n",
       "payment_type_id                0\n",
       "monthly_charges                0\n",
       "total_charges                  0\n",
       "churn                          0\n",
       "signup_date                    0\n",
       "churn_month                 5174\n",
       "payment_type                   0\n",
       "contract_type                  0\n",
       "internet_service_type          0\n",
       "dtype: int64"
      ]
     },
     "execution_count": 7,
     "metadata": {},
     "output_type": "execute_result"
    }
   ],
   "source": [
    "#Validate those missing values. \n",
    "\n",
    "df.isna().sum()\n"
   ]
  },
  {
   "cell_type": "markdown",
   "id": "c2b05b58",
   "metadata": {},
   "source": [
    "## #That's alot of null values. I can either fill those null values or just drop the entire column. I will drop that column since I already have a column for tenure and churn.\n",
    "\n",
    "## I will also drop signup date and all features that end with id since those dont have any significance. "
   ]
  },
  {
   "cell_type": "code",
   "execution_count": 8,
   "id": "bd134e2e",
   "metadata": {
    "scrolled": true
   },
   "outputs": [
    {
     "data": {
      "text/html": [
       "<div>\n",
       "<style scoped>\n",
       "    .dataframe tbody tr th:only-of-type {\n",
       "        vertical-align: middle;\n",
       "    }\n",
       "\n",
       "    .dataframe tbody tr th {\n",
       "        vertical-align: top;\n",
       "    }\n",
       "\n",
       "    .dataframe thead th {\n",
       "        text-align: right;\n",
       "    }\n",
       "</style>\n",
       "<table border=\"1\" class=\"dataframe\">\n",
       "  <thead>\n",
       "    <tr style=\"text-align: right;\">\n",
       "      <th></th>\n",
       "      <th>gender</th>\n",
       "      <th>senior_citizen</th>\n",
       "      <th>partner</th>\n",
       "      <th>dependents</th>\n",
       "      <th>tenure</th>\n",
       "      <th>phone_service</th>\n",
       "      <th>multiple_lines</th>\n",
       "      <th>online_security</th>\n",
       "      <th>online_backup</th>\n",
       "      <th>device_protection</th>\n",
       "      <th>tech_support</th>\n",
       "      <th>streaming_tv</th>\n",
       "      <th>streaming_movies</th>\n",
       "      <th>paperless_billing</th>\n",
       "      <th>monthly_charges</th>\n",
       "      <th>total_charges</th>\n",
       "      <th>churn</th>\n",
       "      <th>payment_type</th>\n",
       "      <th>contract_type</th>\n",
       "      <th>internet_service_type</th>\n",
       "    </tr>\n",
       "  </thead>\n",
       "  <tbody>\n",
       "    <tr>\n",
       "      <th>0</th>\n",
       "      <td>Female</td>\n",
       "      <td>0</td>\n",
       "      <td>Yes</td>\n",
       "      <td>Yes</td>\n",
       "      <td>9</td>\n",
       "      <td>Yes</td>\n",
       "      <td>No</td>\n",
       "      <td>No</td>\n",
       "      <td>Yes</td>\n",
       "      <td>No</td>\n",
       "      <td>Yes</td>\n",
       "      <td>Yes</td>\n",
       "      <td>No</td>\n",
       "      <td>Yes</td>\n",
       "      <td>65.6</td>\n",
       "      <td>593.3</td>\n",
       "      <td>No</td>\n",
       "      <td>Mailed check</td>\n",
       "      <td>One year</td>\n",
       "      <td>DSL</td>\n",
       "    </tr>\n",
       "    <tr>\n",
       "      <th>1</th>\n",
       "      <td>Male</td>\n",
       "      <td>0</td>\n",
       "      <td>No</td>\n",
       "      <td>No</td>\n",
       "      <td>9</td>\n",
       "      <td>Yes</td>\n",
       "      <td>Yes</td>\n",
       "      <td>No</td>\n",
       "      <td>No</td>\n",
       "      <td>No</td>\n",
       "      <td>No</td>\n",
       "      <td>No</td>\n",
       "      <td>Yes</td>\n",
       "      <td>No</td>\n",
       "      <td>59.9</td>\n",
       "      <td>542.4</td>\n",
       "      <td>No</td>\n",
       "      <td>Mailed check</td>\n",
       "      <td>Month-to-month</td>\n",
       "      <td>DSL</td>\n",
       "    </tr>\n",
       "    <tr>\n",
       "      <th>2</th>\n",
       "      <td>Male</td>\n",
       "      <td>0</td>\n",
       "      <td>No</td>\n",
       "      <td>No</td>\n",
       "      <td>4</td>\n",
       "      <td>Yes</td>\n",
       "      <td>No</td>\n",
       "      <td>No</td>\n",
       "      <td>No</td>\n",
       "      <td>Yes</td>\n",
       "      <td>No</td>\n",
       "      <td>No</td>\n",
       "      <td>No</td>\n",
       "      <td>Yes</td>\n",
       "      <td>73.9</td>\n",
       "      <td>280.85</td>\n",
       "      <td>Yes</td>\n",
       "      <td>Electronic check</td>\n",
       "      <td>Month-to-month</td>\n",
       "      <td>Fiber optic</td>\n",
       "    </tr>\n",
       "    <tr>\n",
       "      <th>3</th>\n",
       "      <td>Male</td>\n",
       "      <td>1</td>\n",
       "      <td>Yes</td>\n",
       "      <td>No</td>\n",
       "      <td>13</td>\n",
       "      <td>Yes</td>\n",
       "      <td>No</td>\n",
       "      <td>No</td>\n",
       "      <td>Yes</td>\n",
       "      <td>Yes</td>\n",
       "      <td>No</td>\n",
       "      <td>Yes</td>\n",
       "      <td>Yes</td>\n",
       "      <td>Yes</td>\n",
       "      <td>98.0</td>\n",
       "      <td>1237.85</td>\n",
       "      <td>Yes</td>\n",
       "      <td>Electronic check</td>\n",
       "      <td>Month-to-month</td>\n",
       "      <td>Fiber optic</td>\n",
       "    </tr>\n",
       "    <tr>\n",
       "      <th>4</th>\n",
       "      <td>Female</td>\n",
       "      <td>1</td>\n",
       "      <td>Yes</td>\n",
       "      <td>No</td>\n",
       "      <td>3</td>\n",
       "      <td>Yes</td>\n",
       "      <td>No</td>\n",
       "      <td>No</td>\n",
       "      <td>No</td>\n",
       "      <td>No</td>\n",
       "      <td>Yes</td>\n",
       "      <td>Yes</td>\n",
       "      <td>No</td>\n",
       "      <td>Yes</td>\n",
       "      <td>83.9</td>\n",
       "      <td>267.4</td>\n",
       "      <td>Yes</td>\n",
       "      <td>Mailed check</td>\n",
       "      <td>Month-to-month</td>\n",
       "      <td>Fiber optic</td>\n",
       "    </tr>\n",
       "  </tbody>\n",
       "</table>\n",
       "</div>"
      ],
      "text/plain": [
       "   gender  senior_citizen partner dependents  tenure phone_service  \\\n",
       "0  Female               0     Yes        Yes       9           Yes   \n",
       "1    Male               0      No         No       9           Yes   \n",
       "2    Male               0      No         No       4           Yes   \n",
       "3    Male               1     Yes         No      13           Yes   \n",
       "4  Female               1     Yes         No       3           Yes   \n",
       "\n",
       "  multiple_lines online_security online_backup device_protection tech_support  \\\n",
       "0             No              No           Yes                No          Yes   \n",
       "1            Yes              No            No                No           No   \n",
       "2             No              No            No               Yes           No   \n",
       "3             No              No           Yes               Yes           No   \n",
       "4             No              No            No                No          Yes   \n",
       "\n",
       "  streaming_tv streaming_movies paperless_billing  monthly_charges  \\\n",
       "0          Yes               No               Yes             65.6   \n",
       "1           No              Yes                No             59.9   \n",
       "2           No               No               Yes             73.9   \n",
       "3          Yes              Yes               Yes             98.0   \n",
       "4          Yes               No               Yes             83.9   \n",
       "\n",
       "  total_charges churn      payment_type   contract_type internet_service_type  \n",
       "0         593.3    No      Mailed check        One year                   DSL  \n",
       "1         542.4    No      Mailed check  Month-to-month                   DSL  \n",
       "2        280.85   Yes  Electronic check  Month-to-month           Fiber optic  \n",
       "3       1237.85   Yes  Electronic check  Month-to-month           Fiber optic  \n",
       "4         267.4   Yes      Mailed check  Month-to-month           Fiber optic  "
      ]
     },
     "execution_count": 8,
     "metadata": {},
     "output_type": "execute_result"
    }
   ],
   "source": [
    "#calling function I made within prep module to drop columns\n",
    "df = prep.drop_cols(df)\n",
    "df.head()"
   ]
  },
  {
   "cell_type": "code",
   "execution_count": 9,
   "id": "f754cbd6",
   "metadata": {
    "scrolled": true
   },
   "outputs": [
    {
     "name": "stdout",
     "output_type": "stream",
     "text": [
      "<class 'pandas.core.frame.DataFrame'>\n",
      "RangeIndex: 7043 entries, 0 to 7042\n",
      "Data columns (total 20 columns):\n",
      " #   Column                 Non-Null Count  Dtype  \n",
      "---  ------                 --------------  -----  \n",
      " 0   gender                 7043 non-null   object \n",
      " 1   senior_citizen         7043 non-null   int64  \n",
      " 2   partner                7043 non-null   object \n",
      " 3   dependents             7043 non-null   object \n",
      " 4   tenure                 7043 non-null   int64  \n",
      " 5   phone_service          7043 non-null   object \n",
      " 6   multiple_lines         7043 non-null   object \n",
      " 7   online_security        7043 non-null   object \n",
      " 8   online_backup          7043 non-null   object \n",
      " 9   device_protection      7043 non-null   object \n",
      " 10  tech_support           7043 non-null   object \n",
      " 11  streaming_tv           7043 non-null   object \n",
      " 12  streaming_movies       7043 non-null   object \n",
      " 13  paperless_billing      7043 non-null   object \n",
      " 14  monthly_charges        7043 non-null   float64\n",
      " 15  total_charges          7043 non-null   object \n",
      " 16  churn                  7043 non-null   object \n",
      " 17  payment_type           7043 non-null   object \n",
      " 18  contract_type          7043 non-null   object \n",
      " 19  internet_service_type  7043 non-null   object \n",
      "dtypes: float64(1), int64(2), object(17)\n",
      "memory usage: 1.1+ MB\n"
     ]
    }
   ],
   "source": [
    "df.info()"
   ]
  },
  {
   "cell_type": "markdown",
   "id": "6c53b23a",
   "metadata": {},
   "source": [
    "## #Total charges is an object. It will be more effective as a float."
   ]
  },
  {
   "cell_type": "code",
   "execution_count": 10,
   "id": "18051821",
   "metadata": {},
   "outputs": [
    {
     "data": {
      "text/html": [
       "<div>\n",
       "<style scoped>\n",
       "    .dataframe tbody tr th:only-of-type {\n",
       "        vertical-align: middle;\n",
       "    }\n",
       "\n",
       "    .dataframe tbody tr th {\n",
       "        vertical-align: top;\n",
       "    }\n",
       "\n",
       "    .dataframe thead th {\n",
       "        text-align: right;\n",
       "    }\n",
       "</style>\n",
       "<table border=\"1\" class=\"dataframe\">\n",
       "  <thead>\n",
       "    <tr style=\"text-align: right;\">\n",
       "      <th></th>\n",
       "      <th>gender</th>\n",
       "      <th>senior_citizen</th>\n",
       "      <th>partner</th>\n",
       "      <th>dependents</th>\n",
       "      <th>tenure</th>\n",
       "      <th>phone_service</th>\n",
       "      <th>multiple_lines</th>\n",
       "      <th>online_security</th>\n",
       "      <th>online_backup</th>\n",
       "      <th>device_protection</th>\n",
       "      <th>tech_support</th>\n",
       "      <th>streaming_tv</th>\n",
       "      <th>streaming_movies</th>\n",
       "      <th>paperless_billing</th>\n",
       "      <th>monthly_charges</th>\n",
       "      <th>total_charges</th>\n",
       "      <th>churn</th>\n",
       "      <th>payment_type</th>\n",
       "      <th>contract_type</th>\n",
       "      <th>internet_service_type</th>\n",
       "    </tr>\n",
       "  </thead>\n",
       "  <tbody>\n",
       "    <tr>\n",
       "      <th>0</th>\n",
       "      <td>Female</td>\n",
       "      <td>0</td>\n",
       "      <td>Yes</td>\n",
       "      <td>Yes</td>\n",
       "      <td>9</td>\n",
       "      <td>Yes</td>\n",
       "      <td>No</td>\n",
       "      <td>No</td>\n",
       "      <td>Yes</td>\n",
       "      <td>No</td>\n",
       "      <td>Yes</td>\n",
       "      <td>Yes</td>\n",
       "      <td>No</td>\n",
       "      <td>Yes</td>\n",
       "      <td>65.60</td>\n",
       "      <td>593.30</td>\n",
       "      <td>No</td>\n",
       "      <td>Mailed check</td>\n",
       "      <td>One year</td>\n",
       "      <td>DSL</td>\n",
       "    </tr>\n",
       "    <tr>\n",
       "      <th>1</th>\n",
       "      <td>Male</td>\n",
       "      <td>0</td>\n",
       "      <td>No</td>\n",
       "      <td>No</td>\n",
       "      <td>9</td>\n",
       "      <td>Yes</td>\n",
       "      <td>Yes</td>\n",
       "      <td>No</td>\n",
       "      <td>No</td>\n",
       "      <td>No</td>\n",
       "      <td>No</td>\n",
       "      <td>No</td>\n",
       "      <td>Yes</td>\n",
       "      <td>No</td>\n",
       "      <td>59.90</td>\n",
       "      <td>542.40</td>\n",
       "      <td>No</td>\n",
       "      <td>Mailed check</td>\n",
       "      <td>Month-to-month</td>\n",
       "      <td>DSL</td>\n",
       "    </tr>\n",
       "    <tr>\n",
       "      <th>2</th>\n",
       "      <td>Male</td>\n",
       "      <td>0</td>\n",
       "      <td>No</td>\n",
       "      <td>No</td>\n",
       "      <td>4</td>\n",
       "      <td>Yes</td>\n",
       "      <td>No</td>\n",
       "      <td>No</td>\n",
       "      <td>No</td>\n",
       "      <td>Yes</td>\n",
       "      <td>No</td>\n",
       "      <td>No</td>\n",
       "      <td>No</td>\n",
       "      <td>Yes</td>\n",
       "      <td>73.90</td>\n",
       "      <td>280.85</td>\n",
       "      <td>Yes</td>\n",
       "      <td>Electronic check</td>\n",
       "      <td>Month-to-month</td>\n",
       "      <td>Fiber optic</td>\n",
       "    </tr>\n",
       "    <tr>\n",
       "      <th>3</th>\n",
       "      <td>Male</td>\n",
       "      <td>1</td>\n",
       "      <td>Yes</td>\n",
       "      <td>No</td>\n",
       "      <td>13</td>\n",
       "      <td>Yes</td>\n",
       "      <td>No</td>\n",
       "      <td>No</td>\n",
       "      <td>Yes</td>\n",
       "      <td>Yes</td>\n",
       "      <td>No</td>\n",
       "      <td>Yes</td>\n",
       "      <td>Yes</td>\n",
       "      <td>Yes</td>\n",
       "      <td>98.00</td>\n",
       "      <td>1237.85</td>\n",
       "      <td>Yes</td>\n",
       "      <td>Electronic check</td>\n",
       "      <td>Month-to-month</td>\n",
       "      <td>Fiber optic</td>\n",
       "    </tr>\n",
       "    <tr>\n",
       "      <th>4</th>\n",
       "      <td>Female</td>\n",
       "      <td>1</td>\n",
       "      <td>Yes</td>\n",
       "      <td>No</td>\n",
       "      <td>3</td>\n",
       "      <td>Yes</td>\n",
       "      <td>No</td>\n",
       "      <td>No</td>\n",
       "      <td>No</td>\n",
       "      <td>No</td>\n",
       "      <td>Yes</td>\n",
       "      <td>Yes</td>\n",
       "      <td>No</td>\n",
       "      <td>Yes</td>\n",
       "      <td>83.90</td>\n",
       "      <td>267.40</td>\n",
       "      <td>Yes</td>\n",
       "      <td>Mailed check</td>\n",
       "      <td>Month-to-month</td>\n",
       "      <td>Fiber optic</td>\n",
       "    </tr>\n",
       "    <tr>\n",
       "      <th>...</th>\n",
       "      <td>...</td>\n",
       "      <td>...</td>\n",
       "      <td>...</td>\n",
       "      <td>...</td>\n",
       "      <td>...</td>\n",
       "      <td>...</td>\n",
       "      <td>...</td>\n",
       "      <td>...</td>\n",
       "      <td>...</td>\n",
       "      <td>...</td>\n",
       "      <td>...</td>\n",
       "      <td>...</td>\n",
       "      <td>...</td>\n",
       "      <td>...</td>\n",
       "      <td>...</td>\n",
       "      <td>...</td>\n",
       "      <td>...</td>\n",
       "      <td>...</td>\n",
       "      <td>...</td>\n",
       "      <td>...</td>\n",
       "    </tr>\n",
       "    <tr>\n",
       "      <th>7038</th>\n",
       "      <td>Female</td>\n",
       "      <td>0</td>\n",
       "      <td>No</td>\n",
       "      <td>No</td>\n",
       "      <td>13</td>\n",
       "      <td>Yes</td>\n",
       "      <td>No</td>\n",
       "      <td>Yes</td>\n",
       "      <td>No</td>\n",
       "      <td>No</td>\n",
       "      <td>Yes</td>\n",
       "      <td>No</td>\n",
       "      <td>No</td>\n",
       "      <td>No</td>\n",
       "      <td>55.15</td>\n",
       "      <td>742.90</td>\n",
       "      <td>No</td>\n",
       "      <td>Mailed check</td>\n",
       "      <td>One year</td>\n",
       "      <td>DSL</td>\n",
       "    </tr>\n",
       "    <tr>\n",
       "      <th>7039</th>\n",
       "      <td>Male</td>\n",
       "      <td>0</td>\n",
       "      <td>Yes</td>\n",
       "      <td>No</td>\n",
       "      <td>22</td>\n",
       "      <td>Yes</td>\n",
       "      <td>Yes</td>\n",
       "      <td>No</td>\n",
       "      <td>No</td>\n",
       "      <td>No</td>\n",
       "      <td>No</td>\n",
       "      <td>No</td>\n",
       "      <td>Yes</td>\n",
       "      <td>Yes</td>\n",
       "      <td>85.10</td>\n",
       "      <td>1873.70</td>\n",
       "      <td>Yes</td>\n",
       "      <td>Electronic check</td>\n",
       "      <td>Month-to-month</td>\n",
       "      <td>Fiber optic</td>\n",
       "    </tr>\n",
       "    <tr>\n",
       "      <th>7040</th>\n",
       "      <td>Male</td>\n",
       "      <td>0</td>\n",
       "      <td>No</td>\n",
       "      <td>No</td>\n",
       "      <td>2</td>\n",
       "      <td>Yes</td>\n",
       "      <td>No</td>\n",
       "      <td>No</td>\n",
       "      <td>Yes</td>\n",
       "      <td>No</td>\n",
       "      <td>No</td>\n",
       "      <td>No</td>\n",
       "      <td>No</td>\n",
       "      <td>Yes</td>\n",
       "      <td>50.30</td>\n",
       "      <td>92.75</td>\n",
       "      <td>No</td>\n",
       "      <td>Mailed check</td>\n",
       "      <td>Month-to-month</td>\n",
       "      <td>DSL</td>\n",
       "    </tr>\n",
       "    <tr>\n",
       "      <th>7041</th>\n",
       "      <td>Male</td>\n",
       "      <td>0</td>\n",
       "      <td>Yes</td>\n",
       "      <td>Yes</td>\n",
       "      <td>67</td>\n",
       "      <td>Yes</td>\n",
       "      <td>No</td>\n",
       "      <td>Yes</td>\n",
       "      <td>No</td>\n",
       "      <td>Yes</td>\n",
       "      <td>Yes</td>\n",
       "      <td>No</td>\n",
       "      <td>Yes</td>\n",
       "      <td>No</td>\n",
       "      <td>67.85</td>\n",
       "      <td>4627.65</td>\n",
       "      <td>No</td>\n",
       "      <td>Mailed check</td>\n",
       "      <td>Two year</td>\n",
       "      <td>DSL</td>\n",
       "    </tr>\n",
       "    <tr>\n",
       "      <th>7042</th>\n",
       "      <td>Male</td>\n",
       "      <td>0</td>\n",
       "      <td>Yes</td>\n",
       "      <td>Yes</td>\n",
       "      <td>63</td>\n",
       "      <td>No</td>\n",
       "      <td>No phone service</td>\n",
       "      <td>Yes</td>\n",
       "      <td>Yes</td>\n",
       "      <td>Yes</td>\n",
       "      <td>No</td>\n",
       "      <td>Yes</td>\n",
       "      <td>Yes</td>\n",
       "      <td>No</td>\n",
       "      <td>59.00</td>\n",
       "      <td>3707.60</td>\n",
       "      <td>No</td>\n",
       "      <td>Electronic check</td>\n",
       "      <td>Two year</td>\n",
       "      <td>DSL</td>\n",
       "    </tr>\n",
       "  </tbody>\n",
       "</table>\n",
       "<p>7043 rows × 20 columns</p>\n",
       "</div>"
      ],
      "text/plain": [
       "      gender  senior_citizen partner dependents  tenure phone_service  \\\n",
       "0     Female               0     Yes        Yes       9           Yes   \n",
       "1       Male               0      No         No       9           Yes   \n",
       "2       Male               0      No         No       4           Yes   \n",
       "3       Male               1     Yes         No      13           Yes   \n",
       "4     Female               1     Yes         No       3           Yes   \n",
       "...      ...             ...     ...        ...     ...           ...   \n",
       "7038  Female               0      No         No      13           Yes   \n",
       "7039    Male               0     Yes         No      22           Yes   \n",
       "7040    Male               0      No         No       2           Yes   \n",
       "7041    Male               0     Yes        Yes      67           Yes   \n",
       "7042    Male               0     Yes        Yes      63            No   \n",
       "\n",
       "        multiple_lines online_security online_backup device_protection  \\\n",
       "0                   No              No           Yes                No   \n",
       "1                  Yes              No            No                No   \n",
       "2                   No              No            No               Yes   \n",
       "3                   No              No           Yes               Yes   \n",
       "4                   No              No            No                No   \n",
       "...                ...             ...           ...               ...   \n",
       "7038                No             Yes            No                No   \n",
       "7039               Yes              No            No                No   \n",
       "7040                No              No           Yes                No   \n",
       "7041                No             Yes            No               Yes   \n",
       "7042  No phone service             Yes           Yes               Yes   \n",
       "\n",
       "     tech_support streaming_tv streaming_movies paperless_billing  \\\n",
       "0             Yes          Yes               No               Yes   \n",
       "1              No           No              Yes                No   \n",
       "2              No           No               No               Yes   \n",
       "3              No          Yes              Yes               Yes   \n",
       "4             Yes          Yes               No               Yes   \n",
       "...           ...          ...              ...               ...   \n",
       "7038          Yes           No               No                No   \n",
       "7039           No           No              Yes               Yes   \n",
       "7040           No           No               No               Yes   \n",
       "7041          Yes           No              Yes                No   \n",
       "7042           No          Yes              Yes                No   \n",
       "\n",
       "      monthly_charges  total_charges churn      payment_type   contract_type  \\\n",
       "0               65.60         593.30    No      Mailed check        One year   \n",
       "1               59.90         542.40    No      Mailed check  Month-to-month   \n",
       "2               73.90         280.85   Yes  Electronic check  Month-to-month   \n",
       "3               98.00        1237.85   Yes  Electronic check  Month-to-month   \n",
       "4               83.90         267.40   Yes      Mailed check  Month-to-month   \n",
       "...               ...            ...   ...               ...             ...   \n",
       "7038            55.15         742.90    No      Mailed check        One year   \n",
       "7039            85.10        1873.70   Yes  Electronic check  Month-to-month   \n",
       "7040            50.30          92.75    No      Mailed check  Month-to-month   \n",
       "7041            67.85        4627.65    No      Mailed check        Two year   \n",
       "7042            59.00        3707.60    No  Electronic check        Two year   \n",
       "\n",
       "     internet_service_type  \n",
       "0                      DSL  \n",
       "1                      DSL  \n",
       "2              Fiber optic  \n",
       "3              Fiber optic  \n",
       "4              Fiber optic  \n",
       "...                    ...  \n",
       "7038                   DSL  \n",
       "7039           Fiber optic  \n",
       "7040                   DSL  \n",
       "7041                   DSL  \n",
       "7042                   DSL  \n",
       "\n",
       "[7043 rows x 20 columns]"
      ]
     },
     "execution_count": 10,
     "metadata": {},
     "output_type": "execute_result"
    }
   ],
   "source": [
    "#calling a function that casts total charges dtype to float.\n",
    "prep.change_dtype(df)"
   ]
  },
  {
   "cell_type": "code",
   "execution_count": 11,
   "id": "9ceafdb4",
   "metadata": {},
   "outputs": [],
   "source": [
    "#How I cast it to a float\n",
    "df.total_charges = df.total_charges.replace(' ', 0)"
   ]
  },
  {
   "cell_type": "code",
   "execution_count": 12,
   "id": "7b2f36c6",
   "metadata": {
    "scrolled": true
   },
   "outputs": [
    {
     "data": {
      "text/plain": [
       "0     593.30\n",
       "1     542.40\n",
       "2     280.85\n",
       "3    1237.85\n",
       "4     267.40\n",
       "Name: total_charges, dtype: float64"
      ]
     },
     "execution_count": 12,
     "metadata": {},
     "output_type": "execute_result"
    }
   ],
   "source": [
    "#How I cast it to a float\n",
    "df.total_charges = df.total_charges.astype(float)\n",
    "df.total_charges.head()"
   ]
  },
  {
   "cell_type": "markdown",
   "id": "d1f10f79",
   "metadata": {},
   "source": [
    "## #I noticed churn contains yes/no values. It would be more effective to have values 1/0. I had to run next line of code during model phase."
   ]
  },
  {
   "cell_type": "code",
   "execution_count": 13,
   "id": "8c8fce62",
   "metadata": {},
   "outputs": [],
   "source": [
    "#converted churn values to 1/0.\n",
    "#df['churn'] = df['churn'].map({'Yes': 1, 'No': 0})"
   ]
  },
  {
   "cell_type": "code",
   "execution_count": 14,
   "id": "21574c2a",
   "metadata": {
    "scrolled": false
   },
   "outputs": [
    {
     "data": {
      "text/plain": [
       "No     5174\n",
       "Yes    1869\n",
       "Name: churn, dtype: int64"
      ]
     },
     "execution_count": 14,
     "metadata": {},
     "output_type": "execute_result"
    }
   ],
   "source": [
    "#verify changes\n",
    "df.churn.value_counts()"
   ]
  },
  {
   "cell_type": "code",
   "execution_count": 15,
   "id": "85205bbd",
   "metadata": {
    "scrolled": true
   },
   "outputs": [],
   "source": [
    "#I was doing this before dropping the column.\n",
    "#df.signup_date = (pd.to_datetime(df.signup_date)).dt.date"
   ]
  },
  {
   "cell_type": "markdown",
   "id": "a7139d1e",
   "metadata": {},
   "source": [
    "## - Split train, val, test."
   ]
  },
  {
   "cell_type": "code",
   "execution_count": 16,
   "id": "538dc092",
   "metadata": {
    "scrolled": false
   },
   "outputs": [],
   "source": [
    "#called function to split my data set (70%, 15%, 15%).\n",
    "train, val, test = prep.train_val_test(df, 'churn')"
   ]
  },
  {
   "cell_type": "code",
   "execution_count": 17,
   "id": "476bcee6",
   "metadata": {},
   "outputs": [
    {
     "data": {
      "text/plain": [
       "((4930, 20), (1056, 20), (1057, 20))"
      ]
     },
     "execution_count": 17,
     "metadata": {},
     "output_type": "execute_result"
    }
   ],
   "source": [
    "#verify all columns match.\n",
    "train.shape, val.shape, test.shape"
   ]
  },
  {
   "cell_type": "markdown",
   "id": "331a36e5",
   "metadata": {},
   "source": [
    "## #I feel good with these changes."
   ]
  },
  {
   "cell_type": "markdown",
   "id": "d9e43129",
   "metadata": {},
   "source": [
    "## 3. Exploration"
   ]
  },
  {
   "cell_type": "code",
   "execution_count": 18,
   "id": "8dd1b372",
   "metadata": {},
   "outputs": [
    {
     "data": {
      "image/png": "[encoded data removed]",
      "text/plain": [
       "<Figure size 1000x1000 with 14 Axes>"
      ]
     },
     "metadata": {},
     "output_type": "display_data"
    }
   ],
   "source": [
    "sns.pairplot(df, corner=True)\n",
    "plt.suptitle(\"sns.pairplot visualizes continuous variable relationships\")\n",
    "plt.show()\n"
   ]
  },
  {
   "cell_type": "markdown",
   "id": "9f9d2b72",
   "metadata": {},
   "source": [
    "## #This does not make sense to me."
   ]
  },
  {
   "cell_type": "markdown",
   "id": "4a19cc3f",
   "metadata": {},
   "source": [
    "## # I will run correlation tests on my train subset."
   ]
  },
  {
   "cell_type": "code",
   "execution_count": 19,
   "id": "92185060",
   "metadata": {},
   "outputs": [],
   "source": [
    "#assigned x,y to features I want to test.\n",
    "x = train.total_charges\n",
    "y = train.tenure"
   ]
  },
  {
   "cell_type": "code",
   "execution_count": 20,
   "id": "3d8914c4",
   "metadata": {
    "scrolled": true
   },
   "outputs": [],
   "source": [
    "#function to run the pearsonr function.\n",
    "def corr(x, y):\n",
    "\n",
    "    corr, p = stats.pearsonr(x, y)\n",
    "    \n",
    "    return corr, p"
   ]
  },
  {
   "cell_type": "code",
   "execution_count": 21,
   "id": "6b6fee2a",
   "metadata": {},
   "outputs": [
    {
     "data": {
      "text/plain": [
       "(0.82695490015571, 0.0)"
      ]
     },
     "execution_count": 21,
     "metadata": {},
     "output_type": "execute_result"
    }
   ],
   "source": [
    "#call function.\n",
    "corr(x, y)"
   ]
  },
  {
   "cell_type": "code",
   "execution_count": 22,
   "id": "a03677fe",
   "metadata": {},
   "outputs": [
    {
     "data": {
      "text/plain": [
       "(0.2552668654004236, 3.488717256687844e-74)"
      ]
     },
     "execution_count": 22,
     "metadata": {},
     "output_type": "execute_result"
    }
   ],
   "source": [
    "#same function different features.\n",
    "x = train.monthly_charges\n",
    "y = train.tenure\n",
    "corr(x, y)"
   ]
  },
  {
   "cell_type": "code",
   "execution_count": 23,
   "id": "bce88db9",
   "metadata": {},
   "outputs": [],
   "source": [
    "#same function different features.\n",
    "#x = train.monthly_charges\n",
    "#y = train.churn\n",
    "#corr(x, y)"
   ]
  },
  {
   "cell_type": "markdown",
   "id": "171ca724",
   "metadata": {},
   "source": [
    "## #I need to review this lesson. Not sure if this is correct and confused what the values mean."
   ]
  },
  {
   "cell_type": "markdown",
   "id": "34aeb7ca",
   "metadata": {},
   "source": [
    "## - Visualize"
   ]
  },
  {
   "cell_type": "code",
   "execution_count": 24,
   "id": "50a9db7e",
   "metadata": {
    "scrolled": true
   },
   "outputs": [
    {
     "data": {
      "text/html": [
       "<div>\n",
       "<style scoped>\n",
       "    .dataframe tbody tr th:only-of-type {\n",
       "        vertical-align: middle;\n",
       "    }\n",
       "\n",
       "    .dataframe tbody tr th {\n",
       "        vertical-align: top;\n",
       "    }\n",
       "\n",
       "    .dataframe thead th {\n",
       "        text-align: right;\n",
       "    }\n",
       "</style>\n",
       "<table border=\"1\" class=\"dataframe\">\n",
       "  <thead>\n",
       "    <tr style=\"text-align: right;\">\n",
       "      <th>phone_service</th>\n",
       "      <th>No</th>\n",
       "      <th>Yes</th>\n",
       "    </tr>\n",
       "    <tr>\n",
       "      <th>churn</th>\n",
       "      <th></th>\n",
       "      <th></th>\n",
       "    </tr>\n",
       "  </thead>\n",
       "  <tbody>\n",
       "    <tr>\n",
       "      <th>No</th>\n",
       "      <td>331</td>\n",
       "      <td>3291</td>\n",
       "    </tr>\n",
       "    <tr>\n",
       "      <th>Yes</th>\n",
       "      <td>114</td>\n",
       "      <td>1194</td>\n",
       "    </tr>\n",
       "  </tbody>\n",
       "</table>\n",
       "</div>"
      ],
      "text/plain": [
       "phone_service   No   Yes\n",
       "churn                   \n",
       "No             331  3291\n",
       "Yes            114  1194"
      ]
     },
     "execution_count": 24,
     "metadata": {},
     "output_type": "execute_result"
    }
   ],
   "source": [
    "#crosstab visual.\n",
    "pd.crosstab(train.churn, train.phone_service)"
   ]
  },
  {
   "cell_type": "code",
   "execution_count": 25,
   "id": "9e641298",
   "metadata": {
    "scrolled": true
   },
   "outputs": [
    {
     "data": {
      "text/plain": [
       "<seaborn.axisgrid.FacetGrid at 0x149d1df50>"
      ]
     },
     "execution_count": 25,
     "metadata": {},
     "output_type": "execute_result"
    },
    {
     "data": {
      "image/png": "[encoded data removed]",
      "text/plain": [
       "<Figure size 500x500 with 1 Axes>"
      ]
     },
     "metadata": {},
     "output_type": "display_data"
    }
   ],
   "source": [
    "#catplot for numerical to categorical features.\n",
    "sns.catplot(data = train, x = 'churn', y = 'tenure', kind = 'bar')"
   ]
  },
  {
   "cell_type": "markdown",
   "id": "5a9d4e91",
   "metadata": {},
   "source": [
    "## #customers mostlikely to churn within about 17 months"
   ]
  },
  {
   "cell_type": "code",
   "execution_count": 26,
   "id": "eeb352bc",
   "metadata": {
    "scrolled": false
   },
   "outputs": [
    {
     "data": {
      "text/plain": [
       "<Axes: xlabel='gender', ylabel='count'>"
      ]
     },
     "execution_count": 26,
     "metadata": {},
     "output_type": "execute_result"
    },
    {
     "data": {
      "image/png": "[encoded data removed]",
      "text/plain": [
       "<Figure size 640x480 with 1 Axes>"
      ]
     },
     "metadata": {},
     "output_type": "display_data"
    }
   ],
   "source": [
    "sns.countplot(data= train, x=\"gender\", hue=\"churn\")"
   ]
  },
  {
   "cell_type": "code",
   "execution_count": 27,
   "id": "f66979e4",
   "metadata": {
    "scrolled": false
   },
   "outputs": [
    {
     "data": {
      "text/html": [
       "<div>\n",
       "<style scoped>\n",
       "    .dataframe tbody tr th:only-of-type {\n",
       "        vertical-align: middle;\n",
       "    }\n",
       "\n",
       "    .dataframe tbody tr th {\n",
       "        vertical-align: top;\n",
       "    }\n",
       "\n",
       "    .dataframe thead th {\n",
       "        text-align: right;\n",
       "    }\n",
       "</style>\n",
       "<table border=\"1\" class=\"dataframe\">\n",
       "  <thead>\n",
       "    <tr style=\"text-align: right;\">\n",
       "      <th></th>\n",
       "      <th>gender</th>\n",
       "      <th>senior_citizen</th>\n",
       "      <th>partner</th>\n",
       "      <th>dependents</th>\n",
       "      <th>tenure</th>\n",
       "      <th>phone_service</th>\n",
       "      <th>multiple_lines</th>\n",
       "      <th>online_security</th>\n",
       "      <th>online_backup</th>\n",
       "      <th>device_protection</th>\n",
       "      <th>tech_support</th>\n",
       "      <th>streaming_tv</th>\n",
       "      <th>streaming_movies</th>\n",
       "      <th>paperless_billing</th>\n",
       "      <th>monthly_charges</th>\n",
       "      <th>total_charges</th>\n",
       "      <th>churn</th>\n",
       "      <th>payment_type</th>\n",
       "      <th>contract_type</th>\n",
       "      <th>internet_service_type</th>\n",
       "    </tr>\n",
       "  </thead>\n",
       "  <tbody>\n",
       "    <tr>\n",
       "      <th>5609</th>\n",
       "      <td>Male</td>\n",
       "      <td>0</td>\n",
       "      <td>No</td>\n",
       "      <td>No</td>\n",
       "      <td>14</td>\n",
       "      <td>Yes</td>\n",
       "      <td>No</td>\n",
       "      <td>No</td>\n",
       "      <td>No</td>\n",
       "      <td>Yes</td>\n",
       "      <td>No</td>\n",
       "      <td>No</td>\n",
       "      <td>No</td>\n",
       "      <td>No</td>\n",
       "      <td>76.45</td>\n",
       "      <td>1117.55</td>\n",
       "      <td>No</td>\n",
       "      <td>Electronic check</td>\n",
       "      <td>Month-to-month</td>\n",
       "      <td>Fiber optic</td>\n",
       "    </tr>\n",
       "    <tr>\n",
       "      <th>2209</th>\n",
       "      <td>Male</td>\n",
       "      <td>0</td>\n",
       "      <td>No</td>\n",
       "      <td>No</td>\n",
       "      <td>5</td>\n",
       "      <td>Yes</td>\n",
       "      <td>No</td>\n",
       "      <td>No</td>\n",
       "      <td>No</td>\n",
       "      <td>Yes</td>\n",
       "      <td>No</td>\n",
       "      <td>Yes</td>\n",
       "      <td>Yes</td>\n",
       "      <td>Yes</td>\n",
       "      <td>70.00</td>\n",
       "      <td>347.40</td>\n",
       "      <td>Yes</td>\n",
       "      <td>Mailed check</td>\n",
       "      <td>One year</td>\n",
       "      <td>DSL</td>\n",
       "    </tr>\n",
       "    <tr>\n",
       "      <th>6919</th>\n",
       "      <td>Male</td>\n",
       "      <td>0</td>\n",
       "      <td>Yes</td>\n",
       "      <td>No</td>\n",
       "      <td>35</td>\n",
       "      <td>Yes</td>\n",
       "      <td>Yes</td>\n",
       "      <td>No</td>\n",
       "      <td>No</td>\n",
       "      <td>No</td>\n",
       "      <td>No</td>\n",
       "      <td>No</td>\n",
       "      <td>No</td>\n",
       "      <td>Yes</td>\n",
       "      <td>75.20</td>\n",
       "      <td>2576.20</td>\n",
       "      <td>Yes</td>\n",
       "      <td>Electronic check</td>\n",
       "      <td>Month-to-month</td>\n",
       "      <td>Fiber optic</td>\n",
       "    </tr>\n",
       "    <tr>\n",
       "      <th>2284</th>\n",
       "      <td>Male</td>\n",
       "      <td>0</td>\n",
       "      <td>Yes</td>\n",
       "      <td>No</td>\n",
       "      <td>58</td>\n",
       "      <td>Yes</td>\n",
       "      <td>Yes</td>\n",
       "      <td>Yes</td>\n",
       "      <td>Yes</td>\n",
       "      <td>Yes</td>\n",
       "      <td>No</td>\n",
       "      <td>Yes</td>\n",
       "      <td>Yes</td>\n",
       "      <td>Yes</td>\n",
       "      <td>86.10</td>\n",
       "      <td>4890.50</td>\n",
       "      <td>No</td>\n",
       "      <td>Electronic check</td>\n",
       "      <td>Two year</td>\n",
       "      <td>DSL</td>\n",
       "    </tr>\n",
       "    <tr>\n",
       "      <th>845</th>\n",
       "      <td>Female</td>\n",
       "      <td>0</td>\n",
       "      <td>No</td>\n",
       "      <td>No</td>\n",
       "      <td>2</td>\n",
       "      <td>Yes</td>\n",
       "      <td>No</td>\n",
       "      <td>No</td>\n",
       "      <td>Yes</td>\n",
       "      <td>No</td>\n",
       "      <td>No</td>\n",
       "      <td>No</td>\n",
       "      <td>No</td>\n",
       "      <td>Yes</td>\n",
       "      <td>49.60</td>\n",
       "      <td>114.70</td>\n",
       "      <td>Yes</td>\n",
       "      <td>Mailed check</td>\n",
       "      <td>Month-to-month</td>\n",
       "      <td>DSL</td>\n",
       "    </tr>\n",
       "    <tr>\n",
       "      <th>...</th>\n",
       "      <td>...</td>\n",
       "      <td>...</td>\n",
       "      <td>...</td>\n",
       "      <td>...</td>\n",
       "      <td>...</td>\n",
       "      <td>...</td>\n",
       "      <td>...</td>\n",
       "      <td>...</td>\n",
       "      <td>...</td>\n",
       "      <td>...</td>\n",
       "      <td>...</td>\n",
       "      <td>...</td>\n",
       "      <td>...</td>\n",
       "      <td>...</td>\n",
       "      <td>...</td>\n",
       "      <td>...</td>\n",
       "      <td>...</td>\n",
       "      <td>...</td>\n",
       "      <td>...</td>\n",
       "      <td>...</td>\n",
       "    </tr>\n",
       "    <tr>\n",
       "      <th>4312</th>\n",
       "      <td>Male</td>\n",
       "      <td>0</td>\n",
       "      <td>Yes</td>\n",
       "      <td>Yes</td>\n",
       "      <td>40</td>\n",
       "      <td>Yes</td>\n",
       "      <td>Yes</td>\n",
       "      <td>No</td>\n",
       "      <td>No</td>\n",
       "      <td>Yes</td>\n",
       "      <td>No</td>\n",
       "      <td>No</td>\n",
       "      <td>No</td>\n",
       "      <td>Yes</td>\n",
       "      <td>81.20</td>\n",
       "      <td>3292.30</td>\n",
       "      <td>No</td>\n",
       "      <td>Electronic check</td>\n",
       "      <td>Month-to-month</td>\n",
       "      <td>Fiber optic</td>\n",
       "    </tr>\n",
       "    <tr>\n",
       "      <th>1501</th>\n",
       "      <td>Male</td>\n",
       "      <td>0</td>\n",
       "      <td>Yes</td>\n",
       "      <td>Yes</td>\n",
       "      <td>52</td>\n",
       "      <td>Yes</td>\n",
       "      <td>Yes</td>\n",
       "      <td>No internet service</td>\n",
       "      <td>No internet service</td>\n",
       "      <td>No internet service</td>\n",
       "      <td>No internet service</td>\n",
       "      <td>No internet service</td>\n",
       "      <td>No internet service</td>\n",
       "      <td>No</td>\n",
       "      <td>24.55</td>\n",
       "      <td>1331.05</td>\n",
       "      <td>No</td>\n",
       "      <td>Mailed check</td>\n",
       "      <td>Two year</td>\n",
       "      <td>None</td>\n",
       "    </tr>\n",
       "    <tr>\n",
       "      <th>6331</th>\n",
       "      <td>Female</td>\n",
       "      <td>0</td>\n",
       "      <td>Yes</td>\n",
       "      <td>Yes</td>\n",
       "      <td>22</td>\n",
       "      <td>Yes</td>\n",
       "      <td>No</td>\n",
       "      <td>No internet service</td>\n",
       "      <td>No internet service</td>\n",
       "      <td>No internet service</td>\n",
       "      <td>No internet service</td>\n",
       "      <td>No internet service</td>\n",
       "      <td>No internet service</td>\n",
       "      <td>No</td>\n",
       "      <td>20.75</td>\n",
       "      <td>452.35</td>\n",
       "      <td>No</td>\n",
       "      <td>Bank transfer (automatic)</td>\n",
       "      <td>One year</td>\n",
       "      <td>None</td>\n",
       "    </tr>\n",
       "    <tr>\n",
       "      <th>2739</th>\n",
       "      <td>Female</td>\n",
       "      <td>0</td>\n",
       "      <td>Yes</td>\n",
       "      <td>Yes</td>\n",
       "      <td>24</td>\n",
       "      <td>Yes</td>\n",
       "      <td>Yes</td>\n",
       "      <td>No internet service</td>\n",
       "      <td>No internet service</td>\n",
       "      <td>No internet service</td>\n",
       "      <td>No internet service</td>\n",
       "      <td>No internet service</td>\n",
       "      <td>No internet service</td>\n",
       "      <td>No</td>\n",
       "      <td>24.70</td>\n",
       "      <td>571.75</td>\n",
       "      <td>No</td>\n",
       "      <td>Mailed check</td>\n",
       "      <td>Two year</td>\n",
       "      <td>None</td>\n",
       "    </tr>\n",
       "    <tr>\n",
       "      <th>5679</th>\n",
       "      <td>Female</td>\n",
       "      <td>0</td>\n",
       "      <td>No</td>\n",
       "      <td>No</td>\n",
       "      <td>10</td>\n",
       "      <td>Yes</td>\n",
       "      <td>No</td>\n",
       "      <td>No internet service</td>\n",
       "      <td>No internet service</td>\n",
       "      <td>No internet service</td>\n",
       "      <td>No internet service</td>\n",
       "      <td>No internet service</td>\n",
       "      <td>No internet service</td>\n",
       "      <td>Yes</td>\n",
       "      <td>21.20</td>\n",
       "      <td>222.65</td>\n",
       "      <td>No</td>\n",
       "      <td>Electronic check</td>\n",
       "      <td>Month-to-month</td>\n",
       "      <td>None</td>\n",
       "    </tr>\n",
       "  </tbody>\n",
       "</table>\n",
       "<p>4930 rows × 20 columns</p>\n",
       "</div>"
      ],
      "text/plain": [
       "      gender  senior_citizen partner dependents  tenure phone_service  \\\n",
       "5609    Male               0      No         No      14           Yes   \n",
       "2209    Male               0      No         No       5           Yes   \n",
       "6919    Male               0     Yes         No      35           Yes   \n",
       "2284    Male               0     Yes         No      58           Yes   \n",
       "845   Female               0      No         No       2           Yes   \n",
       "...      ...             ...     ...        ...     ...           ...   \n",
       "4312    Male               0     Yes        Yes      40           Yes   \n",
       "1501    Male               0     Yes        Yes      52           Yes   \n",
       "6331  Female               0     Yes        Yes      22           Yes   \n",
       "2739  Female               0     Yes        Yes      24           Yes   \n",
       "5679  Female               0      No         No      10           Yes   \n",
       "\n",
       "     multiple_lines      online_security        online_backup  \\\n",
       "5609             No                   No                   No   \n",
       "2209             No                   No                   No   \n",
       "6919            Yes                   No                   No   \n",
       "2284            Yes                  Yes                  Yes   \n",
       "845              No                   No                  Yes   \n",
       "...             ...                  ...                  ...   \n",
       "4312            Yes                   No                   No   \n",
       "1501            Yes  No internet service  No internet service   \n",
       "6331             No  No internet service  No internet service   \n",
       "2739            Yes  No internet service  No internet service   \n",
       "5679             No  No internet service  No internet service   \n",
       "\n",
       "        device_protection         tech_support         streaming_tv  \\\n",
       "5609                  Yes                   No                   No   \n",
       "2209                  Yes                   No                  Yes   \n",
       "6919                   No                   No                   No   \n",
       "2284                  Yes                   No                  Yes   \n",
       "845                    No                   No                   No   \n",
       "...                   ...                  ...                  ...   \n",
       "4312                  Yes                   No                   No   \n",
       "1501  No internet service  No internet service  No internet service   \n",
       "6331  No internet service  No internet service  No internet service   \n",
       "2739  No internet service  No internet service  No internet service   \n",
       "5679  No internet service  No internet service  No internet service   \n",
       "\n",
       "         streaming_movies paperless_billing  monthly_charges  total_charges  \\\n",
       "5609                   No                No            76.45        1117.55   \n",
       "2209                  Yes               Yes            70.00         347.40   \n",
       "6919                   No               Yes            75.20        2576.20   \n",
       "2284                  Yes               Yes            86.10        4890.50   \n",
       "845                    No               Yes            49.60         114.70   \n",
       "...                   ...               ...              ...            ...   \n",
       "4312                   No               Yes            81.20        3292.30   \n",
       "1501  No internet service                No            24.55        1331.05   \n",
       "6331  No internet service                No            20.75         452.35   \n",
       "2739  No internet service                No            24.70         571.75   \n",
       "5679  No internet service               Yes            21.20         222.65   \n",
       "\n",
       "     churn               payment_type   contract_type internet_service_type  \n",
       "5609    No           Electronic check  Month-to-month           Fiber optic  \n",
       "2209   Yes               Mailed check        One year                   DSL  \n",
       "6919   Yes           Electronic check  Month-to-month           Fiber optic  \n",
       "2284    No           Electronic check        Two year                   DSL  \n",
       "845    Yes               Mailed check  Month-to-month                   DSL  \n",
       "...    ...                        ...             ...                   ...  \n",
       "4312    No           Electronic check  Month-to-month           Fiber optic  \n",
       "1501    No               Mailed check        Two year                  None  \n",
       "6331    No  Bank transfer (automatic)        One year                  None  \n",
       "2739    No               Mailed check        Two year                  None  \n",
       "5679    No           Electronic check  Month-to-month                  None  \n",
       "\n",
       "[4930 rows x 20 columns]"
      ]
     },
     "execution_count": 27,
     "metadata": {},
     "output_type": "execute_result"
    }
   ],
   "source": [
    "train[:]"
   ]
  },
  {
   "cell_type": "code",
   "execution_count": 28,
   "id": "7fb92e4d",
   "metadata": {},
   "outputs": [],
   "source": [
    "#can I create a functiom the calls all my columns and applies it to a countplot\n",
    "\n",
    "def c_plot(df, target):\n",
    "    \n",
    "    df = df[:]\n",
    "    \n",
    "    for col in df:\n",
    "    \n",
    "        return sns.countplot(data= df, x= col , hue= target)"
   ]
  },
  {
   "cell_type": "code",
   "execution_count": 29,
   "id": "1cdaa9ca",
   "metadata": {
    "scrolled": true
   },
   "outputs": [
    {
     "data": {
      "text/plain": [
       "<Axes: xlabel='gender', ylabel='count'>"
      ]
     },
     "execution_count": 29,
     "metadata": {},
     "output_type": "execute_result"
    },
    {
     "data": {
      "image/png": "[encoded data removed]",
      "text/plain": [
       "<Figure size 640x480 with 1 Axes>"
      ]
     },
     "metadata": {},
     "output_type": "display_data"
    }
   ],
   "source": [
    "c_plot(train, 'churn' )"
   ]
  },
  {
   "cell_type": "code",
   "execution_count": 30,
   "id": "5daff80c",
   "metadata": {
    "scrolled": true
   },
   "outputs": [
    {
     "name": "stdout",
     "output_type": "stream",
     "text": [
      "Chi-Square Statistic: 1.425229713773847\n",
      "P-value: 0.2325445321392852\n",
      "Degrees of Freedom: 1\n",
      "Expected Frequencies:\n",
      " [[1775.00040568 1846.99959432]\n",
      " [ 640.99959432  667.00040568]]\n",
      "There is no significant association between the variables.\n"
     ]
    }
   ],
   "source": [
    "cross_tab = pd.crosstab(train['churn'], train['gender'])\n",
    "\n",
    "chi2_stat, p_val, dof, expected = stats.chi2_contingency(cross_tab)\n",
    "\n",
    "print(\"Chi-Square Statistic:\", chi2_stat)\n",
    "print(\"P-value:\", p_val)\n",
    "print(\"Degrees of Freedom:\", dof)\n",
    "print(\"Expected Frequencies:\\n\", expected)\n",
    "\n",
    "if p_val < 0.05:\n",
    "    print(\"There is a significant association between the variables.\")\n",
    "else:\n",
    "    print(\"There is no significant association between the variables.\")\n"
   ]
  },
  {
   "cell_type": "markdown",
   "id": "c2387abb",
   "metadata": {},
   "source": [
    "## #there is no significance between these two features."
   ]
  },
  {
   "cell_type": "markdown",
   "id": "5bc21a53",
   "metadata": {},
   "source": [
    "## #since there is no significance I will drop the gender feature."
   ]
  },
  {
   "cell_type": "code",
   "execution_count": 31,
   "id": "3456e909",
   "metadata": {},
   "outputs": [],
   "source": [
    "#how I dropped the column later in preprocessing.\n",
    "#train = train.drop(columns = 'gender')"
   ]
  },
  {
   "cell_type": "code",
   "execution_count": 32,
   "id": "b76fa4e6",
   "metadata": {},
   "outputs": [],
   "source": [
    "#how I dropped the column.\n",
    "#val = val.drop(columns = 'gender')\n",
    "#test = test.drop(columns = 'gender')"
   ]
  },
  {
   "cell_type": "code",
   "execution_count": 33,
   "id": "6ca084d5",
   "metadata": {
    "scrolled": true
   },
   "outputs": [
    {
     "name": "stdout",
     "output_type": "stream",
     "text": [
      "Chi-Square Statistic: 127.52149549413217\n",
      "P-value: 1.4284535276057882e-29\n",
      "Degrees of Freedom: 1\n",
      "Expected Frequencies:\n",
      " [[2524.37971602 1097.62028398]\n",
      " [ 911.62028398  396.37971602]]\n",
      "There is a significant association between the variables.\n"
     ]
    }
   ],
   "source": [
    "cross_tab = pd.crosstab(train['churn'], train['dependents'])\n",
    "\n",
    "chi2_stat, p_val, dof, expected = stats.chi2_contingency(cross_tab)\n",
    "\n",
    "print(\"Chi-Square Statistic:\", chi2_stat)\n",
    "print(\"P-value:\", p_val)\n",
    "print(\"Degrees of Freedom:\", dof)\n",
    "print(\"Expected Frequencies:\\n\", expected)\n",
    "\n",
    "if p_val < 0.05:\n",
    "    print(\"There is a significant association between the variables.\")\n",
    "else:\n",
    "    print(\"There is no significant association between the variables.\")\n"
   ]
  },
  {
   "cell_type": "code",
   "execution_count": 34,
   "id": "23bc6d69",
   "metadata": {},
   "outputs": [
    {
     "data": {
      "text/plain": [
       "<Axes: xlabel='dependents', ylabel='count'>"
      ]
     },
     "execution_count": 34,
     "metadata": {},
     "output_type": "execute_result"
    },
    {
     "data": {
      "image/png": "[encoded data removed]",
      "text/plain": [
       "<Figure size 640x480 with 1 Axes>"
      ]
     },
     "metadata": {},
     "output_type": "display_data"
    }
   ],
   "source": [
    "sns.countplot(data = train, x = \"dependents\", hue = \"churn\")"
   ]
  },
  {
   "cell_type": "markdown",
   "id": "bdd91d93",
   "metadata": {},
   "source": [
    "## #those without dependents more likely to churn."
   ]
  },
  {
   "cell_type": "code",
   "execution_count": 35,
   "id": "b40c9097",
   "metadata": {
    "scrolled": true
   },
   "outputs": [
    {
     "name": "stdout",
     "output_type": "stream",
     "text": [
      "Chi-Square Statistic: 111.21233236449862\n",
      "P-value: 5.316079702345653e-26\n",
      "Degrees of Freedom: 1\n",
      "Expected Frequencies:\n",
      " [[3039.39432049  582.60567951]\n",
      " [1097.60567951  210.39432049]]\n",
      "There is a significant association between the variables.\n"
     ]
    }
   ],
   "source": [
    "cross_tab = pd.crosstab(train['churn'], train['senior_citizen'])\n",
    "\n",
    "chi2_stat, p_val, dof, expected = stats.chi2_contingency(cross_tab)\n",
    "\n",
    "print(\"Chi-Square Statistic:\", chi2_stat)\n",
    "print(\"P-value:\", p_val)\n",
    "print(\"Degrees of Freedom:\", dof)\n",
    "print(\"Expected Frequencies:\\n\", expected)\n",
    "\n",
    "if p_val < 0.05:\n",
    "    print(\"There is a significant association between the variables.\")\n",
    "else:\n",
    "    print(\"There is no significant association between the variables.\")\n"
   ]
  },
  {
   "cell_type": "code",
   "execution_count": 36,
   "id": "3a36896d",
   "metadata": {
    "scrolled": true
   },
   "outputs": [
    {
     "data": {
      "text/plain": [
       "<Axes: xlabel='senior_citizen', ylabel='count'>"
      ]
     },
     "execution_count": 36,
     "metadata": {},
     "output_type": "execute_result"
    },
    {
     "data": {
      "image/png": "[encoded data removed]",
      "text/plain": [
       "<Figure size 640x480 with 1 Axes>"
      ]
     },
     "metadata": {},
     "output_type": "display_data"
    }
   ],
   "source": [
    "sns.countplot(data= train, x=\"senior_citizen\", hue=\"churn\")"
   ]
  },
  {
   "cell_type": "markdown",
   "id": "96c62fdc",
   "metadata": {},
   "source": [
    "## #not sure of this association but seems like non senior citizens more likely to churn."
   ]
  },
  {
   "cell_type": "code",
   "execution_count": 37,
   "id": "0df76ed6",
   "metadata": {
    "scrolled": false
   },
   "outputs": [
    {
     "data": {
      "text/plain": [
       "No                     1943\n",
       "Yes                    1924\n",
       "No internet service    1063\n",
       "Name: streaming_movies, dtype: int64"
      ]
     },
     "execution_count": 37,
     "metadata": {},
     "output_type": "execute_result"
    }
   ],
   "source": [
    "train.streaming_movies.value_counts()"
   ]
  },
  {
   "cell_type": "code",
   "execution_count": 38,
   "id": "cabea49c",
   "metadata": {},
   "outputs": [
    {
     "data": {
      "text/plain": [
       "No                     1964\n",
       "Yes                    1903\n",
       "No internet service    1063\n",
       "Name: streaming_tv, dtype: int64"
      ]
     },
     "execution_count": 38,
     "metadata": {},
     "output_type": "execute_result"
    }
   ],
   "source": [
    "train.streaming_tv.value_counts()"
   ]
  },
  {
   "cell_type": "code",
   "execution_count": 39,
   "id": "531e203a",
   "metadata": {},
   "outputs": [
    {
     "data": {
      "text/plain": [
       "Fiber optic    2199\n",
       "DSL            1668\n",
       "None           1063\n",
       "Name: internet_service_type, dtype: int64"
      ]
     },
     "execution_count": 39,
     "metadata": {},
     "output_type": "execute_result"
    }
   ],
   "source": [
    "train.internet_service_type.value_counts()"
   ]
  },
  {
   "cell_type": "code",
   "execution_count": 40,
   "id": "100c3721",
   "metadata": {},
   "outputs": [
    {
     "data": {
      "text/html": [
       "<div>\n",
       "<style scoped>\n",
       "    .dataframe tbody tr th:only-of-type {\n",
       "        vertical-align: middle;\n",
       "    }\n",
       "\n",
       "    .dataframe tbody tr th {\n",
       "        vertical-align: top;\n",
       "    }\n",
       "\n",
       "    .dataframe thead th {\n",
       "        text-align: right;\n",
       "    }\n",
       "</style>\n",
       "<table border=\"1\" class=\"dataframe\">\n",
       "  <thead>\n",
       "    <tr style=\"text-align: right;\">\n",
       "      <th></th>\n",
       "      <th>gender</th>\n",
       "      <th>senior_citizen</th>\n",
       "      <th>partner</th>\n",
       "      <th>dependents</th>\n",
       "      <th>tenure</th>\n",
       "      <th>phone_service</th>\n",
       "      <th>multiple_lines</th>\n",
       "      <th>online_security</th>\n",
       "      <th>online_backup</th>\n",
       "      <th>device_protection</th>\n",
       "      <th>tech_support</th>\n",
       "      <th>streaming_tv</th>\n",
       "      <th>streaming_movies</th>\n",
       "      <th>paperless_billing</th>\n",
       "      <th>monthly_charges</th>\n",
       "      <th>total_charges</th>\n",
       "      <th>churn</th>\n",
       "      <th>payment_type</th>\n",
       "      <th>contract_type</th>\n",
       "      <th>internet_service_type</th>\n",
       "    </tr>\n",
       "  </thead>\n",
       "  <tbody>\n",
       "    <tr>\n",
       "      <th>5609</th>\n",
       "      <td>Male</td>\n",
       "      <td>0</td>\n",
       "      <td>No</td>\n",
       "      <td>No</td>\n",
       "      <td>14</td>\n",
       "      <td>Yes</td>\n",
       "      <td>No</td>\n",
       "      <td>No</td>\n",
       "      <td>No</td>\n",
       "      <td>Yes</td>\n",
       "      <td>No</td>\n",
       "      <td>No</td>\n",
       "      <td>No</td>\n",
       "      <td>No</td>\n",
       "      <td>76.45</td>\n",
       "      <td>1117.55</td>\n",
       "      <td>No</td>\n",
       "      <td>Electronic check</td>\n",
       "      <td>Month-to-month</td>\n",
       "      <td>Fiber optic</td>\n",
       "    </tr>\n",
       "    <tr>\n",
       "      <th>2209</th>\n",
       "      <td>Male</td>\n",
       "      <td>0</td>\n",
       "      <td>No</td>\n",
       "      <td>No</td>\n",
       "      <td>5</td>\n",
       "      <td>Yes</td>\n",
       "      <td>No</td>\n",
       "      <td>No</td>\n",
       "      <td>No</td>\n",
       "      <td>Yes</td>\n",
       "      <td>No</td>\n",
       "      <td>Yes</td>\n",
       "      <td>Yes</td>\n",
       "      <td>Yes</td>\n",
       "      <td>70.00</td>\n",
       "      <td>347.40</td>\n",
       "      <td>Yes</td>\n",
       "      <td>Mailed check</td>\n",
       "      <td>One year</td>\n",
       "      <td>DSL</td>\n",
       "    </tr>\n",
       "    <tr>\n",
       "      <th>6919</th>\n",
       "      <td>Male</td>\n",
       "      <td>0</td>\n",
       "      <td>Yes</td>\n",
       "      <td>No</td>\n",
       "      <td>35</td>\n",
       "      <td>Yes</td>\n",
       "      <td>Yes</td>\n",
       "      <td>No</td>\n",
       "      <td>No</td>\n",
       "      <td>No</td>\n",
       "      <td>No</td>\n",
       "      <td>No</td>\n",
       "      <td>No</td>\n",
       "      <td>Yes</td>\n",
       "      <td>75.20</td>\n",
       "      <td>2576.20</td>\n",
       "      <td>Yes</td>\n",
       "      <td>Electronic check</td>\n",
       "      <td>Month-to-month</td>\n",
       "      <td>Fiber optic</td>\n",
       "    </tr>\n",
       "    <tr>\n",
       "      <th>2284</th>\n",
       "      <td>Male</td>\n",
       "      <td>0</td>\n",
       "      <td>Yes</td>\n",
       "      <td>No</td>\n",
       "      <td>58</td>\n",
       "      <td>Yes</td>\n",
       "      <td>Yes</td>\n",
       "      <td>Yes</td>\n",
       "      <td>Yes</td>\n",
       "      <td>Yes</td>\n",
       "      <td>No</td>\n",
       "      <td>Yes</td>\n",
       "      <td>Yes</td>\n",
       "      <td>Yes</td>\n",
       "      <td>86.10</td>\n",
       "      <td>4890.50</td>\n",
       "      <td>No</td>\n",
       "      <td>Electronic check</td>\n",
       "      <td>Two year</td>\n",
       "      <td>DSL</td>\n",
       "    </tr>\n",
       "    <tr>\n",
       "      <th>845</th>\n",
       "      <td>Female</td>\n",
       "      <td>0</td>\n",
       "      <td>No</td>\n",
       "      <td>No</td>\n",
       "      <td>2</td>\n",
       "      <td>Yes</td>\n",
       "      <td>No</td>\n",
       "      <td>No</td>\n",
       "      <td>Yes</td>\n",
       "      <td>No</td>\n",
       "      <td>No</td>\n",
       "      <td>No</td>\n",
       "      <td>No</td>\n",
       "      <td>Yes</td>\n",
       "      <td>49.60</td>\n",
       "      <td>114.70</td>\n",
       "      <td>Yes</td>\n",
       "      <td>Mailed check</td>\n",
       "      <td>Month-to-month</td>\n",
       "      <td>DSL</td>\n",
       "    </tr>\n",
       "    <tr>\n",
       "      <th>...</th>\n",
       "      <td>...</td>\n",
       "      <td>...</td>\n",
       "      <td>...</td>\n",
       "      <td>...</td>\n",
       "      <td>...</td>\n",
       "      <td>...</td>\n",
       "      <td>...</td>\n",
       "      <td>...</td>\n",
       "      <td>...</td>\n",
       "      <td>...</td>\n",
       "      <td>...</td>\n",
       "      <td>...</td>\n",
       "      <td>...</td>\n",
       "      <td>...</td>\n",
       "      <td>...</td>\n",
       "      <td>...</td>\n",
       "      <td>...</td>\n",
       "      <td>...</td>\n",
       "      <td>...</td>\n",
       "      <td>...</td>\n",
       "    </tr>\n",
       "    <tr>\n",
       "      <th>643</th>\n",
       "      <td>Female</td>\n",
       "      <td>0</td>\n",
       "      <td>Yes</td>\n",
       "      <td>Yes</td>\n",
       "      <td>30</td>\n",
       "      <td>Yes</td>\n",
       "      <td>No</td>\n",
       "      <td>No</td>\n",
       "      <td>Yes</td>\n",
       "      <td>Yes</td>\n",
       "      <td>Yes</td>\n",
       "      <td>Yes</td>\n",
       "      <td>Yes</td>\n",
       "      <td>No</td>\n",
       "      <td>80.80</td>\n",
       "      <td>2369.30</td>\n",
       "      <td>No</td>\n",
       "      <td>Bank transfer (automatic)</td>\n",
       "      <td>Two year</td>\n",
       "      <td>DSL</td>\n",
       "    </tr>\n",
       "    <tr>\n",
       "      <th>1289</th>\n",
       "      <td>Male</td>\n",
       "      <td>0</td>\n",
       "      <td>Yes</td>\n",
       "      <td>Yes</td>\n",
       "      <td>7</td>\n",
       "      <td>Yes</td>\n",
       "      <td>No</td>\n",
       "      <td>No</td>\n",
       "      <td>No</td>\n",
       "      <td>No</td>\n",
       "      <td>No</td>\n",
       "      <td>No</td>\n",
       "      <td>No</td>\n",
       "      <td>No</td>\n",
       "      <td>44.75</td>\n",
       "      <td>333.65</td>\n",
       "      <td>No</td>\n",
       "      <td>Electronic check</td>\n",
       "      <td>Month-to-month</td>\n",
       "      <td>DSL</td>\n",
       "    </tr>\n",
       "    <tr>\n",
       "      <th>5261</th>\n",
       "      <td>Male</td>\n",
       "      <td>0</td>\n",
       "      <td>Yes</td>\n",
       "      <td>No</td>\n",
       "      <td>18</td>\n",
       "      <td>Yes</td>\n",
       "      <td>No</td>\n",
       "      <td>No</td>\n",
       "      <td>No</td>\n",
       "      <td>Yes</td>\n",
       "      <td>No</td>\n",
       "      <td>No</td>\n",
       "      <td>No</td>\n",
       "      <td>Yes</td>\n",
       "      <td>49.55</td>\n",
       "      <td>878.35</td>\n",
       "      <td>Yes</td>\n",
       "      <td>Mailed check</td>\n",
       "      <td>Month-to-month</td>\n",
       "      <td>DSL</td>\n",
       "    </tr>\n",
       "    <tr>\n",
       "      <th>3200</th>\n",
       "      <td>Female</td>\n",
       "      <td>0</td>\n",
       "      <td>Yes</td>\n",
       "      <td>Yes</td>\n",
       "      <td>4</td>\n",
       "      <td>Yes</td>\n",
       "      <td>No</td>\n",
       "      <td>No</td>\n",
       "      <td>No</td>\n",
       "      <td>Yes</td>\n",
       "      <td>No</td>\n",
       "      <td>No</td>\n",
       "      <td>No</td>\n",
       "      <td>Yes</td>\n",
       "      <td>73.75</td>\n",
       "      <td>325.45</td>\n",
       "      <td>Yes</td>\n",
       "      <td>Electronic check</td>\n",
       "      <td>Month-to-month</td>\n",
       "      <td>Fiber optic</td>\n",
       "    </tr>\n",
       "    <tr>\n",
       "      <th>4312</th>\n",
       "      <td>Male</td>\n",
       "      <td>0</td>\n",
       "      <td>Yes</td>\n",
       "      <td>Yes</td>\n",
       "      <td>40</td>\n",
       "      <td>Yes</td>\n",
       "      <td>Yes</td>\n",
       "      <td>No</td>\n",
       "      <td>No</td>\n",
       "      <td>Yes</td>\n",
       "      <td>No</td>\n",
       "      <td>No</td>\n",
       "      <td>No</td>\n",
       "      <td>Yes</td>\n",
       "      <td>81.20</td>\n",
       "      <td>3292.30</td>\n",
       "      <td>No</td>\n",
       "      <td>Electronic check</td>\n",
       "      <td>Month-to-month</td>\n",
       "      <td>Fiber optic</td>\n",
       "    </tr>\n",
       "  </tbody>\n",
       "</table>\n",
       "<p>3867 rows × 20 columns</p>\n",
       "</div>"
      ],
      "text/plain": [
       "      gender  senior_citizen partner dependents  tenure phone_service  \\\n",
       "5609    Male               0      No         No      14           Yes   \n",
       "2209    Male               0      No         No       5           Yes   \n",
       "6919    Male               0     Yes         No      35           Yes   \n",
       "2284    Male               0     Yes         No      58           Yes   \n",
       "845   Female               0      No         No       2           Yes   \n",
       "...      ...             ...     ...        ...     ...           ...   \n",
       "643   Female               0     Yes        Yes      30           Yes   \n",
       "1289    Male               0     Yes        Yes       7           Yes   \n",
       "5261    Male               0     Yes         No      18           Yes   \n",
       "3200  Female               0     Yes        Yes       4           Yes   \n",
       "4312    Male               0     Yes        Yes      40           Yes   \n",
       "\n",
       "     multiple_lines online_security online_backup device_protection  \\\n",
       "5609             No              No            No               Yes   \n",
       "2209             No              No            No               Yes   \n",
       "6919            Yes              No            No                No   \n",
       "2284            Yes             Yes           Yes               Yes   \n",
       "845              No              No           Yes                No   \n",
       "...             ...             ...           ...               ...   \n",
       "643              No              No           Yes               Yes   \n",
       "1289             No              No            No                No   \n",
       "5261             No              No            No               Yes   \n",
       "3200             No              No            No               Yes   \n",
       "4312            Yes              No            No               Yes   \n",
       "\n",
       "     tech_support streaming_tv streaming_movies paperless_billing  \\\n",
       "5609           No           No               No                No   \n",
       "2209           No          Yes              Yes               Yes   \n",
       "6919           No           No               No               Yes   \n",
       "2284           No          Yes              Yes               Yes   \n",
       "845            No           No               No               Yes   \n",
       "...           ...          ...              ...               ...   \n",
       "643           Yes          Yes              Yes                No   \n",
       "1289           No           No               No                No   \n",
       "5261           No           No               No               Yes   \n",
       "3200           No           No               No               Yes   \n",
       "4312           No           No               No               Yes   \n",
       "\n",
       "      monthly_charges  total_charges churn               payment_type  \\\n",
       "5609            76.45        1117.55    No           Electronic check   \n",
       "2209            70.00         347.40   Yes               Mailed check   \n",
       "6919            75.20        2576.20   Yes           Electronic check   \n",
       "2284            86.10        4890.50    No           Electronic check   \n",
       "845             49.60         114.70   Yes               Mailed check   \n",
       "...               ...            ...   ...                        ...   \n",
       "643             80.80        2369.30    No  Bank transfer (automatic)   \n",
       "1289            44.75         333.65    No           Electronic check   \n",
       "5261            49.55         878.35   Yes               Mailed check   \n",
       "3200            73.75         325.45   Yes           Electronic check   \n",
       "4312            81.20        3292.30    No           Electronic check   \n",
       "\n",
       "       contract_type internet_service_type  \n",
       "5609  Month-to-month           Fiber optic  \n",
       "2209        One year                   DSL  \n",
       "6919  Month-to-month           Fiber optic  \n",
       "2284        Two year                   DSL  \n",
       "845   Month-to-month                   DSL  \n",
       "...              ...                   ...  \n",
       "643         Two year                   DSL  \n",
       "1289  Month-to-month                   DSL  \n",
       "5261  Month-to-month                   DSL  \n",
       "3200  Month-to-month           Fiber optic  \n",
       "4312  Month-to-month           Fiber optic  \n",
       "\n",
       "[3867 rows x 20 columns]"
      ]
     },
     "execution_count": 40,
     "metadata": {},
     "output_type": "execute_result"
    }
   ],
   "source": [
    "train[train.streaming_movies != 'No internet service']\n"
   ]
  },
  {
   "cell_type": "markdown",
   "id": "7d0f958e",
   "metadata": {},
   "source": [
    "## #I noticed that many of these features include same value of no internet service. So I am thinking of dropping those values since there is already a feature for internet service type."
   ]
  },
  {
   "cell_type": "code",
   "execution_count": 41,
   "id": "115226dd",
   "metadata": {},
   "outputs": [
    {
     "name": "stdout",
     "output_type": "stream",
     "text": [
      "Chi-Square Statistic: 467.1218774885944\n",
      "P-value: 6.35850529852611e-101\n",
      "Degrees of Freedom: 3\n",
      "Expected Frequencies:\n",
      " [[ 808.88884381  789.05233266 1204.88438134  819.17444219]\n",
      " [ 292.11115619  284.94766734  435.11561866  295.82555781]]\n",
      "There is a significant association between the variables.\n"
     ]
    }
   ],
   "source": [
    "cross_tab = pd.crosstab(train['churn'], train['payment_type'])\n",
    "\n",
    "chi2_stat, p_val, dof, expected = stats.chi2_contingency(cross_tab)\n",
    "\n",
    "print(\"Chi-Square Statistic:\", chi2_stat)\n",
    "print(\"P-value:\", p_val)\n",
    "print(\"Degrees of Freedom:\", dof)\n",
    "print(\"Expected Frequencies:\\n\", expected)\n",
    "\n",
    "if p_val < 0.05:\n",
    "    print(\"There is a significant association between the variables.\")\n",
    "else:\n",
    "    print(\"There is no significant association between the variables.\")\n"
   ]
  },
  {
   "cell_type": "code",
   "execution_count": 42,
   "id": "fb759277",
   "metadata": {
    "scrolled": false
   },
   "outputs": [
    {
     "data": {
      "text/plain": [
       "<Axes: xlabel='payment_type', ylabel='count'>"
      ]
     },
     "execution_count": 42,
     "metadata": {},
     "output_type": "execute_result"
    },
    {
     "data": {
      "image/png": "[encoded data removed]",
      "text/plain": [
       "<Figure size 640x480 with 1 Axes>"
      ]
     },
     "metadata": {},
     "output_type": "display_data"
    }
   ],
   "source": [
    "sns.countplot(data= train, x=\"payment_type\", hue=\"churn\")"
   ]
  },
  {
   "cell_type": "markdown",
   "id": "5ce65f7d",
   "metadata": {},
   "source": [
    "## #seems like manual users more likely to churn."
   ]
  },
  {
   "cell_type": "code",
   "execution_count": 43,
   "id": "328ba4c4",
   "metadata": {
    "scrolled": true
   },
   "outputs": [
    {
     "name": "stdout",
     "output_type": "stream",
     "text": [
      "Chi-Square Statistic: 0.16104933590843382\n",
      "P-value: 0.6881922507463794\n",
      "Degrees of Freedom: 1\n",
      "Expected Frequencies:\n",
      " [[ 326.93509128 3295.06490872]\n",
      " [ 118.06490872 1189.93509128]]\n",
      "There is no significant association between the variables.\n"
     ]
    }
   ],
   "source": [
    "cross_tab = pd.crosstab(train['churn'], train['phone_service'])\n",
    "\n",
    "chi2_stat, p_val, dof, expected = stats.chi2_contingency(cross_tab)\n",
    "\n",
    "print(\"Chi-Square Statistic:\", chi2_stat)\n",
    "print(\"P-value:\", p_val)\n",
    "print(\"Degrees of Freedom:\", dof)\n",
    "print(\"Expected Frequencies:\\n\", expected)\n",
    "\n",
    "if p_val < 0.05:\n",
    "    print(\"There is a significant association between the variables.\")\n",
    "else:\n",
    "    print(\"There is no significant association between the variables.\")\n"
   ]
  },
  {
   "cell_type": "code",
   "execution_count": 44,
   "id": "1169c86a",
   "metadata": {
    "scrolled": false
   },
   "outputs": [
    {
     "data": {
      "text/plain": [
       "<Axes: xlabel='phone_service', ylabel='count'>"
      ]
     },
     "execution_count": 44,
     "metadata": {},
     "output_type": "execute_result"
    },
    {
     "data": {
      "image/png": "[encoded data removed]",
      "text/plain": [
       "<Figure size 640x480 with 1 Axes>"
      ]
     },
     "metadata": {},
     "output_type": "display_data"
    }
   ],
   "source": [
    "sns.countplot(data= train, x=\"phone_service\", hue=\"churn\")"
   ]
  },
  {
   "cell_type": "markdown",
   "id": "6a503f64",
   "metadata": {},
   "source": [
    "## #I do not see the significance in phone service. I will drop this feature."
   ]
  },
  {
   "cell_type": "code",
   "execution_count": 45,
   "id": "de85f232",
   "metadata": {},
   "outputs": [
    {
     "name": "stdout",
     "output_type": "stream",
     "text": [
      "Chi-Square Statistic: 108.4523023784194\n",
      "P-value: 2.1393721043592164e-25\n",
      "Degrees of Freedom: 1\n",
      "Expected Frequencies:\n",
      " [[1880.79513185 1741.20486815]\n",
      " [ 679.20486815  628.79513185]]\n",
      "There is a significant association between the variables.\n"
     ]
    }
   ],
   "source": [
    "cross_tab = pd.crosstab(train['churn'], train['partner'])\n",
    "\n",
    "chi2_stat, p_val, dof, expected = stats.chi2_contingency(cross_tab)\n",
    "\n",
    "print(\"Chi-Square Statistic:\", chi2_stat)\n",
    "print(\"P-value:\", p_val)\n",
    "print(\"Degrees of Freedom:\", dof)\n",
    "print(\"Expected Frequencies:\\n\", expected)\n",
    "\n",
    "if p_val < 0.05:\n",
    "    print(\"There is a significant association between the variables.\")\n",
    "else:\n",
    "    print(\"There is no significant association between the variables.\")\n"
   ]
  },
  {
   "cell_type": "code",
   "execution_count": 46,
   "id": "b31ddd7d",
   "metadata": {
    "scrolled": true
   },
   "outputs": [
    {
     "data": {
      "text/plain": [
       "<Axes: xlabel='partner', ylabel='count'>"
      ]
     },
     "execution_count": 46,
     "metadata": {},
     "output_type": "execute_result"
    },
    {
     "data": {
      "image/png": "[encoded data removed]",
      "text/plain": [
       "<Figure size 640x480 with 1 Axes>"
      ]
     },
     "metadata": {},
     "output_type": "display_data"
    }
   ],
   "source": [
    "sns.countplot(data= train, x=\"partner\", hue=\"churn\")"
   ]
  },
  {
   "cell_type": "markdown",
   "id": "600eda37",
   "metadata": {},
   "source": [
    "## #more to churn without partner."
   ]
  },
  {
   "cell_type": "code",
   "execution_count": 47,
   "id": "e9ef36b7",
   "metadata": {},
   "outputs": [
    {
     "name": "stdout",
     "output_type": "stream",
     "text": [
      "Chi-Square Statistic: 586.3664617780223\n",
      "P-value: 4.700462998703674e-128\n",
      "Degrees of Freedom: 2\n",
      "Expected Frequencies:\n",
      " [[1783.08194726  780.97079108 1057.94726166]\n",
      " [ 643.91805274  282.02920892  382.05273834]]\n",
      "There is a significant association between the variables.\n"
     ]
    }
   ],
   "source": [
    "cross_tab = pd.crosstab(train['churn'], train['tech_support'])\n",
    "\n",
    "chi2_stat, p_val, dof, expected = stats.chi2_contingency(cross_tab)\n",
    "\n",
    "print(\"Chi-Square Statistic:\", chi2_stat)\n",
    "print(\"P-value:\", p_val)\n",
    "print(\"Degrees of Freedom:\", dof)\n",
    "print(\"Expected Frequencies:\\n\", expected)\n",
    "\n",
    "if p_val < 0.05:\n",
    "    print(\"There is a significant association between the variables.\")\n",
    "else:\n",
    "    print(\"There is no significant association between the variables.\")\n"
   ]
  },
  {
   "cell_type": "code",
   "execution_count": 48,
   "id": "6c65f756",
   "metadata": {
    "scrolled": true
   },
   "outputs": [
    {
     "data": {
      "text/plain": [
       "<Axes: xlabel='tech_support', ylabel='count'>"
      ]
     },
     "execution_count": 48,
     "metadata": {},
     "output_type": "execute_result"
    },
    {
     "data": {
      "image/png": "[encoded data removed]",
      "text/plain": [
       "<Figure size 640x480 with 1 Axes>"
      ]
     },
     "metadata": {},
     "output_type": "display_data"
    }
   ],
   "source": [
    "sns.countplot(data= train, x=\"tech_support\", hue=\"churn\")"
   ]
  },
  {
   "cell_type": "markdown",
   "id": "b001750f",
   "metadata": {},
   "source": [
    "## #more likely to churn without tech support."
   ]
  },
  {
   "cell_type": "code",
   "execution_count": 49,
   "id": "0470e934",
   "metadata": {},
   "outputs": [
    {
     "name": "stdout",
     "output_type": "stream",
     "text": [
      "Chi-Square Statistic: 490.0399007333384\n",
      "P-value: 3.883180691626175e-107\n",
      "Degrees of Freedom: 2\n",
      "Expected Frequencies:\n",
      " [[1225.45557809 1615.57363083  780.97079108]\n",
      " [ 442.54442191  583.42636917  282.02920892]]\n",
      "There is a significant association between the variables.\n"
     ]
    }
   ],
   "source": [
    "cross_tab = pd.crosstab(train['churn'], train['internet_service_type'])\n",
    "\n",
    "chi2_stat, p_val, dof, expected = stats.chi2_contingency(cross_tab)\n",
    "\n",
    "print(\"Chi-Square Statistic:\", chi2_stat)\n",
    "print(\"P-value:\", p_val)\n",
    "print(\"Degrees of Freedom:\", dof)\n",
    "print(\"Expected Frequencies:\\n\", expected)\n",
    "\n",
    "if p_val < 0.05:\n",
    "    print(\"There is a significant association between the variables.\")\n",
    "else:\n",
    "    print(\"There is no significant association between the variables.\")\n"
   ]
  },
  {
   "cell_type": "code",
   "execution_count": 50,
   "id": "5c2cb531",
   "metadata": {},
   "outputs": [
    {
     "data": {
      "text/plain": [
       "<Axes: xlabel='internet_service_type', ylabel='count'>"
      ]
     },
     "execution_count": 50,
     "metadata": {},
     "output_type": "execute_result"
    },
    {
     "data": {
      "image/png": "[encoded data removed]",
      "text/plain": [
       "<Figure size 640x480 with 1 Axes>"
      ]
     },
     "metadata": {},
     "output_type": "display_data"
    }
   ],
   "source": [
    "sns.countplot(data= train, x=\"internet_service_type\", hue=\"churn\")"
   ]
  },
  {
   "cell_type": "markdown",
   "id": "e0862730",
   "metadata": {},
   "source": [
    "## #fiber optic users more likely to churn."
   ]
  },
  {
   "cell_type": "code",
   "execution_count": 51,
   "id": "90751dac",
   "metadata": {},
   "outputs": [
    {
     "name": "stdout",
     "output_type": "stream",
     "text": [
      "Chi-Square Statistic: 254.372354574066\n",
      "P-value: 5.8042355636700185e-56\n",
      "Degrees of Freedom: 2\n",
      "Expected Frequencies:\n",
      " [[1442.92251521  780.97079108 1398.10669371]\n",
      " [ 521.07748479  282.02920892  504.89330629]]\n",
      "There is a significant association between the variables.\n"
     ]
    }
   ],
   "source": [
    "cross_tab = pd.crosstab(train['churn'], train['streaming_tv'])\n",
    "\n",
    "chi2_stat, p_val, dof, expected = stats.chi2_contingency(cross_tab)\n",
    "\n",
    "print(\"Chi-Square Statistic:\", chi2_stat)\n",
    "print(\"P-value:\", p_val)\n",
    "print(\"Degrees of Freedom:\", dof)\n",
    "print(\"Expected Frequencies:\\n\", expected)\n",
    "\n",
    "if p_val < 0.05:\n",
    "    print(\"There is a significant association between the variables.\")\n",
    "else:\n",
    "    print(\"There is no significant association between the variables.\")\n"
   ]
  },
  {
   "cell_type": "code",
   "execution_count": 52,
   "id": "0170f4d4",
   "metadata": {
    "scrolled": true
   },
   "outputs": [
    {
     "data": {
      "text/plain": [
       "<Axes: xlabel='streaming_tv', ylabel='count'>"
      ]
     },
     "execution_count": 52,
     "metadata": {},
     "output_type": "execute_result"
    },
    {
     "data": {
      "image/png": "[encoded data removed]",
      "text/plain": [
       "<Figure size 640x480 with 1 Axes>"
      ]
     },
     "metadata": {},
     "output_type": "display_data"
    }
   ],
   "source": [
    "sns.countplot(data= train, x=\"streaming_tv\", hue=\"churn\")"
   ]
  },
  {
   "cell_type": "markdown",
   "id": "e6664728",
   "metadata": {},
   "source": [
    "## #I dont see the significance between yes and no. I think the no internet service value is noise."
   ]
  },
  {
   "cell_type": "code",
   "execution_count": 53,
   "id": "d90e7147",
   "metadata": {},
   "outputs": [
    {
     "name": "stdout",
     "output_type": "stream",
     "text": [
      "Chi-Square Statistic: 5.564920974218287\n",
      "P-value: 0.06188605006622484\n",
      "Degrees of Freedom: 2\n",
      "Expected Frequencies:\n",
      " [[1761.04137931  326.93509128 1534.02352941]\n",
      " [ 635.95862069  118.06490872  553.97647059]]\n",
      "There is no significant association between the variables.\n"
     ]
    }
   ],
   "source": [
    "cross_tab = pd.crosstab(train['churn'], train['multiple_lines'])\n",
    "\n",
    "chi2_stat, p_val, dof, expected = stats.chi2_contingency(cross_tab)\n",
    "\n",
    "print(\"Chi-Square Statistic:\", chi2_stat)\n",
    "print(\"P-value:\", p_val)\n",
    "print(\"Degrees of Freedom:\", dof)\n",
    "print(\"Expected Frequencies:\\n\", expected)\n",
    "\n",
    "if p_val < 0.05:\n",
    "    print(\"There is a significant association between the variables.\")\n",
    "else:\n",
    "    print(\"There is no significant association between the variables.\")\n"
   ]
  },
  {
   "cell_type": "code",
   "execution_count": 54,
   "id": "8d5a7bf9",
   "metadata": {
    "scrolled": true
   },
   "outputs": [
    {
     "data": {
      "text/plain": [
       "<Axes: xlabel='multiple_lines', ylabel='count'>"
      ]
     },
     "execution_count": 54,
     "metadata": {},
     "output_type": "execute_result"
    },
    {
     "data": {
      "image/png": "[encoded data removed]",
      "text/plain": [
       "<Figure size 640x480 with 1 Axes>"
      ]
     },
     "metadata": {},
     "output_type": "display_data"
    }
   ],
   "source": [
    "sns.countplot(data= train, x=\"multiple_lines\", hue=\"churn\")"
   ]
  },
  {
   "cell_type": "markdown",
   "id": "30ca7493",
   "metadata": {},
   "source": [
    "## #I do not see the significance in this feature."
   ]
  },
  {
   "cell_type": "code",
   "execution_count": 55,
   "id": "72214afb",
   "metadata": {},
   "outputs": [
    {
     "name": "stdout",
     "output_type": "stream",
     "text": [
      "Chi-Square Statistic: 857.5521456703501\n",
      "P-value: 6.094212526763626e-187\n",
      "Degrees of Freedom: 2\n",
      "Expected Frequencies:\n",
      " [[1978.50831643  769.2158215   874.27586207]\n",
      " [ 714.49168357  277.7841785   315.72413793]]\n",
      "There is a significant association between the variables.\n"
     ]
    }
   ],
   "source": [
    "cross_tab = pd.crosstab(train['churn'], train['contract_type'])\n",
    "\n",
    "chi2_stat, p_val, dof, expected = stats.chi2_contingency(cross_tab)\n",
    "\n",
    "print(\"Chi-Square Statistic:\", chi2_stat)\n",
    "print(\"P-value:\", p_val)\n",
    "print(\"Degrees of Freedom:\", dof)\n",
    "print(\"Expected Frequencies:\\n\", expected)\n",
    "\n",
    "if p_val < 0.05:\n",
    "    print(\"There is a significant association between the variables.\")\n",
    "else:\n",
    "    print(\"There is no significant association between the variables.\")\n"
   ]
  },
  {
   "cell_type": "code",
   "execution_count": 56,
   "id": "330cd57a",
   "metadata": {},
   "outputs": [
    {
     "data": {
      "text/plain": [
       "<Axes: xlabel='contract_type', ylabel='count'>"
      ]
     },
     "execution_count": 56,
     "metadata": {},
     "output_type": "execute_result"
    },
    {
     "data": {
      "image/png": "[encoded data removed]",
      "text/plain": [
       "<Figure size 640x480 with 1 Axes>"
      ]
     },
     "metadata": {},
     "output_type": "display_data"
    }
   ],
   "source": [
    "sns.countplot(data= train, x=\"contract_type\", hue=\"churn\")"
   ]
  },
  {
   "cell_type": "markdown",
   "id": "571ee6cd",
   "metadata": {},
   "source": [
    "## #month to month more likely to churn."
   ]
  },
  {
   "cell_type": "code",
   "execution_count": 57,
   "id": "74fb5a13",
   "metadata": {},
   "outputs": [
    {
     "data": {
      "image/png": "[encoded data removed]",
      "text/plain": [
       "<Figure size 600x300 with 2 Axes>"
      ]
     },
     "metadata": {},
     "output_type": "display_data"
    }
   ],
   "source": [
    "g = sns.catplot(\n",
    "    data= train,\n",
    "    x=\"tenure\", y=\"churn\", row=\"dependents\",\n",
    "    kind=\"box\", orient=\"h\",\n",
    "    sharex=False, margin_titles=True,\n",
    "    height=1.5, aspect=4,\n",
    ")\n",
    "g.set(xlabel=\"tenure\", ylabel=\"churn\")\n",
    "g.set_titles(row_template=\"{row_name} dependents\")\n",
    "for ax in g.axes.flat:\n",
    "    ax.xaxis.set_major_formatter('{x:.0f} mo')"
   ]
  },
  {
   "cell_type": "markdown",
   "id": "2359789b",
   "metadata": {},
   "source": [
    "## trying to build a function"
   ]
  },
  {
   "cell_type": "code",
   "execution_count": 58,
   "id": "6ab97ecd",
   "metadata": {},
   "outputs": [],
   "source": [
    "# an array of all observed values of the subgroup\n",
    "def ones_onet(df, col, order_by):\n",
    "    \n",
    "    sample = df[col == 'Yes'].order_by\n",
    "\n",
    "# the population mean\n",
    "    overall_mean = order_by.mean()\n",
    "\n",
    "    t, p = stats.ttest_1samp(sample, overall_mean)\n",
    "\n",
    "    print(t, p/2)"
   ]
  },
  {
   "cell_type": "code",
   "execution_count": 59,
   "id": "5b01c220",
   "metadata": {},
   "outputs": [],
   "source": [
    "#col = train.churn\n",
    "#order_by = monthly_charges\n",
    "#ones_onet(train, col, order_by)"
   ]
  },
  {
   "cell_type": "markdown",
   "id": "9d79f5a4",
   "metadata": {},
   "source": [
    "## one sample, one tailed, ttest (significantly higher)"
   ]
  },
  {
   "cell_type": "code",
   "execution_count": 60,
   "id": "6d75dc4a",
   "metadata": {},
   "outputs": [
    {
     "data": {
      "text/plain": [
       "65.1107505070994"
      ]
     },
     "execution_count": 60,
     "metadata": {},
     "output_type": "execute_result"
    }
   ],
   "source": [
    "(train.monthly_charges).mean()"
   ]
  },
  {
   "cell_type": "code",
   "execution_count": 61,
   "id": "8f8babd9",
   "metadata": {
    "scrolled": true
   },
   "outputs": [
    {
     "name": "stdout",
     "output_type": "stream",
     "text": [
      "13.626159134989743 6.213304671023248e-40\n",
      "We reject the null hypothesis.\n"
     ]
    }
   ],
   "source": [
    "a = .05\n",
    "\n",
    "churn_sample = train[train.churn == 'Yes'].monthly_charges\n",
    "\n",
    "overall_mean = (train.monthly_charges).mean()\n",
    "\n",
    "t, p = stats.ttest_1samp(churn_sample, overall_mean)\n",
    "\n",
    "print(t, p/2)\n",
    "\n",
    "a =.05\n",
    "\n",
    "if p/2 > a:\n",
    "    \n",
    "    print(\"We fail to reject the null hypothesis.\")\n",
    "\n",
    "elif t < 0:\n",
    "    \n",
    "    print(\"We fail to reject null hypothesis.\")\n",
    "\n",
    "else:\n",
    "    \n",
    "    print(\"We reject the null hypothesis.\")\n"
   ]
  },
  {
   "cell_type": "markdown",
   "id": "6fb3dee4",
   "metadata": {},
   "source": [
    "## #the mean monthly charges of customers churn is significantly higher than the population monthly charge average."
   ]
  },
  {
   "cell_type": "markdown",
   "id": "ba8df721",
   "metadata": {},
   "source": [
    "# one sample, 2 tailed ttest (significantly diff)"
   ]
  },
  {
   "cell_type": "code",
   "execution_count": 62,
   "id": "03168025",
   "metadata": {},
   "outputs": [
    {
     "name": "stdout",
     "output_type": "stream",
     "text": [
      "13.626159134989743 1.2426609342046496e-39\n",
      "the result is significant we reject the null hypothesis with a p_value of 0.0.\n"
     ]
    }
   ],
   "source": [
    "churn_sample = train[train.churn == 'Yes'].monthly_charges\n",
    "\n",
    "overall_mean = train.monthly_charges.mean()\n",
    "\n",
    "t, p = stats.ttest_1samp(churn_sample, overall_mean)\n",
    "\n",
    "print(t, p)\n",
    "\n",
    "a = .05\n",
    "\n",
    "if p < a:\n",
    "    \n",
    "    print(f'the result is significant we reject the null hypothesis with a p_value of {round(p, 2)}.')\n",
    "    \n",
    "else:\n",
    "        \n",
    "    print(f'we fail to reject the null hypothesis with a p_value of {round(p, 2)}.')\n",
    "\n"
   ]
  },
  {
   "cell_type": "markdown",
   "id": "0f976ab6",
   "metadata": {},
   "source": [
    "## #tells me the difference but not why"
   ]
  },
  {
   "cell_type": "markdown",
   "id": "6a1748c9",
   "metadata": {},
   "source": [
    "## 2 sample, 1 tailed ttest (significantly higher)"
   ]
  },
  {
   "cell_type": "code",
   "execution_count": 63,
   "id": "1f6a4ed2",
   "metadata": {},
   "outputs": [
    {
     "name": "stdout",
     "output_type": "stream",
     "text": [
      "604.1593850976509\n",
      "976.0788840878639\n"
     ]
    }
   ],
   "source": [
    "churn_sample = train[train.churn == 'Yes'].monthly_charges\n",
    "no_churn_sample = train[train.churn == 'No'].monthly_charges\n",
    "\n",
    "print(churn_sample.var())\n",
    "print(no_churn_sample.var())"
   ]
  },
  {
   "cell_type": "markdown",
   "id": "aecf0fbe",
   "metadata": {},
   "source": [
    "## why is variance important."
   ]
  },
  {
   "cell_type": "code",
   "execution_count": 64,
   "id": "dc3c153d",
   "metadata": {},
   "outputs": [
    {
     "name": "stdout",
     "output_type": "stream",
     "text": [
      "t = 14.73912733835214\n",
      "p = 1.7651698418991305e-47\n",
      "is p/2 < alpha?  True\n",
      "is t > 0?  True\n",
      "We reject the null hypothesis\n"
     ]
    }
   ],
   "source": [
    "t, p = stats.ttest_ind(churn_sample, no_churn_sample, equal_var=False)\n",
    "print('t =',t)\n",
    "print('p =',p)\n",
    "\n",
    "a = .05\n",
    "\n",
    "print(\"is p/2 < alpha? \", p / 2 < a)\n",
    "print(\"is t > 0? \", t > 0)\n",
    "\n",
    "if p / 2 > a:\n",
    "    \n",
    "    print(\"We fail to reject the null hypothesis\")\n",
    "    \n",
    "elif t < 0:\n",
    "    \n",
    "    print(\"We fail to reject the null hypothesis\")\n",
    "    \n",
    "else:\n",
    "    \n",
    "    print(\"We reject the null hypothesis\")\n"
   ]
  },
  {
   "cell_type": "markdown",
   "id": "c6b1dee7",
   "metadata": {},
   "source": [
    "## #average churn sample monthly charge is significantly higher than average monthly charge of active users."
   ]
  },
  {
   "cell_type": "markdown",
   "id": "31310708",
   "metadata": {},
   "source": [
    "## 2 sample, 2 tailed ttest (significantly diff)"
   ]
  },
  {
   "cell_type": "code",
   "execution_count": 65,
   "id": "03e8ea1d",
   "metadata": {
    "scrolled": true
   },
   "outputs": [
    {
     "name": "stdout",
     "output_type": "stream",
     "text": [
      "t = 14.73912733835214\n",
      "p = 1.7651698418991305e-47\n",
      "the result is significant we reject the null hypothesis with a p_value of 0.0.\n"
     ]
    }
   ],
   "source": [
    "t, p = stats.ttest_ind(churn_sample, no_churn_sample, equal_var=False)\n",
    "print('t =',t)\n",
    "print('p =',p)\n",
    "\n",
    "a = .05\n",
    "\n",
    "if p < a:\n",
    "    \n",
    "    print(f'the result is significant we reject the null hypothesis with a p_value of {round(p, 2)}.')\n",
    "    \n",
    "else:\n",
    "        \n",
    "    print(f'we fail to reject the null hypothesis with a p_value of {round(p, 2)}.')\n"
   ]
  },
  {
   "cell_type": "markdown",
   "id": "fd5bbea4",
   "metadata": {},
   "source": [
    "## #there is a significant difference between both samples."
   ]
  },
  {
   "cell_type": "code",
   "execution_count": 66,
   "id": "89faeca0",
   "metadata": {},
   "outputs": [
    {
     "data": {
      "text/plain": [
       "5609    1117.55\n",
       "2209     347.40\n",
       "6919    2576.20\n",
       "2284    4890.50\n",
       "845      114.70\n",
       "Name: total_charges, dtype: float64"
      ]
     },
     "execution_count": 66,
     "metadata": {},
     "output_type": "execute_result"
    }
   ],
   "source": [
    "train.total_charges.head()"
   ]
  },
  {
   "cell_type": "code",
   "execution_count": 67,
   "id": "ddf9d711",
   "metadata": {
    "scrolled": true
   },
   "outputs": [
    {
     "name": "stdout",
     "output_type": "stream",
     "text": [
      "3554216.9086103593\n",
      "5522608.211020269\n"
     ]
    }
   ],
   "source": [
    "churn_sample = train[train.churn == 'Yes'].total_charges\n",
    "no_churn_sample = train[train.churn == 'No'].total_charges\n",
    "\n",
    "print(churn_sample.var())\n",
    "print(no_churn_sample.var())"
   ]
  },
  {
   "cell_type": "code",
   "execution_count": 68,
   "id": "7436bdfa",
   "metadata": {
    "scrolled": true
   },
   "outputs": [
    {
     "name": "stdout",
     "output_type": "stream",
     "text": [
      "t = -16.402958895829094\n",
      "p = 7.359457658881962e-58\n",
      "is p/2 < alpha?  True\n",
      "is t > 0?  False\n",
      "We fail to reject the null hypothesis\n"
     ]
    }
   ],
   "source": [
    "t, p = stats.ttest_ind(churn_sample, no_churn_sample, equal_var=False)\n",
    "print('t =',t)\n",
    "print('p =',p)\n",
    "\n",
    "a = .05\n",
    "\n",
    "print(\"is p/2 < alpha? \", p / 2 < a)\n",
    "print(\"is t > 0? \", t > 0)\n",
    "\n",
    "if p / 2 > a:\n",
    "    \n",
    "    print(\"We fail to reject the null hypothesis\")\n",
    "    \n",
    "elif t < 0:\n",
    "    \n",
    "    print(\"We fail to reject the null hypothesis\")\n",
    "    \n",
    "else:\n",
    "    \n",
    "    print(\"We reject the null hypothesis\")\n"
   ]
  },
  {
   "cell_type": "markdown",
   "id": "843cd521",
   "metadata": {},
   "source": [
    "## #THIS DOES NOT MAKE SENSE!!!"
   ]
  },
  {
   "cell_type": "code",
   "execution_count": 69,
   "id": "3e081664",
   "metadata": {},
   "outputs": [
    {
     "data": {
      "text/plain": [
       "gender                   0\n",
       "senior_citizen           0\n",
       "partner                  0\n",
       "dependents               0\n",
       "tenure                   0\n",
       "phone_service            0\n",
       "multiple_lines           0\n",
       "online_security          0\n",
       "online_backup            0\n",
       "device_protection        0\n",
       "tech_support             0\n",
       "streaming_tv             0\n",
       "streaming_movies         0\n",
       "paperless_billing        0\n",
       "monthly_charges          0\n",
       "total_charges            0\n",
       "churn                    0\n",
       "payment_type             0\n",
       "contract_type            0\n",
       "internet_service_type    0\n",
       "dtype: int64"
      ]
     },
     "execution_count": 69,
     "metadata": {},
     "output_type": "execute_result"
    }
   ],
   "source": [
    "#Checking for null values.\n",
    "train.isna().sum()"
   ]
  },
  {
   "cell_type": "code",
   "execution_count": 70,
   "id": "1b3723af",
   "metadata": {},
   "outputs": [
    {
     "data": {
      "text/plain": [
       "gender                   0\n",
       "senior_citizen           0\n",
       "partner                  0\n",
       "dependents               0\n",
       "tenure                   0\n",
       "phone_service            0\n",
       "multiple_lines           0\n",
       "online_security          0\n",
       "online_backup            0\n",
       "device_protection        0\n",
       "tech_support             0\n",
       "streaming_tv             0\n",
       "streaming_movies         0\n",
       "paperless_billing        0\n",
       "monthly_charges          0\n",
       "total_charges            0\n",
       "churn                    0\n",
       "payment_type             0\n",
       "contract_type            0\n",
       "internet_service_type    0\n",
       "dtype: int64"
      ]
     },
     "execution_count": 70,
     "metadata": {},
     "output_type": "execute_result"
    }
   ],
   "source": [
    "#checking for null values.\n",
    "val.isna().sum()"
   ]
  },
  {
   "cell_type": "code",
   "execution_count": 71,
   "id": "e04b0503",
   "metadata": {
    "scrolled": true
   },
   "outputs": [
    {
     "data": {
      "text/plain": [
       "gender                   0\n",
       "senior_citizen           0\n",
       "partner                  0\n",
       "dependents               0\n",
       "tenure                   0\n",
       "phone_service            0\n",
       "multiple_lines           0\n",
       "online_security          0\n",
       "online_backup            0\n",
       "device_protection        0\n",
       "tech_support             0\n",
       "streaming_tv             0\n",
       "streaming_movies         0\n",
       "paperless_billing        0\n",
       "monthly_charges          0\n",
       "total_charges            0\n",
       "churn                    0\n",
       "payment_type             0\n",
       "contract_type            0\n",
       "internet_service_type    0\n",
       "dtype: int64"
      ]
     },
     "execution_count": 71,
     "metadata": {},
     "output_type": "execute_result"
    }
   ],
   "source": [
    "#checking for null values.\n",
    "test.isna().sum()"
   ]
  },
  {
   "cell_type": "code",
   "execution_count": 72,
   "id": "43cc3d95",
   "metadata": {
    "scrolled": true
   },
   "outputs": [
    {
     "name": "stdout",
     "output_type": "stream",
     "text": [
      "<class 'pandas.core.frame.DataFrame'>\n",
      "Int64Index: 4930 entries, 5609 to 5679\n",
      "Data columns (total 20 columns):\n",
      " #   Column                 Non-Null Count  Dtype  \n",
      "---  ------                 --------------  -----  \n",
      " 0   gender                 4930 non-null   object \n",
      " 1   senior_citizen         4930 non-null   int64  \n",
      " 2   partner                4930 non-null   object \n",
      " 3   dependents             4930 non-null   object \n",
      " 4   tenure                 4930 non-null   int64  \n",
      " 5   phone_service          4930 non-null   object \n",
      " 6   multiple_lines         4930 non-null   object \n",
      " 7   online_security        4930 non-null   object \n",
      " 8   online_backup          4930 non-null   object \n",
      " 9   device_protection      4930 non-null   object \n",
      " 10  tech_support           4930 non-null   object \n",
      " 11  streaming_tv           4930 non-null   object \n",
      " 12  streaming_movies       4930 non-null   object \n",
      " 13  paperless_billing      4930 non-null   object \n",
      " 14  monthly_charges        4930 non-null   float64\n",
      " 15  total_charges          4930 non-null   float64\n",
      " 16  churn                  4930 non-null   object \n",
      " 17  payment_type           4930 non-null   object \n",
      " 18  contract_type          4930 non-null   object \n",
      " 19  internet_service_type  4930 non-null   object \n",
      "dtypes: float64(2), int64(2), object(16)\n",
      "memory usage: 808.8+ KB\n"
     ]
    }
   ],
   "source": [
    "train.info()"
   ]
  },
  {
   "cell_type": "code",
   "execution_count": 73,
   "id": "2676f919",
   "metadata": {},
   "outputs": [],
   "source": [
    "#dropping columns I found insignificant\n",
    "train = preprocess.drop_insign(train)\n",
    "val = preprocess.drop_insign(val)"
   ]
  },
  {
   "cell_type": "code",
   "execution_count": 74,
   "id": "35892379",
   "metadata": {},
   "outputs": [],
   "source": [
    "#converted churn values to 1/0.\n",
    "train['churn'] = train['churn'].map({'Yes': 1, 'No': 0})"
   ]
  },
  {
   "cell_type": "code",
   "execution_count": 75,
   "id": "05ba9e2f",
   "metadata": {},
   "outputs": [],
   "source": [
    "#converted churn values to 1/0.\n",
    "val['churn'] = val['churn'].map({'Yes': 1, 'No': 0})"
   ]
  },
  {
   "cell_type": "markdown",
   "id": "bc24557c",
   "metadata": {},
   "source": [
    "## Modeling"
   ]
  },
  {
   "cell_type": "code",
   "execution_count": 76,
   "id": "efcb0531",
   "metadata": {
    "scrolled": true
   },
   "outputs": [
    {
     "ename": "KeyError",
     "evalue": "\"['streaming_movies_No internet service'] not found in axis\"",
     "output_type": "error",
     "traceback": [
      "\u001b[0;31m---------------------------------------------------------------------------\u001b[0m",
      "\u001b[0;31mKeyError\u001b[0m                                  Traceback (most recent call last)",
      "Cell \u001b[0;32mIn[76], line 6\u001b[0m\n\u001b[1;32m      3\u001b[0m y_train \u001b[38;5;241m=\u001b[39m train\u001b[38;5;241m.\u001b[39mchurn\n\u001b[1;32m      5\u001b[0m X_train \u001b[38;5;241m=\u001b[39m pd\u001b[38;5;241m.\u001b[39mget_dummies(X_train)\n\u001b[0;32m----> 6\u001b[0m X_train \u001b[38;5;241m=\u001b[39m X_train\u001b[38;5;241m.\u001b[39mdrop(columns \u001b[38;5;241m=\u001b[39m [\u001b[38;5;124m'\u001b[39m\u001b[38;5;124monline_security_No internet service\u001b[39m\u001b[38;5;124m'\u001b[39m, \u001b[38;5;124m'\u001b[39m\u001b[38;5;124monline_backup_No internet service\u001b[39m\u001b[38;5;124m'\u001b[39m, \u001b[38;5;124m'\u001b[39m\u001b[38;5;124mdevice_protection_No internet service\u001b[39m\u001b[38;5;124m'\u001b[39m, \u001b[38;5;124m'\u001b[39m\u001b[38;5;124mtech_support_No internet service\u001b[39m\u001b[38;5;124m'\u001b[39m, \u001b[38;5;124m'\u001b[39m\u001b[38;5;124mstreaming_tv_No internet service\u001b[39m\u001b[38;5;124m'\u001b[39m, \u001b[38;5;124m'\u001b[39m\u001b[38;5;124mstreaming_movies_No internet service\u001b[39m\u001b[38;5;124m'\u001b[39m])\n\u001b[1;32m      7\u001b[0m X_train\u001b[38;5;241m.\u001b[39mhead()\n",
      "File \u001b[0;32m/usr/local/anaconda3/lib/python3.11/site-packages/pandas/util/_decorators.py:331\u001b[0m, in \u001b[0;36mdeprecate_nonkeyword_arguments.<locals>.decorate.<locals>.wrapper\u001b[0;34m(*args, **kwargs)\u001b[0m\n\u001b[1;32m    325\u001b[0m \u001b[38;5;28;01mif\u001b[39;00m \u001b[38;5;28mlen\u001b[39m(args) \u001b[38;5;241m>\u001b[39m num_allow_args:\n\u001b[1;32m    326\u001b[0m     warnings\u001b[38;5;241m.\u001b[39mwarn(\n\u001b[1;32m    327\u001b[0m         msg\u001b[38;5;241m.\u001b[39mformat(arguments\u001b[38;5;241m=\u001b[39m_format_argument_list(allow_args)),\n\u001b[1;32m    328\u001b[0m         \u001b[38;5;167;01mFutureWarning\u001b[39;00m,\n\u001b[1;32m    329\u001b[0m         stacklevel\u001b[38;5;241m=\u001b[39mfind_stack_level(),\n\u001b[1;32m    330\u001b[0m     )\n\u001b[0;32m--> 331\u001b[0m \u001b[38;5;28;01mreturn\u001b[39;00m func(\u001b[38;5;241m*\u001b[39margs, \u001b[38;5;241m*\u001b[39m\u001b[38;5;241m*\u001b[39mkwargs)\n",
      "File \u001b[0;32m/usr/local/anaconda3/lib/python3.11/site-packages/pandas/core/frame.py:5399\u001b[0m, in \u001b[0;36mDataFrame.drop\u001b[0;34m(self, labels, axis, index, columns, level, inplace, errors)\u001b[0m\n\u001b[1;32m   5251\u001b[0m \u001b[38;5;129m@deprecate_nonkeyword_arguments\u001b[39m(version\u001b[38;5;241m=\u001b[39m\u001b[38;5;28;01mNone\u001b[39;00m, allowed_args\u001b[38;5;241m=\u001b[39m[\u001b[38;5;124m\"\u001b[39m\u001b[38;5;124mself\u001b[39m\u001b[38;5;124m\"\u001b[39m, \u001b[38;5;124m\"\u001b[39m\u001b[38;5;124mlabels\u001b[39m\u001b[38;5;124m\"\u001b[39m])\n\u001b[1;32m   5252\u001b[0m \u001b[38;5;28;01mdef\u001b[39;00m \u001b[38;5;21mdrop\u001b[39m(  \u001b[38;5;66;03m# type: ignore[override]\u001b[39;00m\n\u001b[1;32m   5253\u001b[0m     \u001b[38;5;28mself\u001b[39m,\n\u001b[0;32m   (...)\u001b[0m\n\u001b[1;32m   5260\u001b[0m     errors: IgnoreRaise \u001b[38;5;241m=\u001b[39m \u001b[38;5;124m\"\u001b[39m\u001b[38;5;124mraise\u001b[39m\u001b[38;5;124m\"\u001b[39m,\n\u001b[1;32m   5261\u001b[0m ) \u001b[38;5;241m-\u001b[39m\u001b[38;5;241m>\u001b[39m DataFrame \u001b[38;5;241m|\u001b[39m \u001b[38;5;28;01mNone\u001b[39;00m:\n\u001b[1;32m   5262\u001b[0m \u001b[38;5;250m    \u001b[39m\u001b[38;5;124;03m\"\"\"\u001b[39;00m\n\u001b[1;32m   5263\u001b[0m \u001b[38;5;124;03m    Drop specified labels from rows or columns.\u001b[39;00m\n\u001b[1;32m   5264\u001b[0m \n\u001b[0;32m   (...)\u001b[0m\n\u001b[1;32m   5397\u001b[0m \u001b[38;5;124;03m            weight  1.0     0.8\u001b[39;00m\n\u001b[1;32m   5398\u001b[0m \u001b[38;5;124;03m    \"\"\"\u001b[39;00m\n\u001b[0;32m-> 5399\u001b[0m     \u001b[38;5;28;01mreturn\u001b[39;00m \u001b[38;5;28msuper\u001b[39m()\u001b[38;5;241m.\u001b[39mdrop(\n\u001b[1;32m   5400\u001b[0m         labels\u001b[38;5;241m=\u001b[39mlabels,\n\u001b[1;32m   5401\u001b[0m         axis\u001b[38;5;241m=\u001b[39maxis,\n\u001b[1;32m   5402\u001b[0m         index\u001b[38;5;241m=\u001b[39mindex,\n\u001b[1;32m   5403\u001b[0m         columns\u001b[38;5;241m=\u001b[39mcolumns,\n\u001b[1;32m   5404\u001b[0m         level\u001b[38;5;241m=\u001b[39mlevel,\n\u001b[1;32m   5405\u001b[0m         inplace\u001b[38;5;241m=\u001b[39minplace,\n\u001b[1;32m   5406\u001b[0m         errors\u001b[38;5;241m=\u001b[39merrors,\n\u001b[1;32m   5407\u001b[0m     )\n",
      "File \u001b[0;32m/usr/local/anaconda3/lib/python3.11/site-packages/pandas/util/_decorators.py:331\u001b[0m, in \u001b[0;36mdeprecate_nonkeyword_arguments.<locals>.decorate.<locals>.wrapper\u001b[0;34m(*args, **kwargs)\u001b[0m\n\u001b[1;32m    325\u001b[0m \u001b[38;5;28;01mif\u001b[39;00m \u001b[38;5;28mlen\u001b[39m(args) \u001b[38;5;241m>\u001b[39m num_allow_args:\n\u001b[1;32m    326\u001b[0m     warnings\u001b[38;5;241m.\u001b[39mwarn(\n\u001b[1;32m    327\u001b[0m         msg\u001b[38;5;241m.\u001b[39mformat(arguments\u001b[38;5;241m=\u001b[39m_format_argument_list(allow_args)),\n\u001b[1;32m    328\u001b[0m         \u001b[38;5;167;01mFutureWarning\u001b[39;00m,\n\u001b[1;32m    329\u001b[0m         stacklevel\u001b[38;5;241m=\u001b[39mfind_stack_level(),\n\u001b[1;32m    330\u001b[0m     )\n\u001b[0;32m--> 331\u001b[0m \u001b[38;5;28;01mreturn\u001b[39;00m func(\u001b[38;5;241m*\u001b[39margs, \u001b[38;5;241m*\u001b[39m\u001b[38;5;241m*\u001b[39mkwargs)\n",
      "File \u001b[0;32m/usr/local/anaconda3/lib/python3.11/site-packages/pandas/core/generic.py:4505\u001b[0m, in \u001b[0;36mNDFrame.drop\u001b[0;34m(self, labels, axis, index, columns, level, inplace, errors)\u001b[0m\n\u001b[1;32m   4503\u001b[0m \u001b[38;5;28;01mfor\u001b[39;00m axis, labels \u001b[38;5;129;01min\u001b[39;00m axes\u001b[38;5;241m.\u001b[39mitems():\n\u001b[1;32m   4504\u001b[0m     \u001b[38;5;28;01mif\u001b[39;00m labels \u001b[38;5;129;01mis\u001b[39;00m \u001b[38;5;129;01mnot\u001b[39;00m \u001b[38;5;28;01mNone\u001b[39;00m:\n\u001b[0;32m-> 4505\u001b[0m         obj \u001b[38;5;241m=\u001b[39m obj\u001b[38;5;241m.\u001b[39m_drop_axis(labels, axis, level\u001b[38;5;241m=\u001b[39mlevel, errors\u001b[38;5;241m=\u001b[39merrors)\n\u001b[1;32m   4507\u001b[0m \u001b[38;5;28;01mif\u001b[39;00m inplace:\n\u001b[1;32m   4508\u001b[0m     \u001b[38;5;28mself\u001b[39m\u001b[38;5;241m.\u001b[39m_update_inplace(obj)\n",
      "File \u001b[0;32m/usr/local/anaconda3/lib/python3.11/site-packages/pandas/core/generic.py:4546\u001b[0m, in \u001b[0;36mNDFrame._drop_axis\u001b[0;34m(self, labels, axis, level, errors, only_slice)\u001b[0m\n\u001b[1;32m   4544\u001b[0m         new_axis \u001b[38;5;241m=\u001b[39m axis\u001b[38;5;241m.\u001b[39mdrop(labels, level\u001b[38;5;241m=\u001b[39mlevel, errors\u001b[38;5;241m=\u001b[39merrors)\n\u001b[1;32m   4545\u001b[0m     \u001b[38;5;28;01melse\u001b[39;00m:\n\u001b[0;32m-> 4546\u001b[0m         new_axis \u001b[38;5;241m=\u001b[39m axis\u001b[38;5;241m.\u001b[39mdrop(labels, errors\u001b[38;5;241m=\u001b[39merrors)\n\u001b[1;32m   4547\u001b[0m     indexer \u001b[38;5;241m=\u001b[39m axis\u001b[38;5;241m.\u001b[39mget_indexer(new_axis)\n\u001b[1;32m   4549\u001b[0m \u001b[38;5;66;03m# Case for non-unique axis\u001b[39;00m\n\u001b[1;32m   4550\u001b[0m \u001b[38;5;28;01melse\u001b[39;00m:\n",
      "File \u001b[0;32m/usr/local/anaconda3/lib/python3.11/site-packages/pandas/core/indexes/base.py:6934\u001b[0m, in \u001b[0;36mIndex.drop\u001b[0;34m(self, labels, errors)\u001b[0m\n\u001b[1;32m   6932\u001b[0m \u001b[38;5;28;01mif\u001b[39;00m mask\u001b[38;5;241m.\u001b[39many():\n\u001b[1;32m   6933\u001b[0m     \u001b[38;5;28;01mif\u001b[39;00m errors \u001b[38;5;241m!=\u001b[39m \u001b[38;5;124m\"\u001b[39m\u001b[38;5;124mignore\u001b[39m\u001b[38;5;124m\"\u001b[39m:\n\u001b[0;32m-> 6934\u001b[0m         \u001b[38;5;28;01mraise\u001b[39;00m \u001b[38;5;167;01mKeyError\u001b[39;00m(\u001b[38;5;124mf\u001b[39m\u001b[38;5;124m\"\u001b[39m\u001b[38;5;132;01m{\u001b[39;00m\u001b[38;5;28mlist\u001b[39m(labels[mask])\u001b[38;5;132;01m}\u001b[39;00m\u001b[38;5;124m not found in axis\u001b[39m\u001b[38;5;124m\"\u001b[39m)\n\u001b[1;32m   6935\u001b[0m     indexer \u001b[38;5;241m=\u001b[39m indexer[\u001b[38;5;241m~\u001b[39mmask]\n\u001b[1;32m   6936\u001b[0m \u001b[38;5;28;01mreturn\u001b[39;00m \u001b[38;5;28mself\u001b[39m\u001b[38;5;241m.\u001b[39mdelete(indexer)\n",
      "\u001b[0;31mKeyError\u001b[0m: \"['streaming_movies_No internet service'] not found in axis\""
     ]
    }
   ],
   "source": [
    "#X,y split test and get dummies\n",
    "X_train = train.drop(columns = 'churn')\n",
    "y_train = train.churn\n",
    "\n",
    "X_train = pd.get_dummies(X_train)\n",
    "X_train = X_train.drop(columns = ['online_security_No internet service', 'online_backup_No internet service', 'device_protection_No internet service', 'tech_support_No internet service', 'streaming_tv_No internet service', 'streaming_movies_No internet service'])\n",
    "X_train.head()"
   ]
  },
  {
   "cell_type": "code",
   "execution_count": 77,
   "id": "2b09c77b",
   "metadata": {
    "scrolled": false
   },
   "outputs": [
    {
     "ename": "KeyError",
     "evalue": "\"['streaming_movies_No internet service'] not found in axis\"",
     "output_type": "error",
     "traceback": [
      "\u001b[0;31m---------------------------------------------------------------------------\u001b[0m",
      "\u001b[0;31mKeyError\u001b[0m                                  Traceback (most recent call last)",
      "Cell \u001b[0;32mIn[77], line 6\u001b[0m\n\u001b[1;32m      3\u001b[0m y_val \u001b[38;5;241m=\u001b[39m val\u001b[38;5;241m.\u001b[39mchurn\n\u001b[1;32m      5\u001b[0m X_val \u001b[38;5;241m=\u001b[39m pd\u001b[38;5;241m.\u001b[39mget_dummies(X_val)\n\u001b[0;32m----> 6\u001b[0m X_val \u001b[38;5;241m=\u001b[39m X_val\u001b[38;5;241m.\u001b[39mdrop(columns \u001b[38;5;241m=\u001b[39m [\u001b[38;5;124m'\u001b[39m\u001b[38;5;124monline_security_No internet service\u001b[39m\u001b[38;5;124m'\u001b[39m, \u001b[38;5;124m'\u001b[39m\u001b[38;5;124monline_backup_No internet service\u001b[39m\u001b[38;5;124m'\u001b[39m, \u001b[38;5;124m'\u001b[39m\u001b[38;5;124mdevice_protection_No internet service\u001b[39m\u001b[38;5;124m'\u001b[39m, \u001b[38;5;124m'\u001b[39m\u001b[38;5;124mtech_support_No internet service\u001b[39m\u001b[38;5;124m'\u001b[39m, \u001b[38;5;124m'\u001b[39m\u001b[38;5;124mstreaming_tv_No internet service\u001b[39m\u001b[38;5;124m'\u001b[39m, \u001b[38;5;124m'\u001b[39m\u001b[38;5;124mstreaming_movies_No internet service\u001b[39m\u001b[38;5;124m'\u001b[39m])\n\u001b[1;32m      7\u001b[0m X_val\u001b[38;5;241m.\u001b[39mhead()\n",
      "File \u001b[0;32m/usr/local/anaconda3/lib/python3.11/site-packages/pandas/util/_decorators.py:331\u001b[0m, in \u001b[0;36mdeprecate_nonkeyword_arguments.<locals>.decorate.<locals>.wrapper\u001b[0;34m(*args, **kwargs)\u001b[0m\n\u001b[1;32m    325\u001b[0m \u001b[38;5;28;01mif\u001b[39;00m \u001b[38;5;28mlen\u001b[39m(args) \u001b[38;5;241m>\u001b[39m num_allow_args:\n\u001b[1;32m    326\u001b[0m     warnings\u001b[38;5;241m.\u001b[39mwarn(\n\u001b[1;32m    327\u001b[0m         msg\u001b[38;5;241m.\u001b[39mformat(arguments\u001b[38;5;241m=\u001b[39m_format_argument_list(allow_args)),\n\u001b[1;32m    328\u001b[0m         \u001b[38;5;167;01mFutureWarning\u001b[39;00m,\n\u001b[1;32m    329\u001b[0m         stacklevel\u001b[38;5;241m=\u001b[39mfind_stack_level(),\n\u001b[1;32m    330\u001b[0m     )\n\u001b[0;32m--> 331\u001b[0m \u001b[38;5;28;01mreturn\u001b[39;00m func(\u001b[38;5;241m*\u001b[39margs, \u001b[38;5;241m*\u001b[39m\u001b[38;5;241m*\u001b[39mkwargs)\n",
      "File \u001b[0;32m/usr/local/anaconda3/lib/python3.11/site-packages/pandas/core/frame.py:5399\u001b[0m, in \u001b[0;36mDataFrame.drop\u001b[0;34m(self, labels, axis, index, columns, level, inplace, errors)\u001b[0m\n\u001b[1;32m   5251\u001b[0m \u001b[38;5;129m@deprecate_nonkeyword_arguments\u001b[39m(version\u001b[38;5;241m=\u001b[39m\u001b[38;5;28;01mNone\u001b[39;00m, allowed_args\u001b[38;5;241m=\u001b[39m[\u001b[38;5;124m\"\u001b[39m\u001b[38;5;124mself\u001b[39m\u001b[38;5;124m\"\u001b[39m, \u001b[38;5;124m\"\u001b[39m\u001b[38;5;124mlabels\u001b[39m\u001b[38;5;124m\"\u001b[39m])\n\u001b[1;32m   5252\u001b[0m \u001b[38;5;28;01mdef\u001b[39;00m \u001b[38;5;21mdrop\u001b[39m(  \u001b[38;5;66;03m# type: ignore[override]\u001b[39;00m\n\u001b[1;32m   5253\u001b[0m     \u001b[38;5;28mself\u001b[39m,\n\u001b[0;32m   (...)\u001b[0m\n\u001b[1;32m   5260\u001b[0m     errors: IgnoreRaise \u001b[38;5;241m=\u001b[39m \u001b[38;5;124m\"\u001b[39m\u001b[38;5;124mraise\u001b[39m\u001b[38;5;124m\"\u001b[39m,\n\u001b[1;32m   5261\u001b[0m ) \u001b[38;5;241m-\u001b[39m\u001b[38;5;241m>\u001b[39m DataFrame \u001b[38;5;241m|\u001b[39m \u001b[38;5;28;01mNone\u001b[39;00m:\n\u001b[1;32m   5262\u001b[0m \u001b[38;5;250m    \u001b[39m\u001b[38;5;124;03m\"\"\"\u001b[39;00m\n\u001b[1;32m   5263\u001b[0m \u001b[38;5;124;03m    Drop specified labels from rows or columns.\u001b[39;00m\n\u001b[1;32m   5264\u001b[0m \n\u001b[0;32m   (...)\u001b[0m\n\u001b[1;32m   5397\u001b[0m \u001b[38;5;124;03m            weight  1.0     0.8\u001b[39;00m\n\u001b[1;32m   5398\u001b[0m \u001b[38;5;124;03m    \"\"\"\u001b[39;00m\n\u001b[0;32m-> 5399\u001b[0m     \u001b[38;5;28;01mreturn\u001b[39;00m \u001b[38;5;28msuper\u001b[39m()\u001b[38;5;241m.\u001b[39mdrop(\n\u001b[1;32m   5400\u001b[0m         labels\u001b[38;5;241m=\u001b[39mlabels,\n\u001b[1;32m   5401\u001b[0m         axis\u001b[38;5;241m=\u001b[39maxis,\n\u001b[1;32m   5402\u001b[0m         index\u001b[38;5;241m=\u001b[39mindex,\n\u001b[1;32m   5403\u001b[0m         columns\u001b[38;5;241m=\u001b[39mcolumns,\n\u001b[1;32m   5404\u001b[0m         level\u001b[38;5;241m=\u001b[39mlevel,\n\u001b[1;32m   5405\u001b[0m         inplace\u001b[38;5;241m=\u001b[39minplace,\n\u001b[1;32m   5406\u001b[0m         errors\u001b[38;5;241m=\u001b[39merrors,\n\u001b[1;32m   5407\u001b[0m     )\n",
      "File \u001b[0;32m/usr/local/anaconda3/lib/python3.11/site-packages/pandas/util/_decorators.py:331\u001b[0m, in \u001b[0;36mdeprecate_nonkeyword_arguments.<locals>.decorate.<locals>.wrapper\u001b[0;34m(*args, **kwargs)\u001b[0m\n\u001b[1;32m    325\u001b[0m \u001b[38;5;28;01mif\u001b[39;00m \u001b[38;5;28mlen\u001b[39m(args) \u001b[38;5;241m>\u001b[39m num_allow_args:\n\u001b[1;32m    326\u001b[0m     warnings\u001b[38;5;241m.\u001b[39mwarn(\n\u001b[1;32m    327\u001b[0m         msg\u001b[38;5;241m.\u001b[39mformat(arguments\u001b[38;5;241m=\u001b[39m_format_argument_list(allow_args)),\n\u001b[1;32m    328\u001b[0m         \u001b[38;5;167;01mFutureWarning\u001b[39;00m,\n\u001b[1;32m    329\u001b[0m         stacklevel\u001b[38;5;241m=\u001b[39mfind_stack_level(),\n\u001b[1;32m    330\u001b[0m     )\n\u001b[0;32m--> 331\u001b[0m \u001b[38;5;28;01mreturn\u001b[39;00m func(\u001b[38;5;241m*\u001b[39margs, \u001b[38;5;241m*\u001b[39m\u001b[38;5;241m*\u001b[39mkwargs)\n",
      "File \u001b[0;32m/usr/local/anaconda3/lib/python3.11/site-packages/pandas/core/generic.py:4505\u001b[0m, in \u001b[0;36mNDFrame.drop\u001b[0;34m(self, labels, axis, index, columns, level, inplace, errors)\u001b[0m\n\u001b[1;32m   4503\u001b[0m \u001b[38;5;28;01mfor\u001b[39;00m axis, labels \u001b[38;5;129;01min\u001b[39;00m axes\u001b[38;5;241m.\u001b[39mitems():\n\u001b[1;32m   4504\u001b[0m     \u001b[38;5;28;01mif\u001b[39;00m labels \u001b[38;5;129;01mis\u001b[39;00m \u001b[38;5;129;01mnot\u001b[39;00m \u001b[38;5;28;01mNone\u001b[39;00m:\n\u001b[0;32m-> 4505\u001b[0m         obj \u001b[38;5;241m=\u001b[39m obj\u001b[38;5;241m.\u001b[39m_drop_axis(labels, axis, level\u001b[38;5;241m=\u001b[39mlevel, errors\u001b[38;5;241m=\u001b[39merrors)\n\u001b[1;32m   4507\u001b[0m \u001b[38;5;28;01mif\u001b[39;00m inplace:\n\u001b[1;32m   4508\u001b[0m     \u001b[38;5;28mself\u001b[39m\u001b[38;5;241m.\u001b[39m_update_inplace(obj)\n",
      "File \u001b[0;32m/usr/local/anaconda3/lib/python3.11/site-packages/pandas/core/generic.py:4546\u001b[0m, in \u001b[0;36mNDFrame._drop_axis\u001b[0;34m(self, labels, axis, level, errors, only_slice)\u001b[0m\n\u001b[1;32m   4544\u001b[0m         new_axis \u001b[38;5;241m=\u001b[39m axis\u001b[38;5;241m.\u001b[39mdrop(labels, level\u001b[38;5;241m=\u001b[39mlevel, errors\u001b[38;5;241m=\u001b[39merrors)\n\u001b[1;32m   4545\u001b[0m     \u001b[38;5;28;01melse\u001b[39;00m:\n\u001b[0;32m-> 4546\u001b[0m         new_axis \u001b[38;5;241m=\u001b[39m axis\u001b[38;5;241m.\u001b[39mdrop(labels, errors\u001b[38;5;241m=\u001b[39merrors)\n\u001b[1;32m   4547\u001b[0m     indexer \u001b[38;5;241m=\u001b[39m axis\u001b[38;5;241m.\u001b[39mget_indexer(new_axis)\n\u001b[1;32m   4549\u001b[0m \u001b[38;5;66;03m# Case for non-unique axis\u001b[39;00m\n\u001b[1;32m   4550\u001b[0m \u001b[38;5;28;01melse\u001b[39;00m:\n",
      "File \u001b[0;32m/usr/local/anaconda3/lib/python3.11/site-packages/pandas/core/indexes/base.py:6934\u001b[0m, in \u001b[0;36mIndex.drop\u001b[0;34m(self, labels, errors)\u001b[0m\n\u001b[1;32m   6932\u001b[0m \u001b[38;5;28;01mif\u001b[39;00m mask\u001b[38;5;241m.\u001b[39many():\n\u001b[1;32m   6933\u001b[0m     \u001b[38;5;28;01mif\u001b[39;00m errors \u001b[38;5;241m!=\u001b[39m \u001b[38;5;124m\"\u001b[39m\u001b[38;5;124mignore\u001b[39m\u001b[38;5;124m\"\u001b[39m:\n\u001b[0;32m-> 6934\u001b[0m         \u001b[38;5;28;01mraise\u001b[39;00m \u001b[38;5;167;01mKeyError\u001b[39;00m(\u001b[38;5;124mf\u001b[39m\u001b[38;5;124m\"\u001b[39m\u001b[38;5;132;01m{\u001b[39;00m\u001b[38;5;28mlist\u001b[39m(labels[mask])\u001b[38;5;132;01m}\u001b[39;00m\u001b[38;5;124m not found in axis\u001b[39m\u001b[38;5;124m\"\u001b[39m)\n\u001b[1;32m   6935\u001b[0m     indexer \u001b[38;5;241m=\u001b[39m indexer[\u001b[38;5;241m~\u001b[39mmask]\n\u001b[1;32m   6936\u001b[0m \u001b[38;5;28;01mreturn\u001b[39;00m \u001b[38;5;28mself\u001b[39m\u001b[38;5;241m.\u001b[39mdelete(indexer)\n",
      "\u001b[0;31mKeyError\u001b[0m: \"['streaming_movies_No internet service'] not found in axis\""
     ]
    }
   ],
   "source": [
    "##X,y split val and get dummies\n",
    "X_val = val.drop(columns = 'churn')\n",
    "y_val = val.churn\n",
    "\n",
    "X_val = pd.get_dummies(X_val)\n",
    "X_val = X_val.drop(columns = ['online_security_No internet service', 'online_backup_No internet service', 'device_protection_No internet service', 'tech_support_No internet service', 'streaming_tv_No internet service', 'streaming_movies_No internet service'])\n",
    "X_val.head()"
   ]
  },
  {
   "cell_type": "markdown",
   "id": "cd3a18b4",
   "metadata": {},
   "source": [
    "## Baseline"
   ]
  },
  {
   "cell_type": "code",
   "execution_count": 78,
   "id": "5b9fa67e",
   "metadata": {
    "scrolled": true
   },
   "outputs": [
    {
     "name": "stdout",
     "output_type": "stream",
     "text": [
      "<class 'pandas.core.series.Series'>\n",
      "Int64Index: 4930 entries, 5609 to 5679\n",
      "Series name: churn\n",
      "Non-Null Count  Dtype\n",
      "--------------  -----\n",
      "4930 non-null   int64\n",
      "dtypes: int64(1)\n",
      "memory usage: 77.0 KB\n"
     ]
    }
   ],
   "source": [
    "#making sure dtype is integer.\n",
    "y_train.info()"
   ]
  },
  {
   "cell_type": "code",
   "execution_count": 79,
   "id": "05636b86",
   "metadata": {},
   "outputs": [
    {
     "data": {
      "text/plain": [
       "0    0\n",
       "Name: churn, dtype: int64"
      ]
     },
     "execution_count": 79,
     "metadata": {},
     "output_type": "execute_result"
    }
   ],
   "source": [
    "#found the mode for values.\n",
    "y_train.mode()"
   ]
  },
  {
   "cell_type": "code",
   "execution_count": 80,
   "id": "ca131c05",
   "metadata": {},
   "outputs": [
    {
     "name": "stdout",
     "output_type": "stream",
     "text": [
      "Baseline = 0.734685598377282\n"
     ]
    }
   ],
   "source": [
    "#since mode is 0 I will find the mean of all those values for a baseline\n",
    "print(f'Baseline = {(y_train == 0).mean()}')"
   ]
  },
  {
   "cell_type": "code",
   "execution_count": 81,
   "id": "48b37daf",
   "metadata": {},
   "outputs": [
    {
     "data": {
      "text/html": [
       "<style>#sk-container-id-1 {color: black;background-color: white;}#sk-container-id-1 pre{padding: 0;}#sk-container-id-1 div.sk-toggleable {background-color: white;}#sk-container-id-1 label.sk-toggleable__label {cursor: pointer;display: block;width: 100%;margin-bottom: 0;padding: 0.3em;box-sizing: border-box;text-align: center;}#sk-container-id-1 label.sk-toggleable__label-arrow:before {content: \"▸\";float: left;margin-right: 0.25em;color: #696969;}#sk-container-id-1 label.sk-toggleable__label-arrow:hover:before {color: black;}#sk-container-id-1 div.sk-estimator:hover label.sk-toggleable__label-arrow:before {color: black;}#sk-container-id-1 div.sk-toggleable__content {max-height: 0;max-width: 0;overflow: hidden;text-align: left;background-color: #f0f8ff;}#sk-container-id-1 div.sk-toggleable__content pre {margin: 0.2em;color: black;border-radius: 0.25em;background-color: #f0f8ff;}#sk-container-id-1 input.sk-toggleable__control:checked~div.sk-toggleable__content {max-height: 200px;max-width: 100%;overflow: auto;}#sk-container-id-1 input.sk-toggleable__control:checked~label.sk-toggleable__label-arrow:before {content: \"▾\";}#sk-container-id-1 div.sk-estimator input.sk-toggleable__control:checked~label.sk-toggleable__label {background-color: #d4ebff;}#sk-container-id-1 div.sk-label input.sk-toggleable__control:checked~label.sk-toggleable__label {background-color: #d4ebff;}#sk-container-id-1 input.sk-hidden--visually {border: 0;clip: rect(1px 1px 1px 1px);clip: rect(1px, 1px, 1px, 1px);height: 1px;margin: -1px;overflow: hidden;padding: 0;position: absolute;width: 1px;}#sk-container-id-1 div.sk-estimator {font-family: monospace;background-color: #f0f8ff;border: 1px dotted black;border-radius: 0.25em;box-sizing: border-box;margin-bottom: 0.5em;}#sk-container-id-1 div.sk-estimator:hover {background-color: #d4ebff;}#sk-container-id-1 div.sk-parallel-item::after {content: \"\";width: 100%;border-bottom: 1px solid gray;flex-grow: 1;}#sk-container-id-1 div.sk-label:hover label.sk-toggleable__label {background-color: #d4ebff;}#sk-container-id-1 div.sk-serial::before {content: \"\";position: absolute;border-left: 1px solid gray;box-sizing: border-box;top: 0;bottom: 0;left: 50%;z-index: 0;}#sk-container-id-1 div.sk-serial {display: flex;flex-direction: column;align-items: center;background-color: white;padding-right: 0.2em;padding-left: 0.2em;position: relative;}#sk-container-id-1 div.sk-item {position: relative;z-index: 1;}#sk-container-id-1 div.sk-parallel {display: flex;align-items: stretch;justify-content: center;background-color: white;position: relative;}#sk-container-id-1 div.sk-item::before, #sk-container-id-1 div.sk-parallel-item::before {content: \"\";position: absolute;border-left: 1px solid gray;box-sizing: border-box;top: 0;bottom: 0;left: 50%;z-index: -1;}#sk-container-id-1 div.sk-parallel-item {display: flex;flex-direction: column;z-index: 1;position: relative;background-color: white;}#sk-container-id-1 div.sk-parallel-item:first-child::after {align-self: flex-end;width: 50%;}#sk-container-id-1 div.sk-parallel-item:last-child::after {align-self: flex-start;width: 50%;}#sk-container-id-1 div.sk-parallel-item:only-child::after {width: 0;}#sk-container-id-1 div.sk-dashed-wrapped {border: 1px dashed gray;margin: 0 0.4em 0.5em 0.4em;box-sizing: border-box;padding-bottom: 0.4em;background-color: white;}#sk-container-id-1 div.sk-label label {font-family: monospace;font-weight: bold;display: inline-block;line-height: 1.2em;}#sk-container-id-1 div.sk-label-container {text-align: center;}#sk-container-id-1 div.sk-container {/* jupyter's `normalize.less` sets `[hidden] { display: none; }` but bootstrap.min.css set `[hidden] { display: none !important; }` so we also need the `!important` here to be able to override the default hidden behavior on the sphinx rendered scikit-learn.org. See: https://github.com/scikit-learn/scikit-learn/issues/21755 */display: inline-block !important;position: relative;}#sk-container-id-1 div.sk-text-repr-fallback {display: none;}</style><div id=\"sk-container-id-1\" class=\"sk-top-container\"><div class=\"sk-text-repr-fallback\"><pre>RandomForestClassifier(max_depth=5, random_state=42)</pre><b>In a Jupyter environment, please rerun this cell to show the HTML representation or trust the notebook. <br />On GitHub, the HTML representation is unable to render, please try loading this page with nbviewer.org.</b></div><div class=\"sk-container\" hidden><div class=\"sk-item\"><div class=\"sk-estimator sk-toggleable\"><input class=\"sk-toggleable__control sk-hidden--visually\" id=\"sk-estimator-id-1\" type=\"checkbox\" checked><label for=\"sk-estimator-id-1\" class=\"sk-toggleable__label sk-toggleable__label-arrow\">RandomForestClassifier</label><div class=\"sk-toggleable__content\"><pre>RandomForestClassifier(max_depth=5, random_state=42)</pre></div></div></div></div></div>"
      ],
      "text/plain": [
       "RandomForestClassifier(max_depth=5, random_state=42)"
      ]
     },
     "execution_count": 81,
     "metadata": {},
     "output_type": "execute_result"
    }
   ],
   "source": [
    "#create a random forest model\n",
    "rf = RandomForestClassifier(\n",
    "                            max_depth=5, \n",
    "                            random_state=42)\n",
    "rf.fit(X_train, y_train)"
   ]
  },
  {
   "cell_type": "code",
   "execution_count": 82,
   "id": "aa958c88",
   "metadata": {
    "scrolled": false
   },
   "outputs": [
    {
     "name": "stdout",
     "output_type": "stream",
     "text": [
      "[0.00244683 0.12322737 0.04153511 0.08603671 0.00228054 0.00244415\n",
      " 0.00482607 0.00297334 0.09623293 0.01146724 0.01464852 0.01458384\n",
      " 0.00703698 0.00564069 0.02121405 0.00595591 0.00207663 0.0807515\n",
      " 0.0127635  0.01350107 0.00215965 0.01528404 0.00252718 0.00538006\n",
      " 0.00940185 0.002128   0.00280959 0.05853873 0.00128064 0.1996403\n",
      " 0.01997452 0.04879926 0.01911321 0.04633139 0.01498857]\n"
     ]
    }
   ],
   "source": [
    "#print importance for all features.\n",
    "print(rf.feature_importances_)\n"
   ]
  },
  {
   "cell_type": "code",
   "execution_count": 83,
   "id": "573c43f3",
   "metadata": {},
   "outputs": [
    {
     "data": {
      "text/html": [
       "<div>\n",
       "<style scoped>\n",
       "    .dataframe tbody tr th:only-of-type {\n",
       "        vertical-align: middle;\n",
       "    }\n",
       "\n",
       "    .dataframe tbody tr th {\n",
       "        vertical-align: top;\n",
       "    }\n",
       "\n",
       "    .dataframe thead th {\n",
       "        text-align: right;\n",
       "    }\n",
       "</style>\n",
       "<table border=\"1\" class=\"dataframe\">\n",
       "  <thead>\n",
       "    <tr style=\"text-align: right;\">\n",
       "      <th></th>\n",
       "      <th>feature</th>\n",
       "      <th>importance</th>\n",
       "    </tr>\n",
       "  </thead>\n",
       "  <tbody>\n",
       "    <tr>\n",
       "      <th>29</th>\n",
       "      <td>contract_type_Month-to-month</td>\n",
       "      <td>0.199640</td>\n",
       "    </tr>\n",
       "    <tr>\n",
       "      <th>1</th>\n",
       "      <td>tenure</td>\n",
       "      <td>0.123227</td>\n",
       "    </tr>\n",
       "    <tr>\n",
       "      <th>8</th>\n",
       "      <td>online_security_No</td>\n",
       "      <td>0.096233</td>\n",
       "    </tr>\n",
       "    <tr>\n",
       "      <th>3</th>\n",
       "      <td>total_charges</td>\n",
       "      <td>0.086037</td>\n",
       "    </tr>\n",
       "    <tr>\n",
       "      <th>17</th>\n",
       "      <td>tech_support_No</td>\n",
       "      <td>0.080752</td>\n",
       "    </tr>\n",
       "    <tr>\n",
       "      <th>27</th>\n",
       "      <td>payment_type_Electronic check</td>\n",
       "      <td>0.058539</td>\n",
       "    </tr>\n",
       "    <tr>\n",
       "      <th>31</th>\n",
       "      <td>contract_type_Two year</td>\n",
       "      <td>0.048799</td>\n",
       "    </tr>\n",
       "    <tr>\n",
       "      <th>33</th>\n",
       "      <td>internet_service_type_Fiber optic</td>\n",
       "      <td>0.046331</td>\n",
       "    </tr>\n",
       "    <tr>\n",
       "      <th>2</th>\n",
       "      <td>monthly_charges</td>\n",
       "      <td>0.041535</td>\n",
       "    </tr>\n",
       "    <tr>\n",
       "      <th>14</th>\n",
       "      <td>device_protection_No</td>\n",
       "      <td>0.021214</td>\n",
       "    </tr>\n",
       "    <tr>\n",
       "      <th>30</th>\n",
       "      <td>contract_type_One year</td>\n",
       "      <td>0.019975</td>\n",
       "    </tr>\n",
       "    <tr>\n",
       "      <th>32</th>\n",
       "      <td>internet_service_type_DSL</td>\n",
       "      <td>0.019113</td>\n",
       "    </tr>\n",
       "    <tr>\n",
       "      <th>21</th>\n",
       "      <td>streaming_tv_No internet service</td>\n",
       "      <td>0.015284</td>\n",
       "    </tr>\n",
       "    <tr>\n",
       "      <th>34</th>\n",
       "      <td>internet_service_type_None</td>\n",
       "      <td>0.014989</td>\n",
       "    </tr>\n",
       "    <tr>\n",
       "      <th>10</th>\n",
       "      <td>online_security_Yes</td>\n",
       "      <td>0.014649</td>\n",
       "    </tr>\n",
       "    <tr>\n",
       "      <th>11</th>\n",
       "      <td>online_backup_No</td>\n",
       "      <td>0.014584</td>\n",
       "    </tr>\n",
       "    <tr>\n",
       "      <th>19</th>\n",
       "      <td>tech_support_Yes</td>\n",
       "      <td>0.013501</td>\n",
       "    </tr>\n",
       "    <tr>\n",
       "      <th>18</th>\n",
       "      <td>tech_support_No internet service</td>\n",
       "      <td>0.012763</td>\n",
       "    </tr>\n",
       "    <tr>\n",
       "      <th>9</th>\n",
       "      <td>online_security_No internet service</td>\n",
       "      <td>0.011467</td>\n",
       "    </tr>\n",
       "    <tr>\n",
       "      <th>24</th>\n",
       "      <td>paperless_billing_Yes</td>\n",
       "      <td>0.009402</td>\n",
       "    </tr>\n",
       "    <tr>\n",
       "      <th>12</th>\n",
       "      <td>online_backup_No internet service</td>\n",
       "      <td>0.007037</td>\n",
       "    </tr>\n",
       "    <tr>\n",
       "      <th>15</th>\n",
       "      <td>device_protection_No internet service</td>\n",
       "      <td>0.005956</td>\n",
       "    </tr>\n",
       "    <tr>\n",
       "      <th>13</th>\n",
       "      <td>online_backup_Yes</td>\n",
       "      <td>0.005641</td>\n",
       "    </tr>\n",
       "    <tr>\n",
       "      <th>23</th>\n",
       "      <td>paperless_billing_No</td>\n",
       "      <td>0.005380</td>\n",
       "    </tr>\n",
       "    <tr>\n",
       "      <th>6</th>\n",
       "      <td>dependents_No</td>\n",
       "      <td>0.004826</td>\n",
       "    </tr>\n",
       "    <tr>\n",
       "      <th>7</th>\n",
       "      <td>dependents_Yes</td>\n",
       "      <td>0.002973</td>\n",
       "    </tr>\n",
       "    <tr>\n",
       "      <th>26</th>\n",
       "      <td>payment_type_Credit card (automatic)</td>\n",
       "      <td>0.002810</td>\n",
       "    </tr>\n",
       "    <tr>\n",
       "      <th>22</th>\n",
       "      <td>streaming_tv_Yes</td>\n",
       "      <td>0.002527</td>\n",
       "    </tr>\n",
       "    <tr>\n",
       "      <th>0</th>\n",
       "      <td>senior_citizen</td>\n",
       "      <td>0.002447</td>\n",
       "    </tr>\n",
       "    <tr>\n",
       "      <th>5</th>\n",
       "      <td>partner_Yes</td>\n",
       "      <td>0.002444</td>\n",
       "    </tr>\n",
       "    <tr>\n",
       "      <th>4</th>\n",
       "      <td>partner_No</td>\n",
       "      <td>0.002281</td>\n",
       "    </tr>\n",
       "    <tr>\n",
       "      <th>20</th>\n",
       "      <td>streaming_tv_No</td>\n",
       "      <td>0.002160</td>\n",
       "    </tr>\n",
       "    <tr>\n",
       "      <th>25</th>\n",
       "      <td>payment_type_Bank transfer (automatic)</td>\n",
       "      <td>0.002128</td>\n",
       "    </tr>\n",
       "    <tr>\n",
       "      <th>16</th>\n",
       "      <td>device_protection_Yes</td>\n",
       "      <td>0.002077</td>\n",
       "    </tr>\n",
       "    <tr>\n",
       "      <th>28</th>\n",
       "      <td>payment_type_Mailed check</td>\n",
       "      <td>0.001281</td>\n",
       "    </tr>\n",
       "  </tbody>\n",
       "</table>\n",
       "</div>"
      ],
      "text/plain": [
       "                                   feature  importance\n",
       "29            contract_type_Month-to-month    0.199640\n",
       "1                                   tenure    0.123227\n",
       "8                       online_security_No    0.096233\n",
       "3                            total_charges    0.086037\n",
       "17                         tech_support_No    0.080752\n",
       "27           payment_type_Electronic check    0.058539\n",
       "31                  contract_type_Two year    0.048799\n",
       "33       internet_service_type_Fiber optic    0.046331\n",
       "2                          monthly_charges    0.041535\n",
       "14                    device_protection_No    0.021214\n",
       "30                  contract_type_One year    0.019975\n",
       "32               internet_service_type_DSL    0.019113\n",
       "21        streaming_tv_No internet service    0.015284\n",
       "34              internet_service_type_None    0.014989\n",
       "10                     online_security_Yes    0.014649\n",
       "11                        online_backup_No    0.014584\n",
       "19                        tech_support_Yes    0.013501\n",
       "18        tech_support_No internet service    0.012763\n",
       "9      online_security_No internet service    0.011467\n",
       "24                   paperless_billing_Yes    0.009402\n",
       "12       online_backup_No internet service    0.007037\n",
       "15   device_protection_No internet service    0.005956\n",
       "13                       online_backup_Yes    0.005641\n",
       "23                    paperless_billing_No    0.005380\n",
       "6                            dependents_No    0.004826\n",
       "7                           dependents_Yes    0.002973\n",
       "26    payment_type_Credit card (automatic)    0.002810\n",
       "22                        streaming_tv_Yes    0.002527\n",
       "0                           senior_citizen    0.002447\n",
       "5                              partner_Yes    0.002444\n",
       "4                               partner_No    0.002281\n",
       "20                         streaming_tv_No    0.002160\n",
       "25  payment_type_Bank transfer (automatic)    0.002128\n",
       "16                   device_protection_Yes    0.002077\n",
       "28               payment_type_Mailed check    0.001281"
      ]
     },
     "execution_count": 83,
     "metadata": {},
     "output_type": "execute_result"
    }
   ],
   "source": [
    "#dataframe of importance for all features.\n",
    "\n",
    "fi = pd.DataFrame({'feature': X_train.columns,\n",
    "             'importance': rf.feature_importances_})\n",
    "\n",
    "fi.sort_values(by = 'importance', ascending = False)"
   ]
  },
  {
   "cell_type": "code",
   "execution_count": 84,
   "id": "ad9b1676",
   "metadata": {},
   "outputs": [
    {
     "name": "stdout",
     "output_type": "stream",
     "text": [
      "Train Accuracy = 0.8089249492900609\n"
     ]
    }
   ],
   "source": [
    "print(f'Train Accuracy = {rf.score(X_train, y_train)}')"
   ]
  },
  {
   "cell_type": "code",
   "execution_count": 85,
   "id": "5c237803",
   "metadata": {},
   "outputs": [
    {
     "name": "stdout",
     "output_type": "stream",
     "text": [
      "Validate Accuracy = 0.7878787878787878\n"
     ]
    }
   ],
   "source": [
    "print(f'Validate Accuracy = {rf.score(X_val, y_val)}')"
   ]
  },
  {
   "cell_type": "code",
   "execution_count": 86,
   "id": "13a6fd93",
   "metadata": {},
   "outputs": [
    {
     "data": {
      "text/plain": [
       "array([1, 0, 1, 0, 0])"
      ]
     },
     "execution_count": 86,
     "metadata": {},
     "output_type": "execute_result"
    }
   ],
   "source": [
    "# MAKE PREDICTIONS BASED OF RELATIONSHIPS YOUR MODEL LEARNED DURING TRAINING TO NEW DATA\n",
    "\n",
    "# INPUT: \n",
    "# DATAFRAME WITH SAME STRUCTURE AND FORMAT AS THE DATA THE MODEL WAS TRAINED ON\n",
    "\n",
    "# OUTPUT:\n",
    "# ARRAY OF OUTCOMES (1,0)\n",
    "\n",
    "y_pred = rf.predict(X_train)\n",
    "\n",
    "y_pred[:5]"
   ]
  },
  {
   "cell_type": "code",
   "execution_count": 87,
   "id": "79f6e690",
   "metadata": {},
   "outputs": [
    {
     "data": {
      "text/plain": [
       "array([[0.46574948, 0.53425052],\n",
       "       [0.69142235, 0.30857765],\n",
       "       [0.48928543, 0.51071457],\n",
       "       ...,\n",
       "       [0.96914764, 0.03085236],\n",
       "       [0.98098351, 0.01901649],\n",
       "       [0.86155755, 0.13844245]])"
      ]
     },
     "execution_count": 87,
     "metadata": {},
     "output_type": "execute_result"
    }
   ],
   "source": [
    "# ESTIMATE THE PROBABILITY OF EACH PREDICTION\n",
    "\n",
    "y_pred_proba = rf.predict_proba(X_train)\n",
    "\n",
    "y_pred_proba"
   ]
  },
  {
   "cell_type": "code",
   "execution_count": 88,
   "id": "be11a76a",
   "metadata": {},
   "outputs": [
    {
     "name": "stdout",
     "output_type": "stream",
     "text": [
      "[[3360  262]\n",
      " [ 680  628]]\n"
     ]
    }
   ],
   "source": [
    "#print confusion matrix.\n",
    "print(confusion_matrix(y_train, y_pred))"
   ]
  },
  {
   "cell_type": "code",
   "execution_count": 89,
   "id": "4691b6cc",
   "metadata": {
    "scrolled": false
   },
   "outputs": [
    {
     "name": "stdout",
     "output_type": "stream",
     "text": [
      "              precision    recall  f1-score   support\n",
      "\n",
      "           0       0.83      0.93      0.88      3622\n",
      "           1       0.71      0.48      0.57      1308\n",
      "\n",
      "    accuracy                           0.81      4930\n",
      "   macro avg       0.77      0.70      0.72      4930\n",
      "weighted avg       0.80      0.81      0.80      4930\n",
      "\n"
     ]
    }
   ],
   "source": [
    "#print classififcation report.\n",
    "print(classification_report(y_train, y_pred))"
   ]
  },
  {
   "cell_type": "code",
   "execution_count": 90,
   "id": "9b231496",
   "metadata": {},
   "outputs": [
    {
     "data": {
      "text/plain": [
       "array([0, 0, 0, 0, 1])"
      ]
     },
     "execution_count": 90,
     "metadata": {},
     "output_type": "execute_result"
    }
   ],
   "source": [
    "#make predictions for val set\n",
    "y_pred = rf.predict(X_val)\n",
    "\n",
    "y_pred[:5]"
   ]
  },
  {
   "cell_type": "code",
   "execution_count": 91,
   "id": "8c3dbcee",
   "metadata": {},
   "outputs": [
    {
     "data": {
      "text/plain": [
       "array([[0.96990352, 0.03009648],\n",
       "       [0.79032164, 0.20967836],\n",
       "       [0.98498788, 0.01501212],\n",
       "       [0.91739305, 0.08260695],\n",
       "       [0.3325962 , 0.6674038 ]])"
      ]
     },
     "execution_count": 91,
     "metadata": {},
     "output_type": "execute_result"
    }
   ],
   "source": [
    "#compute prediction probability for val\n",
    "y_pred_proba = rf.predict_proba(X_val)\n",
    "\n",
    "y_pred_proba[:5]"
   ]
  },
  {
   "cell_type": "code",
   "execution_count": 92,
   "id": "d5634090",
   "metadata": {},
   "outputs": [
    {
     "name": "stdout",
     "output_type": "stream",
     "text": [
      "[[709  67]\n",
      " [157 123]]\n"
     ]
    }
   ],
   "source": [
    "#confusion matrix for val\n",
    "print(confusion_matrix(y_val, y_pred))"
   ]
  },
  {
   "cell_type": "code",
   "execution_count": 93,
   "id": "b69056f2",
   "metadata": {},
   "outputs": [
    {
     "name": "stdout",
     "output_type": "stream",
     "text": [
      "              precision    recall  f1-score   support\n",
      "\n",
      "           0       0.82      0.91      0.86       776\n",
      "           1       0.65      0.44      0.52       280\n",
      "\n",
      "    accuracy                           0.79      1056\n",
      "   macro avg       0.73      0.68      0.69      1056\n",
      "weighted avg       0.77      0.79      0.77      1056\n",
      "\n"
     ]
    }
   ],
   "source": [
    "#classification report for val\n",
    "print(classification_report(y_val, y_pred))"
   ]
  },
  {
   "cell_type": "code",
   "execution_count": null,
   "id": "612f3f0e",
   "metadata": {},
   "outputs": [],
   "source": []
  },
  {
   "cell_type": "code",
   "execution_count": null,
   "id": "cb504031",
   "metadata": {},
   "outputs": [],
   "source": []
  },
  {
   "cell_type": "code",
   "execution_count": null,
   "id": "5f05f5ad",
   "metadata": {},
   "outputs": [],
   "source": []
  }
 ],
 "metadata": {
  "kernelspec": {
   "display_name": "Python 3 (ipykernel)",
   "language": "python",
   "name": "python3"
  },
  "language_info": {
   "codemirror_mode": {
    "name": "ipython",
    "version": 3
   },
   "file_extension": ".py",
   "mimetype": "text/x-python",
   "name": "python",
   "nbconvert_exporter": "python",
   "pygments_lexer": "ipython3",
   "version": "3.11.3"
  }
 },
 "nbformat": 4,
 "nbformat_minor": 5
}
